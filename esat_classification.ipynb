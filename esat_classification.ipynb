{
 "cells": [
  {
   "cell_type": "markdown",
   "metadata": {},
   "source": [
    "# E-satisfaction Assignment "
   ]
  },
  {
   "cell_type": "code",
   "execution_count": 2492,
   "metadata": {},
   "outputs": [],
   "source": [
    "import pandas as pd\n",
    "import numpy as np"
   ]
  },
  {
   "cell_type": "code",
   "execution_count": 2493,
   "metadata": {},
   "outputs": [],
   "source": [
    "df_sm1_jul = pd.read_excel(r\"SM1 - Responses - Jul - Cleaned.xlsx\",  sheet_name='SM1 - Responses - Jul - Cleaned')\n",
    "df_sm1_oct = pd.read_excel(r\"SM1 - Responses - Oct - Cleaned.xlsx\",  sheet_name='SM1 - Responses - Oct - Cleaned')\n",
    "df_sm2_jul = pd.read_excel(r\"SM2 - Responses - Jul - Cleaned.xlsx\",  sheet_name='SM2 - Responses - Jul - Cleaned')\n",
    "df_sm2_oct = pd.read_excel(r\"SM2 - Responses - Oct - Cleaned.xlsx\",  sheet_name='SM2 - Responses - Oct - Cleaned')\n",
    "\n",
    "df_te1_jul = pd.read_excel(r\"Tech 1 - Responses - Jul - Cleaned.xlsx\",  sheet_name='Tech 1 - Responses - Jul - Clea')\n",
    "df_te1_oct = pd.read_excel(r\"Tech 1 - Responses - Oct Cleaned.xlsx\",  sheet_name='Tech 1 - Responses - Oct Cleane')\n",
    "\n",
    "df_te2_jul = pd.read_excel(r\"Tech 2 - Responses - Jul - Cleaned.xlsx\",  sheet_name='Tech 2 - Responses - Jul - Clea')\n",
    "df_te2_oct = pd.read_excel(r\"Tech 2 - Responses - Oct - Cleaned.xlsx\",  sheet_name='Tech 2 - Responses - Oct - Clea')"
   ]
  },
  {
   "cell_type": "code",
   "execution_count": 2494,
   "metadata": {},
   "outputs": [],
   "source": [
    "quest = pd.read_excel(r\"Questions.xlsx\",  sheet_name='Question Titles')"
   ]
  },
  {
   "cell_type": "markdown",
   "metadata": {},
   "source": [
    "# First Super Market"
   ]
  },
  {
   "cell_type": "markdown",
   "metadata": {},
   "source": [
    "## Data Preparation"
   ]
  },
  {
   "cell_type": "markdown",
   "metadata": {},
   "source": [
    "### Titles\n",
    "Here we can see that the titles of the questions were not included in the Sheet that we are working on. In order to have the question_ids along with the titles, we need to merge the two Sheets."
   ]
  },
  {
   "cell_type": "code",
   "execution_count": 2495,
   "metadata": {},
   "outputs": [],
   "source": [
    "df_sm1_jul = pd.merge(df_sm1_jul, \n",
    "               quest[['question_id', 'title']], \n",
    "               on='question_id', \n",
    "               how='inner')\n",
    "df_sm1_oct = pd.merge(df_sm1_oct, \n",
    "               quest[['question_id', 'title']], \n",
    "               on='question_id', \n",
    "               how='inner')"
   ]
  },
  {
   "cell_type": "code",
   "execution_count": 2496,
   "metadata": {},
   "outputs": [],
   "source": [
    "df_s1_jul = pd.DataFrame({'instance_id': []})\n",
    "df_s1_oct = pd.DataFrame({'instance_id': []})"
   ]
  },
  {
   "cell_type": "markdown",
   "metadata": {},
   "source": [
    "### Table for Classification\n",
    "Here we are transforming the dataframe so that it has in the correct form that can be used for the classification. Each question is represented by a column and each row represents a customer that answered the questionnaire given by 'E-satisfaction'."
   ]
  },
  {
   "cell_type": "code",
   "execution_count": 2497,
   "metadata": {},
   "outputs": [],
   "source": [
    "df_s1_jul['instance_id'] = df_sm1_jul['instance_id'].unique().tolist()\n",
    "df_s1_oct['instance_id'] = df_sm1_oct['instance_id'].unique().tolist()\n",
    "\n"
   ]
  },
  {
   "cell_type": "code",
   "execution_count": 2498,
   "metadata": {},
   "outputs": [],
   "source": [
    "def format_table(df,df1, question, col_name):\n",
    "    df_filtered = df[df['question_id'].isin([question])]\n",
    "    df1 = pd.merge(df1, \n",
    "               df_filtered[['instance_id', 'value_extended']], \n",
    "               on='instance_id', \n",
    "               how='inner')\n",
    "    \n",
    "    df1.rename(columns={\"value_extended\": col_name}, inplace = True)\n",
    "        \n",
    "    return df1\n",
    "    "
   ]
  },
  {
   "cell_type": "markdown",
   "metadata": {},
   "source": [
    "### Removing duplicates\n",
    "Some customers have answered the exact same question twice accidentally. Those people are removed from the dataframe."
   ]
  },
  {
   "cell_type": "code",
   "execution_count": 2499,
   "metadata": {},
   "outputs": [],
   "source": [
    "def drop_dup(df):\n",
    "    df1 = df.drop(columns = ['response_id'])\n",
    "    df1.drop_duplicates(inplace = True)\n",
    "    return df1"
   ]
  },
  {
   "cell_type": "code",
   "execution_count": 2500,
   "metadata": {},
   "outputs": [],
   "source": [
    "df_sm1_jul = drop_dup(df_sm1_jul)\n",
    "df_sm1_oct = drop_dup(df_sm1_oct)"
   ]
  },
  {
   "cell_type": "markdown",
   "metadata": {},
   "source": [
    "#### E-shop Satisfaction"
   ]
  },
  {
   "cell_type": "code",
   "execution_count": 2501,
   "metadata": {},
   "outputs": [],
   "source": [
    "df_s1_jul = format_table(df_sm1_jul, df_s1_jul, 'SePDCk8UQHOyRsQpZ9IKVw', \"eshop_sat\")\n",
    "df_s1_oct = format_table(df_sm1_oct, df_s1_oct, 'SePDCk8UQHOyRsQpZ9IKVw', \"eshop_sat\")"
   ]
  },
  {
   "cell_type": "code",
   "execution_count": 2502,
   "metadata": {
    "scrolled": true
   },
   "outputs": [
    {
     "data": {
      "text/plain": [
       "5289"
      ]
     },
     "execution_count": 2502,
     "metadata": {},
     "output_type": "execute_result"
    }
   ],
   "source": [
    "df_s1_jul['instance_id'].unique().size"
   ]
  },
  {
   "cell_type": "markdown",
   "metadata": {},
   "source": [
    "#### E-shop Expectations"
   ]
  },
  {
   "cell_type": "code",
   "execution_count": 2503,
   "metadata": {},
   "outputs": [],
   "source": [
    "df_s1_jul = format_table(df_sm1_jul, df_s1_jul, 'ISUA0kTBafGOAiCmrzLw', \"eshop_exp\")\n",
    "df_s1_oct = format_table(df_sm1_oct, df_s1_oct, 'ISUA0kTBafGOAiCmrzLw', \"eshop_exp\")"
   ]
  },
  {
   "cell_type": "code",
   "execution_count": 2504,
   "metadata": {},
   "outputs": [
    {
     "data": {
      "text/plain": [
       "5006"
      ]
     },
     "execution_count": 2504,
     "metadata": {},
     "output_type": "execute_result"
    }
   ],
   "source": [
    "df_s1_jul['instance_id'].unique().size"
   ]
  },
  {
   "cell_type": "markdown",
   "metadata": {},
   "source": [
    "#### Overall Service"
   ]
  },
  {
   "cell_type": "code",
   "execution_count": 2505,
   "metadata": {},
   "outputs": [],
   "source": [
    "df_s1_jul = format_table(df_sm1_jul, df_s1_jul, 'IEdUxQf9SJ259VLq9OvMkg', \"service\")\n",
    "df_s1_oct = format_table(df_sm1_oct, df_s1_oct, 'IEdUxQf9SJ259VLq9OvMkg', \"service\")"
   ]
  },
  {
   "cell_type": "code",
   "execution_count": 2506,
   "metadata": {},
   "outputs": [
    {
     "data": {
      "text/plain": [
       "4966"
      ]
     },
     "execution_count": 2506,
     "metadata": {},
     "output_type": "execute_result"
    }
   ],
   "source": [
    "df_s1_jul['instance_id'].unique().size"
   ]
  },
  {
   "cell_type": "markdown",
   "metadata": {},
   "source": [
    "#### Shipping Time"
   ]
  },
  {
   "cell_type": "code",
   "execution_count": 2507,
   "metadata": {},
   "outputs": [],
   "source": [
    "df_s1_jul = format_table(df_sm1_jul, df_s1_jul, 'JehnUw9UQeiq1UxC854MA', \"ship_time\")\n",
    "df_s1_oct = format_table(df_sm1_oct, df_s1_oct, 'JehnUw9UQeiq1UxC854MA', \"ship_time\")"
   ]
  },
  {
   "cell_type": "code",
   "execution_count": 2508,
   "metadata": {},
   "outputs": [
    {
     "data": {
      "text/plain": [
       "4943"
      ]
     },
     "execution_count": 2508,
     "metadata": {},
     "output_type": "execute_result"
    }
   ],
   "source": [
    "df_s1_jul['instance_id'].unique().size"
   ]
  },
  {
   "cell_type": "markdown",
   "metadata": {},
   "source": [
    "#### Condition"
   ]
  },
  {
   "cell_type": "code",
   "execution_count": 2509,
   "metadata": {},
   "outputs": [],
   "source": [
    "df_s1_jul = format_table(df_sm1_jul, df_s1_jul, 'sM0oPo2yR529Iux1leJ6Mg', \"condition\")\n",
    "df_s1_oct = format_table(df_sm1_oct, df_s1_oct, 'sM0oPo2yR529Iux1leJ6Mg', \"condition\")"
   ]
  },
  {
   "cell_type": "markdown",
   "metadata": {},
   "source": [
    "#### Packaging"
   ]
  },
  {
   "cell_type": "code",
   "execution_count": 2510,
   "metadata": {},
   "outputs": [],
   "source": [
    "df_s1_jul = format_table(df_sm1_jul, df_s1_jul, 'Y6lB3rzGSgSC7P0Lrs4KXg', \"packaging\")\n",
    "df_s1_oct = format_table(df_sm1_oct, df_s1_oct, 'Y6lB3rzGSgSC7P0Lrs4KXg', \"packaging\")"
   ]
  },
  {
   "cell_type": "markdown",
   "metadata": {},
   "source": [
    "#### Repurchase : The column used for the Classification"
   ]
  },
  {
   "cell_type": "code",
   "execution_count": 2511,
   "metadata": {},
   "outputs": [],
   "source": [
    "df_s1_jul = format_table(df_sm1_jul, df_s1_jul, 'rIJRiMxmSU6gmwVEjiPYrQ', \"repurchase\")\n",
    "df_s1_jul.loc[df_s1_jul['repurchase'] == 1, 'repurchase'] = 1\n",
    "df_s1_jul.loc[df_s1_jul['repurchase'] == 2, 'repurchase'] = 0\n",
    "\n",
    "df_s1_oct = format_table(df_sm1_oct, df_s1_oct, 'rIJRiMxmSU6gmwVEjiPYrQ', \"repurchase\")\n",
    "df_s1_oct.loc[df_s1_oct['repurchase'] == 1, 'repurchase'] = 1\n",
    "df_s1_oct.loc[df_s1_oct['repurchase'] == 2, 'repurchase'] = 0"
   ]
  },
  {
   "cell_type": "markdown",
   "metadata": {},
   "source": [
    "#### Submitted Time \n",
    "Insert the date and the time that the questionnaire of each customer was submitted."
   ]
  },
  {
   "cell_type": "code",
   "execution_count": 2512,
   "metadata": {},
   "outputs": [],
   "source": [
    "def merge_subtime(df1, df2):\n",
    "    df1 = pd.merge(df1, \n",
    "               df2[['instance_id', 'submitted_time']], \n",
    "               on='instance_id', \n",
    "               how='inner')\n",
    "    df1.drop_duplicates(inplace = True)\n",
    "    return df1"
   ]
  },
  {
   "cell_type": "code",
   "execution_count": 2513,
   "metadata": {},
   "outputs": [],
   "source": [
    "df_s1_jul = merge_subtime(df_s1_jul, df_sm1_jul)\n",
    "df_s1_oct = merge_subtime(df_s1_oct, df_sm1_oct)"
   ]
  },
  {
   "cell_type": "code",
   "execution_count": 2514,
   "metadata": {},
   "outputs": [
    {
     "data": {
      "text/plain": [
       "4803"
      ]
     },
     "execution_count": 2514,
     "metadata": {},
     "output_type": "execute_result"
    }
   ],
   "source": [
    "df_s1_jul['instance_id'].unique().size"
   ]
  },
  {
   "cell_type": "markdown",
   "metadata": {},
   "source": [
    "### Changing Data Types\n",
    "We need to create a function where all the columns' data types are int and not object, **except for the 'instance_id'** column. \n",
    "This will help us with the data exploration later."
   ]
  },
  {
   "cell_type": "code",
   "execution_count": 2515,
   "metadata": {},
   "outputs": [],
   "source": [
    "def change_dtype(df):\n",
    "    for i in df.columns:\n",
    "        if (i != 'instance_id'):\n",
    "            if (i != 'submitted_time'):\n",
    "                df[i] = df[i].astype(str).astype(int)\n",
    "    \n",
    "    return df"
   ]
  },
  {
   "cell_type": "code",
   "execution_count": 2516,
   "metadata": {},
   "outputs": [],
   "source": [
    "df_s1_jul = change_dtype(df_s1_jul)\n",
    "df_s1_oct = change_dtype(df_s1_oct)"
   ]
  },
  {
   "cell_type": "markdown",
   "metadata": {},
   "source": [
    "### Change Submitted Time\n",
    "We are seperating the date from the time because only the date will be useful in our case. "
   ]
  },
  {
   "cell_type": "code",
   "execution_count": 2517,
   "metadata": {},
   "outputs": [],
   "source": [
    "def change_subtime(df):\n",
    "    df['date']= df['submitted_time'].apply(lambda x:x.date())\n",
    "    \n",
    "    df.drop(columns = 'submitted_time', inplace = True)\n",
    "    return df"
   ]
  },
  {
   "cell_type": "code",
   "execution_count": 2518,
   "metadata": {},
   "outputs": [],
   "source": [
    "df_s1_jul = change_subtime(df_s1_jul)\n",
    "df_s1_oct = change_subtime(df_s1_oct)"
   ]
  },
  {
   "cell_type": "code",
   "execution_count": 2519,
   "metadata": {},
   "outputs": [
    {
     "data": {
      "text/plain": [
       "instance_id    object\n",
       "eshop_sat       int32\n",
       "eshop_exp       int32\n",
       "service         int32\n",
       "ship_time       int32\n",
       "condition       int32\n",
       "packaging       int32\n",
       "repurchase      int32\n",
       "date           object\n",
       "dtype: object"
      ]
     },
     "execution_count": 2519,
     "metadata": {},
     "output_type": "execute_result"
    }
   ],
   "source": [
    "df_s1_jul.dtypes"
   ]
  },
  {
   "cell_type": "code",
   "execution_count": 2520,
   "metadata": {},
   "outputs": [
    {
     "data": {
      "text/plain": [
       "11620"
      ]
     },
     "execution_count": 2520,
     "metadata": {},
     "output_type": "execute_result"
    }
   ],
   "source": [
    "df_sm1_oct['instance_id'].unique().size"
   ]
  },
  {
   "cell_type": "code",
   "execution_count": 2521,
   "metadata": {},
   "outputs": [
    {
     "data": {
      "text/plain": [
       "10419"
      ]
     },
     "execution_count": 2521,
     "metadata": {},
     "output_type": "execute_result"
    }
   ],
   "source": [
    "df_s1_oct['instance_id'].unique().size"
   ]
  },
  {
   "cell_type": "markdown",
   "metadata": {},
   "source": [
    "## Second Super Market"
   ]
  },
  {
   "cell_type": "markdown",
   "metadata": {},
   "source": [
    "### Note!\n",
    "We removed specific columns that will not be used blahblah"
   ]
  },
  {
   "cell_type": "code",
   "execution_count": 2522,
   "metadata": {},
   "outputs": [],
   "source": [
    "df_sm2_jul = pd.merge(df_sm2_jul, \n",
    "               quest[['question_id', 'title']], \n",
    "               on='question_id', \n",
    "               how='inner')\n",
    "df_sm2_oct = pd.merge(df_sm2_oct, \n",
    "               quest[['question_id', 'title']], \n",
    "               on='question_id', \n",
    "               how='inner')"
   ]
  },
  {
   "cell_type": "code",
   "execution_count": 2523,
   "metadata": {},
   "outputs": [],
   "source": [
    "df_s2_jul = pd.DataFrame({'instance_id': []})\n",
    "df_s2_oct = pd.DataFrame({'instance_id': []})"
   ]
  },
  {
   "cell_type": "code",
   "execution_count": 2524,
   "metadata": {},
   "outputs": [],
   "source": [
    "df_s2_jul['instance_id'] = df_sm2_jul['instance_id'].unique().tolist()\n",
    "df_s2_oct['instance_id'] = df_sm2_oct['instance_id'].unique().tolist()"
   ]
  },
  {
   "cell_type": "markdown",
   "metadata": {},
   "source": [
    "#### E-shop Satisfaction"
   ]
  },
  {
   "cell_type": "code",
   "execution_count": 2525,
   "metadata": {},
   "outputs": [],
   "source": [
    "df_s2_jul = format_table(df_sm2_jul, df_s2_jul, 'NTE8Q1pEQOWMpa3rsC5zg', \"eshop_sat\")\n",
    "df_s2_oct = format_table(df_sm2_oct, df_s2_oct, 'NTE8Q1pEQOWMpa3rsC5zg', \"eshop_sat\")"
   ]
  },
  {
   "cell_type": "markdown",
   "metadata": {},
   "source": [
    "#### Packaging"
   ]
  },
  {
   "cell_type": "code",
   "execution_count": 2526,
   "metadata": {},
   "outputs": [],
   "source": [
    "df_s2_jul = format_table(df_sm2_jul, df_s2_jul, '2nW1tqDQSd5hfxgZagKg', \"packaging\")\n",
    "df_s2_oct = format_table(df_sm2_oct, df_s2_oct, '2nW1tqDQSd5hfxgZagKg', \"packaging\")"
   ]
  },
  {
   "cell_type": "markdown",
   "metadata": {},
   "source": [
    "#### Overall Service"
   ]
  },
  {
   "cell_type": "code",
   "execution_count": 2527,
   "metadata": {},
   "outputs": [],
   "source": [
    "df_s2_jul = format_table(df_sm2_jul, df_s2_jul, 'iKHI5AHTR60LjBy3Ulgg', \"service\")\n",
    "df_s2_oct = format_table(df_sm2_oct, df_s2_oct, 'iKHI5AHTR60LjBy3Ulgg', \"service\")"
   ]
  },
  {
   "cell_type": "markdown",
   "metadata": {},
   "source": [
    "#### Shipping Time"
   ]
  },
  {
   "cell_type": "code",
   "execution_count": 2528,
   "metadata": {},
   "outputs": [],
   "source": [
    "df_s2_jul = format_table(df_sm2_jul, df_s2_jul, 'sxXTo088TqCnu3mHcyVohw', \"ship_time\")\n",
    "df_s2_oct = format_table(df_sm2_oct, df_s2_oct, 'sxXTo088TqCnu3mHcyVohw', \"ship_time\")"
   ]
  },
  {
   "cell_type": "markdown",
   "metadata": {},
   "source": [
    "#### Condition"
   ]
  },
  {
   "cell_type": "code",
   "execution_count": 2529,
   "metadata": {},
   "outputs": [],
   "source": [
    "df_s2_jul = format_table(df_sm2_jul, df_s2_jul, 'vDMjE7qQvmxLxva2JXYw', \"condition\")\n",
    "df_s2_oct = format_table(df_sm2_oct, df_s2_oct, 'vDMjE7qQvmxLxva2JXYw', \"condition\")"
   ]
  },
  {
   "cell_type": "markdown",
   "metadata": {},
   "source": [
    "#### E-shop Expectations"
   ]
  },
  {
   "cell_type": "code",
   "execution_count": 2530,
   "metadata": {},
   "outputs": [],
   "source": [
    "df_s2_jul = format_table(df_sm2_jul, df_s2_jul, 'nY7OZYOUTxesdCDyFAP3Uw', \"eshop_exp\")\n",
    "df_s2_oct = format_table(df_sm2_oct, df_s2_oct, 'nY7OZYOUTxesdCDyFAP3Uw', \"eshop_exp\")"
   ]
  },
  {
   "cell_type": "markdown",
   "metadata": {},
   "source": [
    "#### Repurchase : The column used for Classification"
   ]
  },
  {
   "cell_type": "code",
   "execution_count": 2531,
   "metadata": {},
   "outputs": [],
   "source": [
    "df_s2_jul = format_table(df_sm2_jul, df_s2_jul, 'VaKFVyj4QqCuLzl615jeEg', \"repurchase\")\n",
    "df_s2_jul.loc[df_s2_jul['repurchase'] == 1, 'repurchase'] = 1\n",
    "df_s2_jul.loc[df_s2_jul['repurchase'] == 2, 'repurchase'] = 0\n",
    "\n",
    "df_s2_oct = format_table(df_sm2_oct, df_s2_oct, 'VaKFVyj4QqCuLzl615jeEg', \"repurchase\")\n",
    "df_s2_oct.loc[df_s2_oct['repurchase'] == 1, 'repurchase'] = 1\n",
    "df_s2_oct.loc[df_s2_oct['repurchase'] == 2, 'repurchase'] = 0"
   ]
  },
  {
   "cell_type": "markdown",
   "metadata": {},
   "source": [
    "#### Submitted Time"
   ]
  },
  {
   "cell_type": "code",
   "execution_count": 2532,
   "metadata": {},
   "outputs": [],
   "source": [
    "df_s2_jul = merge_subtime(df_s2_jul, df_sm2_jul)\n",
    "df_s2_oct = merge_subtime(df_s2_oct, df_sm2_oct)"
   ]
  },
  {
   "cell_type": "code",
   "execution_count": 2533,
   "metadata": {},
   "outputs": [
    {
     "data": {
      "text/plain": [
       "instance_id               object\n",
       "eshop_sat                 object\n",
       "packaging                 object\n",
       "service                   object\n",
       "ship_time                 object\n",
       "condition                 object\n",
       "eshop_exp                 object\n",
       "repurchase                object\n",
       "submitted_time    datetime64[ns]\n",
       "dtype: object"
      ]
     },
     "execution_count": 2533,
     "metadata": {},
     "output_type": "execute_result"
    }
   ],
   "source": [
    "df_s2_jul.dtypes"
   ]
  },
  {
   "cell_type": "markdown",
   "metadata": {},
   "source": [
    "### Change Types"
   ]
  },
  {
   "cell_type": "code",
   "execution_count": 2534,
   "metadata": {},
   "outputs": [],
   "source": [
    "df_s2_jul = change_dtype(df_s2_jul)\n",
    "df_s2_oct = change_dtype(df_s2_oct)"
   ]
  },
  {
   "cell_type": "markdown",
   "metadata": {},
   "source": [
    "### Change Submitted Time"
   ]
  },
  {
   "cell_type": "code",
   "execution_count": 2535,
   "metadata": {},
   "outputs": [],
   "source": [
    "df_s2_jul = change_subtime(df_s2_jul)\n",
    "df_s2_oct = change_subtime(df_s2_oct)"
   ]
  },
  {
   "cell_type": "markdown",
   "metadata": {},
   "source": [
    "## First Tech Store\n",
    "blahblah we removed blahblah"
   ]
  },
  {
   "cell_type": "code",
   "execution_count": 2536,
   "metadata": {},
   "outputs": [],
   "source": [
    "df_te1_jul = pd.merge(df_te1_jul, \n",
    "               quest[['question_id', 'title']], \n",
    "               on='question_id', \n",
    "               how='inner')\n",
    "df_te1_oct = pd.merge(df_te1_oct, \n",
    "               quest[['question_id', 'title']], \n",
    "               on='question_id', \n",
    "               how='inner')"
   ]
  },
  {
   "cell_type": "markdown",
   "metadata": {},
   "source": [
    "### Remove duplicate rows"
   ]
  },
  {
   "cell_type": "code",
   "execution_count": 2537,
   "metadata": {},
   "outputs": [],
   "source": [
    "df_te1_jul = drop_dup(df_te1_jul)\n",
    "df_te1_oct = drop_dup(df_te1_oct)"
   ]
  },
  {
   "cell_type": "markdown",
   "metadata": {},
   "source": [
    "## Both types of customers together"
   ]
  },
  {
   "cell_type": "code",
   "execution_count": 2538,
   "metadata": {},
   "outputs": [],
   "source": [
    "df_t1_july = pd.DataFrame({'instance_id': []})\n",
    "df_t1_july['instance_id'] = df_te1_jul['instance_id'].unique().tolist()\n",
    "\n",
    "df_t1_octob = pd.DataFrame({'instance_id': []})\n",
    "df_t1_octob['instance_id'] = df_te1_oct['instance_id'].unique().tolist()"
   ]
  },
  {
   "cell_type": "code",
   "execution_count": 2539,
   "metadata": {},
   "outputs": [],
   "source": [
    "def rename_dup_quests(df, q1, q2):\n",
    "    df.loc[df['question_id'].isin([q2]), 'question_id'] = q1\n",
    "    return df\n",
    "    "
   ]
  },
  {
   "cell_type": "code",
   "execution_count": 2540,
   "metadata": {},
   "outputs": [],
   "source": [
    "def drop_dup_qs(df):\n",
    "    df1 = df.drop_duplicates(subset=['instance_id', 'question_id'], keep='last')\n",
    "    return df1"
   ]
  },
  {
   "cell_type": "markdown",
   "metadata": {},
   "source": [
    "#### Price"
   ]
  },
  {
   "cell_type": "code",
   "execution_count": 2541,
   "metadata": {},
   "outputs": [],
   "source": [
    "df_te1_july = rename_dup_quests(df_te1_jul, 'ASQmXOaRcKxw36ujvIrw', 'idhnVIsQgKdecMDyvdiGg')\n",
    "df_te1_octob = rename_dup_quests(df_te1_oct, 'ASQmXOaRcKxw36ujvIrw', 'idhnVIsQgKdecMDyvdiGg')"
   ]
  },
  {
   "cell_type": "code",
   "execution_count": 2542,
   "metadata": {},
   "outputs": [],
   "source": [
    "df_te1_july = drop_dup_qs(df_te1_july)\n",
    "df_te1_octob = drop_dup_qs(df_te1_octob)"
   ]
  },
  {
   "cell_type": "code",
   "execution_count": 2543,
   "metadata": {},
   "outputs": [],
   "source": [
    "df_t1_july = format_table(df_te1_july, df_t1_july, 'ASQmXOaRcKxw36ujvIrw', \"price\")\n",
    "df_t1_octob = format_table(df_te1_octob, df_t1_octob, 'ASQmXOaRcKxw36ujvIrw', \"price\")"
   ]
  },
  {
   "cell_type": "markdown",
   "metadata": {},
   "source": [
    "#### Reliability"
   ]
  },
  {
   "cell_type": "code",
   "execution_count": 2544,
   "metadata": {},
   "outputs": [],
   "source": [
    "df_te1_july = rename_dup_quests(df_te1_jul, 'BHAH0NEURiijJa9ZGkmPzw', 'NEW7ZYCRL6sCLLDOfDBOg')\n",
    "df_te1_octob = rename_dup_quests(df_te1_oct, 'BHAH0NEURiijJa9ZGkmPzw', 'NEW7ZYCRL6sCLLDOfDBOg')"
   ]
  },
  {
   "cell_type": "code",
   "execution_count": 2545,
   "metadata": {},
   "outputs": [],
   "source": [
    "df_te1_july = drop_dup_qs(df_te1_july)\n",
    "df_te1_octob = drop_dup_qs(df_te1_octob)"
   ]
  },
  {
   "cell_type": "code",
   "execution_count": 2546,
   "metadata": {},
   "outputs": [],
   "source": [
    "df_t1_july = format_table(df_te1_july, df_t1_july, 'BHAH0NEURiijJa9ZGkmPzw', \"reliability\")\n",
    "df_t1_octob = format_table(df_te1_octob, df_t1_octob, 'BHAH0NEURiijJa9ZGkmPzw', \"reliability\")"
   ]
  },
  {
   "cell_type": "markdown",
   "metadata": {},
   "source": [
    "#### Overall service"
   ]
  },
  {
   "cell_type": "code",
   "execution_count": 2547,
   "metadata": {},
   "outputs": [],
   "source": [
    "df_te1_july = rename_dup_quests(df_te1_jul, 'cuTJUy4iRJuMM4yABB1pw', 'fjSolZniR0uGrEPFEzEzvw')\n",
    "df_te1_octob = rename_dup_quests(df_te1_oct, 'cuTJUy4iRJuMM4yABB1pw', 'fjSolZniR0uGrEPFEzEzvw')"
   ]
  },
  {
   "cell_type": "code",
   "execution_count": 2548,
   "metadata": {},
   "outputs": [],
   "source": [
    "df_te1_july = drop_dup_qs(df_te1_july)\n",
    "df_te1_octob = drop_dup_qs(df_te1_octob)"
   ]
  },
  {
   "cell_type": "code",
   "execution_count": 2549,
   "metadata": {},
   "outputs": [],
   "source": [
    "df_t1_july = format_table(df_te1_july, df_t1_july, 'cuTJUy4iRJuMM4yABB1pw', \"service\")\n",
    "df_t1_octob = format_table(df_te1_octob, df_t1_octob, 'cuTJUy4iRJuMM4yABB1pw', \"service\")"
   ]
  },
  {
   "cell_type": "markdown",
   "metadata": {},
   "source": [
    "#### Variety"
   ]
  },
  {
   "cell_type": "code",
   "execution_count": 2550,
   "metadata": {},
   "outputs": [],
   "source": [
    "df_te1_july = rename_dup_quests(df_te1_jul, 'dYVPE7izTlCEmR6I884wg', 'Th96ZdTVyPUrkSJNM9qw')\n",
    "df_te1_octob = rename_dup_quests(df_te1_oct, 'dYVPE7izTlCEmR6I884wg', 'Th96ZdTVyPUrkSJNM9qw')"
   ]
  },
  {
   "cell_type": "code",
   "execution_count": 2551,
   "metadata": {},
   "outputs": [],
   "source": [
    "df_te1_july = drop_dup_qs(df_te1_july)\n",
    "df_te1_octob = drop_dup_qs(df_te1_octob)"
   ]
  },
  {
   "cell_type": "code",
   "execution_count": 2552,
   "metadata": {},
   "outputs": [],
   "source": [
    "df_t1_july = format_table(df_te1_july, df_t1_july, 'dYVPE7izTlCEmR6I884wg', \"variety\")\n",
    "df_t1_octob = format_table(df_te1_octob, df_t1_octob, 'dYVPE7izTlCEmR6I884wg', \"variety\")"
   ]
  },
  {
   "cell_type": "markdown",
   "metadata": {},
   "source": [
    "#### Payment Methods"
   ]
  },
  {
   "cell_type": "code",
   "execution_count": 2553,
   "metadata": {},
   "outputs": [],
   "source": [
    "df_te1_july = rename_dup_quests(df_te1_jul, 'hbzr2wplToGcDTKNQfppmg', 'yCWUviavRdWiq33ngyxoSQ')\n",
    "df_te1_octob = rename_dup_quests(df_te1_oct, 'hbzr2wplToGcDTKNQfppmg', 'yCWUviavRdWiq33ngyxoSQ')"
   ]
  },
  {
   "cell_type": "code",
   "execution_count": 2554,
   "metadata": {},
   "outputs": [],
   "source": [
    "df_te1_july = drop_dup_qs(df_te1_july)\n",
    "df_te1_octob = drop_dup_qs(df_te1_octob)"
   ]
  },
  {
   "cell_type": "code",
   "execution_count": 2555,
   "metadata": {},
   "outputs": [],
   "source": [
    "df_t1_july = format_table(df_te1_july, df_t1_july, 'hbzr2wplToGcDTKNQfppmg', \"pay_meth\")\n",
    "df_t1_octob = format_table(df_te1_octob, df_t1_octob, 'hbzr2wplToGcDTKNQfppmg', \"pay_meth\")"
   ]
  },
  {
   "cell_type": "markdown",
   "metadata": {},
   "source": [
    "#### Website Functionality"
   ]
  },
  {
   "cell_type": "code",
   "execution_count": 2556,
   "metadata": {},
   "outputs": [],
   "source": [
    "df_te1_july = rename_dup_quests(df_te1_jul, 'yxKokviKRTao7lA3IebPpw', 'JOKZHXX4Tu2BxLnpOkhjyA')\n",
    "df_te1_octob = rename_dup_quests(df_te1_oct, 'yxKokviKRTao7lA3IebPpw', 'JOKZHXX4Tu2BxLnpOkhjyA')"
   ]
  },
  {
   "cell_type": "code",
   "execution_count": 2557,
   "metadata": {},
   "outputs": [],
   "source": [
    "df_te1_july = drop_dup_qs(df_te1_july)\n",
    "df_te1_octob = drop_dup_qs(df_te1_octob)"
   ]
  },
  {
   "cell_type": "code",
   "execution_count": 2558,
   "metadata": {},
   "outputs": [],
   "source": [
    "df_t1_july = format_table(df_te1_july, df_t1_july, 'yxKokviKRTao7lA3IebPpw', \"web_func\")\n",
    "df_t1_octob = format_table(df_te1_octob, df_t1_octob, 'yxKokviKRTao7lA3IebPpw', \"web_func\")"
   ]
  },
  {
   "cell_type": "markdown",
   "metadata": {},
   "source": [
    "#### Product Availability"
   ]
  },
  {
   "cell_type": "code",
   "execution_count": 2559,
   "metadata": {},
   "outputs": [],
   "source": [
    "df_te1_july = rename_dup_quests(df_te1_jul, 'ZiJxXOH2RbSAlED69W3ZQw', 'kG08XetAQtCZwtbiMozYRQ')\n",
    "df_te1_octob = rename_dup_quests(df_te1_oct, 'ZiJxXOH2RbSAlED69W3ZQw', 'kG08XetAQtCZwtbiMozYRQ')"
   ]
  },
  {
   "cell_type": "code",
   "execution_count": 2560,
   "metadata": {},
   "outputs": [],
   "source": [
    "df_te1_july = drop_dup_qs(df_te1_july)\n",
    "df_te1_octob = drop_dup_qs(df_te1_octob)"
   ]
  },
  {
   "cell_type": "code",
   "execution_count": 2561,
   "metadata": {},
   "outputs": [],
   "source": [
    "df_t1_july = format_table(df_te1_july, df_t1_july, 'ZiJxXOH2RbSAlED69W3ZQw', \"prod_avail\")\n",
    "df_t1_octob = format_table(df_te1_octob, df_t1_octob, 'ZiJxXOH2RbSAlED69W3ZQw', \"prod_avail\")"
   ]
  },
  {
   "cell_type": "markdown",
   "metadata": {},
   "source": [
    "#### Repurchase"
   ]
  },
  {
   "cell_type": "code",
   "execution_count": 2562,
   "metadata": {},
   "outputs": [],
   "source": [
    "df_t1_july = format_table(df_te1_july, df_t1_july, 'LTJuB4wzQ7lB3wTI4uHjA', \"repurchase\")\n",
    "df_t1_july.loc[df_t1_july['repurchase'] == 1, 'repurchase'] = 1\n",
    "df_t1_july.loc[df_t1_july['repurchase'] == 2, 'repurchase'] = 0\n",
    "\n",
    "df_t1_octob = format_table(df_te1_octob, df_t1_octob, 'LTJuB4wzQ7lB3wTI4uHjA', \"repurchase\")\n",
    "df_t1_octob.loc[df_t1_octob['repurchase'] == 1, 'repurchase'] = 1\n",
    "df_t1_octob.loc[df_t1_octob['repurchase'] == 2, 'repurchase'] = 0"
   ]
  },
  {
   "cell_type": "markdown",
   "metadata": {},
   "source": [
    "#### Submitted time merge"
   ]
  },
  {
   "cell_type": "code",
   "execution_count": 2563,
   "metadata": {},
   "outputs": [],
   "source": [
    "df_t1_july = merge_subtime(df_t1_july, df_te1_july)\n",
    "\n",
    "df_t1_octob = merge_subtime(df_t1_octob, df_te1_octob)"
   ]
  },
  {
   "cell_type": "markdown",
   "metadata": {},
   "source": [
    "#### Change data type"
   ]
  },
  {
   "cell_type": "code",
   "execution_count": 2564,
   "metadata": {},
   "outputs": [],
   "source": [
    "df_t1_july = change_dtype(df_t1_july)\n",
    "\n",
    "df_t1_octob = change_dtype(df_t1_octob)\n"
   ]
  },
  {
   "cell_type": "markdown",
   "metadata": {},
   "source": [
    "#### Change submitted time"
   ]
  },
  {
   "cell_type": "code",
   "execution_count": 2565,
   "metadata": {},
   "outputs": [],
   "source": [
    "df_t1_july = change_subtime(df_t1_july)\n",
    "\n",
    "df_t1_octob = change_subtime(df_t1_octob)\n"
   ]
  },
  {
   "cell_type": "markdown",
   "metadata": {},
   "source": [
    "## Separate Customers \n",
    "We are creating two different dataframes for each store and each trimester **depending on whether they have received their order or not**."
   ]
  },
  {
   "cell_type": "code",
   "execution_count": 2566,
   "metadata": {},
   "outputs": [],
   "source": [
    "def separate_cust(df, question_id, value):\n",
    "    df1= df.loc[(df['question_id'].isin([question_id])) & (df['value_extended'] == value)]\n",
    "    list_cust = df1['instance_id'].unique().tolist()\n",
    "    print(df1.dtypes)\n",
    "    df1 = df[df['instance_id'].isin(list_cust)]\n",
    "    return df1"
   ]
  },
  {
   "cell_type": "code",
   "execution_count": 2567,
   "metadata": {},
   "outputs": [
    {
     "name": "stdout",
     "output_type": "stream",
     "text": [
      "instance_id                 object\n",
      "submitted_time      datetime64[ns]\n",
      "questionnaire_id            object\n",
      "question_id                 object\n",
      "value_extended              object\n",
      "title                       object\n",
      "dtype: object\n",
      "instance_id                 object\n",
      "submitted_time      datetime64[ns]\n",
      "questionnaire_id            object\n",
      "question_id                 object\n",
      "value_extended              object\n",
      "title                       object\n",
      "dtype: object\n",
      "instance_id         object\n",
      "submitted_time      object\n",
      "questionnaire_id    object\n",
      "question_id         object\n",
      "value_extended      object\n",
      "Unnamed: 6          object\n",
      "Unnamed: 7          object\n",
      "Unnamed: 8          object\n",
      "Unnamed: 9          object\n",
      "Unnamed: 10         object\n",
      "Unnamed: 11         object\n",
      "Unnamed: 12         object\n",
      "Unnamed: 13         object\n",
      "Unnamed: 14         object\n",
      "Unnamed: 15         object\n",
      "Unnamed: 16         object\n",
      "title               object\n",
      "dtype: object\n",
      "instance_id         object\n",
      "submitted_time      object\n",
      "questionnaire_id    object\n",
      "question_id         object\n",
      "value_extended      object\n",
      "Unnamed: 6          object\n",
      "Unnamed: 7          object\n",
      "Unnamed: 8          object\n",
      "Unnamed: 9          object\n",
      "Unnamed: 10         object\n",
      "Unnamed: 11         object\n",
      "Unnamed: 12         object\n",
      "Unnamed: 13         object\n",
      "Unnamed: 14         object\n",
      "Unnamed: 15         object\n",
      "Unnamed: 16         object\n",
      "title               object\n",
      "dtype: object\n"
     ]
    }
   ],
   "source": [
    "df_t1_j1 = separate_cust(df_te1_jul, 'bIlWtVMSTkq8JVNi1Gfe8Q', 1)\n",
    "df_t1_j2 = separate_cust(df_te1_jul, 'bIlWtVMSTkq8JVNi1Gfe8Q', 2)\n",
    "\n",
    "df_t1_o1 = separate_cust(df_te1_oct, 'bIlWtVMSTkq8JVNi1Gfe8Q', 1)\n",
    "df_t1_o2 = separate_cust(df_te1_oct, 'bIlWtVMSTkq8JVNi1Gfe8Q', 2)"
   ]
  },
  {
   "cell_type": "markdown",
   "metadata": {},
   "source": [
    "### Create Tables"
   ]
  },
  {
   "cell_type": "code",
   "execution_count": 2568,
   "metadata": {},
   "outputs": [],
   "source": [
    "df_t1_jul1 = pd.DataFrame({'instance_id': []})\n",
    "df_t1_jul2 = pd.DataFrame({'instance_id': []})\n",
    "\n",
    "df_t1_oct1 = pd.DataFrame({'instance_id': []})\n",
    "df_t1_oct2 = pd.DataFrame({'instance_id': []})\n",
    "\n",
    "df_t1_jul1['instance_id'] = df_t1_j1['instance_id'].unique().tolist()\n",
    "df_t1_jul2['instance_id'] = df_t1_j2['instance_id'].unique().tolist()\n",
    "\n",
    "df_t1_oct1['instance_id'] = df_t1_o1['instance_id'].unique().tolist()\n",
    "df_t1_oct2['instance_id'] = df_t1_o2['instance_id'].unique().tolist()"
   ]
  },
  {
   "cell_type": "markdown",
   "metadata": {},
   "source": [
    "#### Price"
   ]
  },
  {
   "cell_type": "code",
   "execution_count": 2569,
   "metadata": {},
   "outputs": [],
   "source": [
    "df_t1_jul1 = format_table(df_t1_j1, df_t1_jul1, 'ASQmXOaRcKxw36ujvIrw', \"price\")\n",
    "df_t1_jul2 = format_table(df_t1_j2, df_t1_jul2, 'ASQmXOaRcKxw36ujvIrw', \"price\")\n",
    "\n",
    "df_t1_oct1 = format_table(df_t1_o1, df_t1_oct1, 'ASQmXOaRcKxw36ujvIrw',\"price\")\n",
    "df_t1_oct2 = format_table(df_t1_o2, df_t1_oct2, 'ASQmXOaRcKxw36ujvIrw', \"price\")"
   ]
  },
  {
   "cell_type": "markdown",
   "metadata": {},
   "source": [
    "#### Reliability"
   ]
  },
  {
   "cell_type": "code",
   "execution_count": 2570,
   "metadata": {},
   "outputs": [],
   "source": [
    "df_t1_jul1 = format_table(df_t1_j1, df_t1_jul1, 'BHAH0NEURiijJa9ZGkmPzw', \"reliability\")\n",
    "df_t1_jul2 = format_table(df_t1_j2, df_t1_jul2, 'BHAH0NEURiijJa9ZGkmPzw', \"reliability\")\n",
    "\n",
    "df_t1_oct1 = format_table(df_t1_o1, df_t1_oct1, 'BHAH0NEURiijJa9ZGkmPzw',\"reliability\")\n",
    "df_t1_oct2 = format_table(df_t1_o2, df_t1_oct2, 'BHAH0NEURiijJa9ZGkmPzw', \"reliability\")"
   ]
  },
  {
   "cell_type": "code",
   "execution_count": 2571,
   "metadata": {},
   "outputs": [
    {
     "data": {
      "text/plain": [
       "6832"
      ]
     },
     "execution_count": 2571,
     "metadata": {},
     "output_type": "execute_result"
    }
   ],
   "source": [
    "df_t1_oct2.shape[0]"
   ]
  },
  {
   "cell_type": "markdown",
   "metadata": {},
   "source": [
    "#### Overall Service"
   ]
  },
  {
   "cell_type": "code",
   "execution_count": 2572,
   "metadata": {},
   "outputs": [],
   "source": [
    "df_t1_jul1 = format_table(df_t1_j1, df_t1_jul1, 'cuTJUy4iRJuMM4yABB1pw', \"service\")\n",
    "df_t1_jul2 = format_table(df_t1_j2, df_t1_jul2, 'cuTJUy4iRJuMM4yABB1pw', \"service\")\n",
    "\n",
    "df_t1_oct1 = format_table(df_t1_o1, df_t1_oct1, 'cuTJUy4iRJuMM4yABB1pw',\"service\")\n",
    "df_t1_oct2 = format_table(df_t1_o2, df_t1_oct2, 'cuTJUy4iRJuMM4yABB1pw', \"service\")"
   ]
  },
  {
   "cell_type": "markdown",
   "metadata": {},
   "source": [
    "#### Variety"
   ]
  },
  {
   "cell_type": "code",
   "execution_count": 2573,
   "metadata": {},
   "outputs": [],
   "source": [
    "df_t1_jul1 = format_table(df_t1_j1, df_t1_jul1, 'dYVPE7izTlCEmR6I884wg', \"var\")\n",
    "df_t1_jul2 = format_table(df_t1_j2, df_t1_jul2, 'dYVPE7izTlCEmR6I884wg', \"var\")\n",
    "\n",
    "df_t1_oct1 = format_table(df_t1_o1, df_t1_oct1, 'dYVPE7izTlCEmR6I884wg',\"var\")\n",
    "df_t1_oct2 = format_table(df_t1_o2, df_t1_oct2, 'dYVPE7izTlCEmR6I884wg', \"var\")"
   ]
  },
  {
   "cell_type": "markdown",
   "metadata": {},
   "source": [
    "#### Payment Methods"
   ]
  },
  {
   "cell_type": "code",
   "execution_count": 2574,
   "metadata": {},
   "outputs": [],
   "source": [
    "df_t1_jul1 = format_table(df_t1_j1, df_t1_jul1, 'hbzr2wplToGcDTKNQfppmg', \"pay_meth\")\n",
    "df_t1_jul2 = format_table(df_t1_j2, df_t1_jul2, 'hbzr2wplToGcDTKNQfppmg', \"pay_meth\")\n",
    "\n",
    "df_t1_oct1 = format_table(df_t1_o1, df_t1_oct1, 'hbzr2wplToGcDTKNQfppmg',\"pay_meth\")\n",
    "df_t1_oct2 = format_table(df_t1_o2, df_t1_oct2, 'hbzr2wplToGcDTKNQfppmg', \"pay_meth\")"
   ]
  },
  {
   "cell_type": "markdown",
   "metadata": {},
   "source": [
    "#### Website Functionality"
   ]
  },
  {
   "cell_type": "code",
   "execution_count": 2575,
   "metadata": {},
   "outputs": [],
   "source": [
    "df_t1_jul1 = format_table(df_t1_j1, df_t1_jul1, 'yxKokviKRTao7lA3IebPpw', \"web_func\")\n",
    "df_t1_jul2 = format_table(df_t1_j2, df_t1_jul2, 'yxKokviKRTao7lA3IebPpw', \"web_func\")\n",
    "\n",
    "df_t1_oct1 = format_table(df_t1_o1, df_t1_oct1, 'yxKokviKRTao7lA3IebPpw',\"web_func\")\n",
    "df_t1_oct2 = format_table(df_t1_o2, df_t1_oct2, 'yxKokviKRTao7lA3IebPpw', \"web_func\")"
   ]
  },
  {
   "cell_type": "markdown",
   "metadata": {},
   "source": [
    "#### Product Availability"
   ]
  },
  {
   "cell_type": "code",
   "execution_count": 2576,
   "metadata": {},
   "outputs": [],
   "source": [
    "df_t1_jul1 = format_table(df_t1_j1, df_t1_jul1, 'ZiJxXOH2RbSAlED69W3ZQw', \"prod_avail\")\n",
    "df_t1_jul2 = format_table(df_t1_j2, df_t1_jul2, 'ZiJxXOH2RbSAlED69W3ZQw', \"prod_avail\")\n",
    "\n",
    "df_t1_oct1 = format_table(df_t1_o1, df_t1_oct1, 'ZiJxXOH2RbSAlED69W3ZQw',\"prod_avail\")\n",
    "df_t1_oct2 = format_table(df_t1_o2, df_t1_oct2, 'ZiJxXOH2RbSAlED69W3ZQw', \"prod_avail\")"
   ]
  },
  {
   "cell_type": "markdown",
   "metadata": {},
   "source": [
    "#### Packaging"
   ]
  },
  {
   "cell_type": "code",
   "execution_count": 2577,
   "metadata": {},
   "outputs": [],
   "source": [
    "df_t1_jul1 = format_table(df_t1_j1, df_t1_jul1, 'AGvn2rvNQcmQHz6fF2xnfw', \"packaging\")\n",
    "df_t1_oct1 = format_table(df_t1_o1, df_t1_oct1, 'AGvn2rvNQcmQHz6fF2xnfw',\"packaging\")"
   ]
  },
  {
   "cell_type": "markdown",
   "metadata": {},
   "source": [
    "#### Condition"
   ]
  },
  {
   "cell_type": "code",
   "execution_count": 2578,
   "metadata": {},
   "outputs": [],
   "source": [
    "df_t1_jul1 = format_table(df_t1_j1, df_t1_jul1, 'g7ybP27R0SFZhfVCOCaLg', \"condition\")\n",
    "df_t1_oct1 = format_table(df_t1_o1, df_t1_oct1, 'g7ybP27R0SFZhfVCOCaLg',\"condition\")"
   ]
  },
  {
   "cell_type": "markdown",
   "metadata": {},
   "source": [
    "#### Shipping Time"
   ]
  },
  {
   "cell_type": "code",
   "execution_count": 2579,
   "metadata": {},
   "outputs": [],
   "source": [
    "df_t1_jul1 = format_table(df_t1_j1, df_t1_jul1, 'YqVlLqvS2Kqvi05VoPi3g', \"ship_time\")\n",
    "df_t1_oct1 = format_table(df_t1_o1, df_t1_oct1, 'YqVlLqvS2Kqvi05VoPi3g',\"ship_time\")"
   ]
  },
  {
   "cell_type": "markdown",
   "metadata": {},
   "source": [
    "#### Repurchase "
   ]
  },
  {
   "cell_type": "code",
   "execution_count": 2580,
   "metadata": {},
   "outputs": [],
   "source": [
    "df_t1_jul1 = format_table(df_t1_j1, df_t1_jul1, 'LTJuB4wzQ7lB3wTI4uHjA', \"repurchase\")\n",
    "df_t1_jul1.loc[df_t1_jul1['repurchase'] == 1, 'repurchase'] = 1\n",
    "df_t1_jul1.loc[df_t1_jul1['repurchase'] == 2, 'repurchase'] = 0\n",
    "\n",
    "df_t1_jul2 = format_table(df_t1_j2, df_t1_jul2, 'LTJuB4wzQ7lB3wTI4uHjA', \"repurchase\")\n",
    "df_t1_jul2.loc[df_t1_jul2['repurchase'] == 1, 'repurchase'] = 1\n",
    "df_t1_jul2.loc[df_t1_jul2['repurchase'] == 2, 'repurchase'] = 0\n",
    "\n",
    "df_t1_oct1 = format_table(df_t1_o1, df_t1_oct1, 'LTJuB4wzQ7lB3wTI4uHjA',\"repurchase\")\n",
    "df_t1_oct1.loc[df_t1_oct1['repurchase'] == 1, 'repurchase'] = 1\n",
    "df_t1_oct1.loc[df_t1_oct1['repurchase'] == 2, 'repurchase'] = 0\n",
    "\n",
    "df_t1_oct2 = format_table(df_t1_o2, df_t1_oct2, 'LTJuB4wzQ7lB3wTI4uHjA', \"repurchase\")\n",
    "df_t1_oct2.loc[df_t1_oct2['repurchase'] == 1, 'repurchase'] = 1\n",
    "df_t1_oct2.loc[df_t1_oct2['repurchase'] == 2, 'repurchase'] = 0\n"
   ]
  },
  {
   "cell_type": "markdown",
   "metadata": {},
   "source": [
    "#### Submitted Time"
   ]
  },
  {
   "cell_type": "code",
   "execution_count": 2581,
   "metadata": {},
   "outputs": [],
   "source": [
    "df_t1_jul1 = merge_subtime(df_t1_jul1, df_te1_jul)\n",
    "df_t1_jul2 = merge_subtime(df_t1_jul2, df_te1_jul)\n",
    "\n",
    "df_t1_oct1 = merge_subtime(df_t1_oct1, df_te1_oct)\n",
    "df_t1_oct2 = merge_subtime(df_t1_oct2, df_te1_oct)"
   ]
  },
  {
   "cell_type": "markdown",
   "metadata": {},
   "source": [
    "### Change data type"
   ]
  },
  {
   "cell_type": "code",
   "execution_count": 2582,
   "metadata": {},
   "outputs": [],
   "source": [
    "df_t1_jul1 = change_dtype(df_t1_jul1)\n",
    "df_t1_jul2 = change_dtype(df_t1_jul2)\n",
    "\n",
    "df_t1_oct1 = change_dtype(df_t1_oct1)\n",
    "df_t1_oct2 = change_dtype(df_t1_oct2)"
   ]
  },
  {
   "cell_type": "markdown",
   "metadata": {},
   "source": [
    "### Change Submitted Time"
   ]
  },
  {
   "cell_type": "code",
   "execution_count": 2583,
   "metadata": {},
   "outputs": [],
   "source": [
    "df_t1_jul1 = change_subtime(df_t1_jul1)\n",
    "df_t1_jul2 = change_subtime(df_t1_jul2)\n",
    "\n",
    "df_t1_oct1 = change_subtime(df_t1_oct1)\n",
    "df_t1_oct2 = change_subtime(df_t1_oct2)"
   ]
  },
  {
   "cell_type": "markdown",
   "metadata": {},
   "source": [
    "## Second Tech Store\n",
    "blabhkahs removed this and this"
   ]
  },
  {
   "cell_type": "code",
   "execution_count": 2584,
   "metadata": {},
   "outputs": [],
   "source": [
    "df_te2_jul = pd.merge(df_te2_jul, \n",
    "               quest[['question_id', 'title']], \n",
    "               on='question_id', \n",
    "               how='inner')\n",
    "df_te2_oct = pd.merge(df_te2_oct, \n",
    "               quest[['question_id', 'title']], \n",
    "               on='question_id', \n",
    "               how='inner')"
   ]
  },
  {
   "cell_type": "markdown",
   "metadata": {},
   "source": [
    "## Both types of customers together"
   ]
  },
  {
   "cell_type": "code",
   "execution_count": 2585,
   "metadata": {},
   "outputs": [],
   "source": [
    "df_t2_july = pd.DataFrame({'instance_id': []})\n",
    "df_t2_july['instance_id'] = df_te2_jul['instance_id'].unique().tolist()\n",
    "\n",
    "df_t2_octob = pd.DataFrame({'instance_id': []})\n",
    "df_t2_octob['instance_id'] = df_te2_oct['instance_id'].unique().tolist()"
   ]
  },
  {
   "cell_type": "markdown",
   "metadata": {},
   "source": [
    "#### Payment Methods"
   ]
  },
  {
   "cell_type": "code",
   "execution_count": 2586,
   "metadata": {},
   "outputs": [],
   "source": [
    "df_te2_july = rename_dup_quests(df_te2_jul, '6mbTGZ8hQxWEnEnFoIqhpg', 'qLZCTCGqRQO4XTXG9RYvbg')\n",
    "df_te2_octob = rename_dup_quests(df_te2_oct, '6mbTGZ8hQxWEnEnFoIqhpg', 'qLZCTCGqRQO4XTXG9RYvbg')"
   ]
  },
  {
   "cell_type": "code",
   "execution_count": 2587,
   "metadata": {},
   "outputs": [],
   "source": [
    "df_te2_july = drop_dup_qs(df_te2_july)\n",
    "df_te2_octob = drop_dup_qs(df_te2_octob)"
   ]
  },
  {
   "cell_type": "code",
   "execution_count": 2588,
   "metadata": {},
   "outputs": [],
   "source": [
    "df_t2_july = format_table(df_te2_july, df_t2_july, '6mbTGZ8hQxWEnEnFoIqhpg', \"pay_meth\")\n",
    "df_t2_octob = format_table(df_te2_octob, df_t2_octob, '6mbTGZ8hQxWEnEnFoIqhpg', \"pay_meth\")"
   ]
  },
  {
   "cell_type": "markdown",
   "metadata": {},
   "source": [
    "#### Price"
   ]
  },
  {
   "cell_type": "code",
   "execution_count": 2589,
   "metadata": {},
   "outputs": [],
   "source": [
    "df_te2_july = rename_dup_quests(df_te2_jul, 'MjkSKpuqQO6q2KoQ3u9Pw', 'hWs1ewmSyi88zNeXe5kxQ')\n",
    "df_te2_octob = rename_dup_quests(df_te2_oct, 'MjkSKpuqQO6q2KoQ3u9Pw', 'hWs1ewmSyi88zNeXe5kxQ')"
   ]
  },
  {
   "cell_type": "code",
   "execution_count": 2590,
   "metadata": {},
   "outputs": [],
   "source": [
    "df_te2_july = drop_dup_qs(df_te2_july)\n",
    "df_te2_octob = drop_dup_qs(df_te2_octob)"
   ]
  },
  {
   "cell_type": "code",
   "execution_count": 2591,
   "metadata": {},
   "outputs": [],
   "source": [
    "df_t2_july = format_table(df_te2_july, df_t2_july, 'MjkSKpuqQO6q2KoQ3u9Pw', \"price\")\n",
    "df_t2_octob = format_table(df_te2_octob, df_t2_octob, 'MjkSKpuqQO6q2KoQ3u9Pw', \"price\")"
   ]
  },
  {
   "cell_type": "markdown",
   "metadata": {},
   "source": [
    "#### Reliability"
   ]
  },
  {
   "cell_type": "code",
   "execution_count": 2592,
   "metadata": {},
   "outputs": [],
   "source": [
    "df_te2_july = rename_dup_quests(df_te2_jul, 'fx2KDu08QZWqUlJST9ZLfw', 'MF48Qt5tSHmAC26bO2qnbg')\n",
    "df_te2_octob = rename_dup_quests(df_te2_oct, 'fx2KDu08QZWqUlJST9ZLfw', 'MF48Qt5tSHmAC26bO2qnbg')"
   ]
  },
  {
   "cell_type": "code",
   "execution_count": 2593,
   "metadata": {},
   "outputs": [],
   "source": [
    "df_te2_july = drop_dup_qs(df_te2_july)\n",
    "df_te2_octob = drop_dup_qs(df_te2_octob)"
   ]
  },
  {
   "cell_type": "code",
   "execution_count": 2594,
   "metadata": {},
   "outputs": [],
   "source": [
    "df_t2_july = format_table(df_te2_july, df_t2_july, 'fx2KDu08QZWqUlJST9ZLfw', \"reliability\")\n",
    "df_t2_octob = format_table(df_te2_octob, df_t2_octob, 'fx2KDu08QZWqUlJST9ZLfw', \"reliability\")"
   ]
  },
  {
   "cell_type": "markdown",
   "metadata": {},
   "source": [
    "#### Variety"
   ]
  },
  {
   "cell_type": "code",
   "execution_count": 2595,
   "metadata": {},
   "outputs": [],
   "source": [
    "df_te2_july = rename_dup_quests(df_te2_jul, 'hkdtluNoSSuz98RwWxL4w', 'Eary2QSy2B0VO5MnKiGw')\n",
    "df_te2_octob = rename_dup_quests(df_te2_oct, 'hkdtluNoSSuz98RwWxL4w', 'Eary2QSy2B0VO5MnKiGw')"
   ]
  },
  {
   "cell_type": "code",
   "execution_count": 2596,
   "metadata": {},
   "outputs": [],
   "source": [
    "df_te2_july = drop_dup_qs(df_te2_july)\n",
    "df_te2_octob = drop_dup_qs(df_te2_octob)"
   ]
  },
  {
   "cell_type": "code",
   "execution_count": 2597,
   "metadata": {},
   "outputs": [],
   "source": [
    "df_t2_july = format_table(df_te2_july, df_t2_july, 'hkdtluNoSSuz98RwWxL4w', \"variety\")\n",
    "df_t2_octob = format_table(df_te2_octob, df_t2_octob, 'hkdtluNoSSuz98RwWxL4w', \"variety\")"
   ]
  },
  {
   "cell_type": "markdown",
   "metadata": {},
   "source": [
    "#### Product Availability"
   ]
  },
  {
   "cell_type": "code",
   "execution_count": 2598,
   "metadata": {},
   "outputs": [],
   "source": [
    "df_te2_july = rename_dup_quests(df_te2_jul, 'i9KQhYJRu92qzcCPnlHg', 'dXoObJXwQxabTSCP9Zr2sw')\n",
    "df_te2_octob = rename_dup_quests(df_te2_oct, 'i9KQhYJRu92qzcCPnlHg', 'dXoObJXwQxabTSCP9Zr2sw')"
   ]
  },
  {
   "cell_type": "code",
   "execution_count": 2599,
   "metadata": {},
   "outputs": [],
   "source": [
    "df_te2_july = drop_dup_qs(df_te2_july)\n",
    "df_te2_octob = drop_dup_qs(df_te2_octob)"
   ]
  },
  {
   "cell_type": "code",
   "execution_count": 2600,
   "metadata": {},
   "outputs": [],
   "source": [
    "df_t2_july = format_table(df_te2_july, df_t2_july, 'i9KQhYJRu92qzcCPnlHg', \"prod_avail\")\n",
    "df_t2_octob = format_table(df_te2_octob, df_t2_octob, 'i9KQhYJRu92qzcCPnlHg', \"prod_avail\")"
   ]
  },
  {
   "cell_type": "markdown",
   "metadata": {},
   "source": [
    "#### Overall service"
   ]
  },
  {
   "cell_type": "code",
   "execution_count": 2601,
   "metadata": {},
   "outputs": [],
   "source": [
    "df_te2_july = rename_dup_quests(df_te2_jul, 'LHHAquYeQN29BlMgObJmw', 'TvJN5v3LSD6LnLPipq9aVA')\n",
    "df_te2_octob = rename_dup_quests(df_te2_oct, 'LHHAquYeQN29BlMgObJmw', 'TvJN5v3LSD6LnLPipq9aVA')"
   ]
  },
  {
   "cell_type": "code",
   "execution_count": 2602,
   "metadata": {},
   "outputs": [],
   "source": [
    "df_te2_july = drop_dup_qs(df_te2_july)\n",
    "df_te2_octob = drop_dup_qs(df_te2_octob)"
   ]
  },
  {
   "cell_type": "code",
   "execution_count": 2603,
   "metadata": {},
   "outputs": [],
   "source": [
    "df_t2_july = format_table(df_te2_july, df_t2_july, 'LHHAquYeQN29BlMgObJmw', \"service\")\n",
    "df_t2_octob = format_table(df_te2_octob, df_t2_octob, 'LHHAquYeQN29BlMgObJmw', \"service\")"
   ]
  },
  {
   "cell_type": "markdown",
   "metadata": {},
   "source": [
    "#### Eshop functionality"
   ]
  },
  {
   "cell_type": "code",
   "execution_count": 2604,
   "metadata": {},
   "outputs": [],
   "source": [
    "df_te2_july = rename_dup_quests(df_te2_jul, 'R6R5YCFQ2mhOZAFE3eKeg', 'SdB8bRQtmZEaIHvRLvw')\n",
    "df_te2_octob = rename_dup_quests(df_te2_oct, 'R6R5YCFQ2mhOZAFE3eKeg', 'SdB8bRQtmZEaIHvRLvw')"
   ]
  },
  {
   "cell_type": "code",
   "execution_count": 2605,
   "metadata": {},
   "outputs": [],
   "source": [
    "df_te2_july = drop_dup_qs(df_te2_july)\n",
    "df_te2_octob = drop_dup_qs(df_te2_octob)"
   ]
  },
  {
   "cell_type": "code",
   "execution_count": 2606,
   "metadata": {},
   "outputs": [],
   "source": [
    "df_t2_july = format_table(df_te2_july, df_t2_july, 'R6R5YCFQ2mhOZAFE3eKeg', \"eshop_func\")\n",
    "df_t2_octob = format_table(df_te2_octob, df_t2_octob, 'R6R5YCFQ2mhOZAFE3eKeg', \"eshop_func\")"
   ]
  },
  {
   "cell_type": "markdown",
   "metadata": {},
   "source": [
    "#### Repurchase"
   ]
  },
  {
   "cell_type": "code",
   "execution_count": 2607,
   "metadata": {},
   "outputs": [],
   "source": [
    "df_t2_july = format_table(df_te2_july, df_t2_july, 'Qknhmpm1SwaXFPerkIThzg', \"repurchase\")\n",
    "df_t2_july.loc[df_t2_july['repurchase'] == 1, 'repurchase'] = 1\n",
    "df_t2_july.loc[df_t2_july['repurchase'] == 2, 'repurchase'] = 0\n",
    "\n",
    "df_t2_octob = format_table(df_te2_octob, df_t2_octob, 'Qknhmpm1SwaXFPerkIThzg', \"repurchase\")\n",
    "df_t2_octob.loc[df_t2_octob['repurchase'] == 1, 'repurchase'] = 1\n",
    "df_t2_octob.loc[df_t2_octob['repurchase'] == 2, 'repurchase'] = 0"
   ]
  },
  {
   "cell_type": "markdown",
   "metadata": {},
   "source": [
    "#### Submitted Time Merge"
   ]
  },
  {
   "cell_type": "code",
   "execution_count": 2608,
   "metadata": {},
   "outputs": [],
   "source": [
    "df_t2_july = merge_subtime(df_t2_july, df_te2_july)\n",
    "\n",
    "df_t2_octob = merge_subtime(df_t2_octob, df_te2_octob)"
   ]
  },
  {
   "cell_type": "markdown",
   "metadata": {},
   "source": [
    "#### Change data type"
   ]
  },
  {
   "cell_type": "code",
   "execution_count": 2609,
   "metadata": {},
   "outputs": [],
   "source": [
    "df_t2_july = change_dtype(df_t2_july)\n",
    "\n",
    "df_t2_octob = change_dtype(df_t2_octob)\n"
   ]
  },
  {
   "cell_type": "markdown",
   "metadata": {},
   "source": [
    "#### Change submitted time"
   ]
  },
  {
   "cell_type": "code",
   "execution_count": 2610,
   "metadata": {},
   "outputs": [],
   "source": [
    "df_t2_july = change_subtime(df_t2_july)\n",
    "df_t2_octob = change_subtime(df_t2_octob)"
   ]
  },
  {
   "cell_type": "markdown",
   "metadata": {},
   "source": [
    "### Separate Customers"
   ]
  },
  {
   "cell_type": "code",
   "execution_count": 2611,
   "metadata": {},
   "outputs": [
    {
     "name": "stdout",
     "output_type": "stream",
     "text": [
      "instance_id         object\n",
      "submitted_time      object\n",
      "questionnaire_id    object\n",
      "response_id         object\n",
      "question_id         object\n",
      "value_extended      object\n",
      "Unnamed: 6          object\n",
      "Unnamed: 7          object\n",
      "Unnamed: 8          object\n",
      "Unnamed: 9          object\n",
      "Unnamed: 10         object\n",
      "Unnamed: 11         object\n",
      "title               object\n",
      "dtype: object\n",
      "instance_id         object\n",
      "submitted_time      object\n",
      "questionnaire_id    object\n",
      "response_id         object\n",
      "question_id         object\n",
      "value_extended      object\n",
      "Unnamed: 6          object\n",
      "Unnamed: 7          object\n",
      "Unnamed: 8          object\n",
      "Unnamed: 9          object\n",
      "Unnamed: 10         object\n",
      "Unnamed: 11         object\n",
      "title               object\n",
      "dtype: object\n",
      "instance_id         object\n",
      "submitted_time      object\n",
      "questionnaire_id    object\n",
      "response_id         object\n",
      "question_id         object\n",
      "value_extended      object\n",
      "Unnamed: 6          object\n",
      "Unnamed: 7          object\n",
      "Unnamed: 8          object\n",
      "Unnamed: 9          object\n",
      "Unnamed: 10         object\n",
      "Unnamed: 11         object\n",
      "Unnamed: 12         object\n",
      "Unnamed: 13         object\n",
      "Unnamed: 14         object\n",
      "Unnamed: 15         object\n",
      "Unnamed: 16         object\n",
      "Unnamed: 17         object\n",
      "Unnamed: 18         object\n",
      "Unnamed: 19         object\n",
      "Unnamed: 20         object\n",
      "Unnamed: 21         object\n",
      "Unnamed: 22         object\n",
      "Unnamed: 23         object\n",
      "Unnamed: 24         object\n",
      "Unnamed: 25         object\n",
      "Unnamed: 26         object\n",
      "title               object\n",
      "dtype: object\n",
      "instance_id         object\n",
      "submitted_time      object\n",
      "questionnaire_id    object\n",
      "response_id         object\n",
      "question_id         object\n",
      "value_extended      object\n",
      "Unnamed: 6          object\n",
      "Unnamed: 7          object\n",
      "Unnamed: 8          object\n",
      "Unnamed: 9          object\n",
      "Unnamed: 10         object\n",
      "Unnamed: 11         object\n",
      "Unnamed: 12         object\n",
      "Unnamed: 13         object\n",
      "Unnamed: 14         object\n",
      "Unnamed: 15         object\n",
      "Unnamed: 16         object\n",
      "Unnamed: 17         object\n",
      "Unnamed: 18         object\n",
      "Unnamed: 19         object\n",
      "Unnamed: 20         object\n",
      "Unnamed: 21         object\n",
      "Unnamed: 22         object\n",
      "Unnamed: 23         object\n",
      "Unnamed: 24         object\n",
      "Unnamed: 25         object\n",
      "Unnamed: 26         object\n",
      "title               object\n",
      "dtype: object\n"
     ]
    }
   ],
   "source": [
    "df_t2_j1 = separate_cust(df_te2_jul, 'o43OEMQs6QyHZHD24w', 1)\n",
    "df_t2_j2 = separate_cust(df_te2_jul, 'o43OEMQs6QyHZHD24w', 2)\n",
    "\n",
    "df_t2_o1 = separate_cust(df_te2_oct, 'o43OEMQs6QyHZHD24w', 1)\n",
    "df_t2_o2 = separate_cust(df_te2_oct, 'o43OEMQs6QyHZHD24w', 2)"
   ]
  },
  {
   "cell_type": "markdown",
   "metadata": {},
   "source": [
    "### Create Tables"
   ]
  },
  {
   "cell_type": "code",
   "execution_count": 2612,
   "metadata": {},
   "outputs": [],
   "source": [
    "df_t2_jul1 = pd.DataFrame({'instance_id': []})\n",
    "df_t2_jul2 = pd.DataFrame({'instance_id': []})\n",
    "\n",
    "df_t2_oct1 = pd.DataFrame({'instance_id': []})\n",
    "df_t2_oct2 = pd.DataFrame({'instance_id': []})\n",
    "\n",
    "df_t2_jul1['instance_id'] = df_t2_j1['instance_id'].unique().tolist()\n",
    "df_t2_jul2['instance_id'] = df_t2_j2['instance_id'].unique().tolist()\n",
    "\n",
    "df_t2_oct1['instance_id'] = df_t2_o1['instance_id'].unique().tolist()\n",
    "df_t2_oct2['instance_id'] = df_t2_o2['instance_id'].unique().tolist()"
   ]
  },
  {
   "cell_type": "markdown",
   "metadata": {},
   "source": [
    "#### Payment methods"
   ]
  },
  {
   "cell_type": "code",
   "execution_count": 2613,
   "metadata": {},
   "outputs": [],
   "source": [
    "df_t2_jul1 = format_table(df_t2_j1, df_t2_jul1, '6mbTGZ8hQxWEnEnFoIqhpg', \"pay_meth\")\n",
    "df_t2_jul2 = format_table(df_t2_j2, df_t2_jul2, '6mbTGZ8hQxWEnEnFoIqhpg', \"pay_meth\")\n",
    "\n",
    "df_t2_oct1 = format_table(df_t2_o1, df_t2_oct1, '6mbTGZ8hQxWEnEnFoIqhpg',\"pay_meth\")\n",
    "df_t2_oct2 = format_table(df_t2_o2, df_t2_oct2, '6mbTGZ8hQxWEnEnFoIqhpg', \"pay_meth\")"
   ]
  },
  {
   "cell_type": "markdown",
   "metadata": {},
   "source": [
    "#### Reliability"
   ]
  },
  {
   "cell_type": "code",
   "execution_count": 2614,
   "metadata": {},
   "outputs": [],
   "source": [
    "df_t2_jul1 = format_table(df_t2_j1, df_t2_jul1, 'fx2KDu08QZWqUlJST9ZLfw', \"reliability\")\n",
    "df_t2_jul2 = format_table(df_t2_j2, df_t2_jul2, 'fx2KDu08QZWqUlJST9ZLfw', \"reliability\")\n",
    "\n",
    "df_t2_oct1 = format_table(df_t2_o1, df_t2_oct1, 'fx2KDu08QZWqUlJST9ZLfw',\"reliability\")\n",
    "df_t2_oct2 = format_table(df_t2_o2, df_t2_oct2, 'fx2KDu08QZWqUlJST9ZLfw', \"reliability\")"
   ]
  },
  {
   "cell_type": "markdown",
   "metadata": {},
   "source": [
    "#### Variety"
   ]
  },
  {
   "cell_type": "code",
   "execution_count": 2615,
   "metadata": {},
   "outputs": [],
   "source": [
    "df_t2_jul1 = format_table(df_t2_j1, df_t2_jul1, 'hkdtluNoSSuz98RwWxL4w', \"variety\")\n",
    "df_t2_jul2 = format_table(df_t2_j2, df_t2_jul2, 'hkdtluNoSSuz98RwWxL4w', \"variety\")\n",
    "\n",
    "df_t2_oct1 = format_table(df_t2_o1, df_t2_oct1, 'hkdtluNoSSuz98RwWxL4w',\"variety\")\n",
    "df_t2_oct2 = format_table(df_t2_o2, df_t2_oct2, 'hkdtluNoSSuz98RwWxL4w', \"variety\")"
   ]
  },
  {
   "cell_type": "markdown",
   "metadata": {},
   "source": [
    "#### Product availability"
   ]
  },
  {
   "cell_type": "code",
   "execution_count": 2616,
   "metadata": {},
   "outputs": [],
   "source": [
    "df_t2_jul1 = format_table(df_t2_j1, df_t2_jul1, 'i9KQhYJRu92qzcCPnlHg', \"prod_avail\")\n",
    "df_t2_jul2 = format_table(df_t2_j2, df_t2_jul2, 'i9KQhYJRu92qzcCPnlHg', \"prod_avail\")\n",
    "\n",
    "df_t2_oct1 = format_table(df_t2_o1, df_t2_oct1, 'i9KQhYJRu92qzcCPnlHg',\"prod_avail\")\n",
    "df_t2_oct2 = format_table(df_t2_o2, df_t2_oct2, 'i9KQhYJRu92qzcCPnlHg', \"prod_avail\")"
   ]
  },
  {
   "cell_type": "markdown",
   "metadata": {},
   "source": [
    "#### Overall service"
   ]
  },
  {
   "cell_type": "code",
   "execution_count": 2617,
   "metadata": {},
   "outputs": [],
   "source": [
    "df_t2_jul1 = format_table(df_t2_j1, df_t2_jul1, 'LHHAquYeQN29BlMgObJmw', \"service\")\n",
    "df_t2_jul2 = format_table(df_t2_j2, df_t2_jul2, 'LHHAquYeQN29BlMgObJmw', \"service\")\n",
    "\n",
    "df_t2_oct1 = format_table(df_t2_o1, df_t2_oct1, 'LHHAquYeQN29BlMgObJmw',\"service\")\n",
    "df_t2_oct2 = format_table(df_t2_o2, df_t2_oct2, 'LHHAquYeQN29BlMgObJmw', \"service\")"
   ]
  },
  {
   "cell_type": "markdown",
   "metadata": {},
   "source": [
    "#### Price"
   ]
  },
  {
   "cell_type": "code",
   "execution_count": 2618,
   "metadata": {},
   "outputs": [],
   "source": [
    "df_t2_jul1 = format_table(df_t2_j1, df_t2_jul1, 'MjkSKpuqQO6q2KoQ3u9Pw', \"price\")\n",
    "df_t2_jul2 = format_table(df_t2_j2, df_t2_jul2, 'MjkSKpuqQO6q2KoQ3u9Pw', \"price\")\n",
    "\n",
    "df_t2_oct1 = format_table(df_t2_o1, df_t2_oct1, 'MjkSKpuqQO6q2KoQ3u9Pw',\"price\")\n",
    "df_t2_oct2 = format_table(df_t2_o2, df_t2_oct2, 'MjkSKpuqQO6q2KoQ3u9Pw', \"price\")"
   ]
  },
  {
   "cell_type": "markdown",
   "metadata": {},
   "source": [
    "#### E-shop functionality"
   ]
  },
  {
   "cell_type": "code",
   "execution_count": 2619,
   "metadata": {},
   "outputs": [],
   "source": [
    "df_t2_jul1 = format_table(df_t2_j1, df_t2_jul1, 'R6R5YCFQ2mhOZAFE3eKeg', \"eshop_func\")\n",
    "df_t2_jul2 = format_table(df_t2_j2, df_t2_jul2, 'R6R5YCFQ2mhOZAFE3eKeg', \"eshop_func\")\n",
    "\n",
    "df_t2_oct1 = format_table(df_t2_o1, df_t2_oct1, 'R6R5YCFQ2mhOZAFE3eKeg',\"eshop_func\")\n",
    "df_t2_oct2 = format_table(df_t2_o2, df_t2_oct2, 'R6R5YCFQ2mhOZAFE3eKeg', \"eshop_func\")"
   ]
  },
  {
   "cell_type": "markdown",
   "metadata": {},
   "source": [
    "#### Condition"
   ]
  },
  {
   "cell_type": "code",
   "execution_count": 2620,
   "metadata": {},
   "outputs": [],
   "source": [
    "df_t2_jul1 = format_table(df_t2_j1, df_t2_jul1, 'bH2LUz8LQfqcZPSLoRg4gA', \"condition\")\n",
    "\n",
    "df_t2_oct1 = format_table(df_t2_o1, df_t2_oct1, 'bH2LUz8LQfqcZPSLoRg4gA',\"condition\")\n"
   ]
  },
  {
   "cell_type": "markdown",
   "metadata": {},
   "source": [
    "#### Shipping time"
   ]
  },
  {
   "cell_type": "code",
   "execution_count": 2621,
   "metadata": {},
   "outputs": [],
   "source": [
    "df_t2_jul1 = format_table(df_t2_j1, df_t2_jul1, 'joQ7dY7sTtuLFKvpYWCIfA', \"ship_time\")\n",
    "\n",
    "df_t2_oct1 = format_table(df_t2_o1, df_t2_oct1, 'joQ7dY7sTtuLFKvpYWCIfA',\"ship_time\")\n"
   ]
  },
  {
   "cell_type": "markdown",
   "metadata": {},
   "source": [
    "#### Repurchase"
   ]
  },
  {
   "cell_type": "code",
   "execution_count": 2622,
   "metadata": {},
   "outputs": [],
   "source": [
    "df_t2_jul1 = format_table(df_t2_j1, df_t2_jul1, 'Qknhmpm1SwaXFPerkIThzg', \"repurchase\")\n",
    "df_t2_jul1.loc[df_t2_jul1['repurchase'] == 1, 'repurchase'] = 1\n",
    "df_t2_jul1.loc[df_t2_jul1['repurchase'] == 2, 'repurchase'] = 0\n",
    "\n",
    "df_t2_jul2 = format_table(df_t2_j2, df_t2_jul2, 'Qknhmpm1SwaXFPerkIThzg', \"repurchase\")\n",
    "df_t2_jul2.loc[df_t2_jul2['repurchase'] == 1, 'repurchase'] = 1\n",
    "df_t2_jul2.loc[df_t2_jul2['repurchase'] == 2, 'repurchase'] = 0\n",
    "\n",
    "df_t2_oct1 = format_table(df_t2_o1, df_t2_oct1, 'Qknhmpm1SwaXFPerkIThzg',\"repurchase\")\n",
    "df_t2_oct1.loc[df_t2_oct1['repurchase'] == 1, 'repurchase'] = 1\n",
    "df_t2_oct1.loc[df_t2_oct1['repurchase'] == 2, 'repurchase'] = 0\n",
    "\n",
    "df_t2_oct2 = format_table(df_t2_o2, df_t2_oct2, 'Qknhmpm1SwaXFPerkIThzg', \"repurchase\")\n",
    "df_t2_oct2.loc[df_t2_oct2['repurchase'] == 1, 'repurchase'] = 1\n",
    "df_t2_oct2.loc[df_t2_oct2['repurchase'] == 2, 'repurchase'] = 0\n"
   ]
  },
  {
   "cell_type": "markdown",
   "metadata": {},
   "source": [
    "#### Submitted Time"
   ]
  },
  {
   "cell_type": "code",
   "execution_count": 2623,
   "metadata": {},
   "outputs": [],
   "source": [
    "df_t2_jul1 = merge_subtime(df_t2_jul1, df_te2_jul)\n",
    "df_t2_jul2 = merge_subtime(df_t2_jul2, df_te2_jul)\n",
    "\n",
    "df_t2_oct1 = merge_subtime(df_t2_oct1, df_te2_oct)\n",
    "df_t2_oct2 = merge_subtime(df_t2_oct2, df_te2_oct)"
   ]
  },
  {
   "cell_type": "markdown",
   "metadata": {},
   "source": [
    "### Change data type"
   ]
  },
  {
   "cell_type": "code",
   "execution_count": 2624,
   "metadata": {},
   "outputs": [],
   "source": [
    "df_t2_jul1 = change_dtype(df_t2_jul1)\n",
    "df_t2_jul2 = change_dtype(df_t2_jul2)\n",
    "\n",
    "df_t2_oct1 = change_dtype(df_t2_oct1)\n",
    "df_t2_oct2 = change_dtype(df_t2_oct2)"
   ]
  },
  {
   "cell_type": "markdown",
   "metadata": {},
   "source": [
    "### Change submitted time"
   ]
  },
  {
   "cell_type": "code",
   "execution_count": 2625,
   "metadata": {},
   "outputs": [],
   "source": [
    "df_t2_jul1 = change_subtime(df_t2_jul1)\n",
    "df_t2_jul2 = change_subtime(df_t2_jul2)\n",
    "\n",
    "df_t2_oct1 = change_subtime(df_t2_oct1)\n",
    "df_t2_oct2 = change_subtime(df_t2_oct2)"
   ]
  },
  {
   "cell_type": "markdown",
   "metadata": {},
   "source": [
    "## Testing the Logistic Regression Algorithm\n",
    "We will be using the Algorithm of 'Logistic Regression' in order to predict if the people answering the questionnaires would buy the product again or not. Although this question already exists, we are splitting the column of 'repurchase' into 80%, which will be our train set and 20% which will be our test set. \n",
    "Afterwards we are also going to find out the significance of each question/factor and how much it contributes to the repurchase. "
   ]
  },
  {
   "cell_type": "code",
   "execution_count": 2626,
   "metadata": {},
   "outputs": [],
   "source": [
    "from sklearn import preprocessing\n",
    "import matplotlib.pyplot as plt \n",
    "plt.rc(\"font\", size=14)\n",
    "from sklearn.linear_model import LogisticRegression\n",
    "from sklearn.model_selection import train_test_split\n",
    "import seaborn as sns\n",
    "sns.set(style=\"white\")\n",
    "sns.set(style=\"whitegrid\", color_codes=True)"
   ]
  },
  {
   "cell_type": "markdown",
   "metadata": {},
   "source": [
    "## Data Exploration"
   ]
  },
  {
   "cell_type": "markdown",
   "metadata": {},
   "source": [
    "### Compare dates\n",
    "We want to keep accounts for specific dates in order to get a better understanding of whether the quarantine, sales etc. affect the repurchase rate more depending on different factors."
   ]
  },
  {
   "cell_type": "code",
   "execution_count": 2627,
   "metadata": {},
   "outputs": [],
   "source": [
    "from datetime import date\n",
    "def one_date_less(df, year, month, day):\n",
    "    a = date(year, month, day)\n",
    "    df = df[df['date'] < a]\n",
    "    return df"
   ]
  },
  {
   "cell_type": "code",
   "execution_count": 2628,
   "metadata": {},
   "outputs": [],
   "source": [
    "def one_date_more(df, year, month, day):\n",
    "    a = date(year, month, day)\n",
    "    df = df[df['date'] > a]\n",
    "    return df"
   ]
  },
  {
   "cell_type": "markdown",
   "metadata": {},
   "source": [
    "### Calculating repurchase percentages"
   ]
  },
  {
   "cell_type": "code",
   "execution_count": 2629,
   "metadata": {},
   "outputs": [],
   "source": [
    "def repurchase_perc(df):\n",
    "    no_repurchase_count = len(df[df['repurchase'] == 0])\n",
    "    repurchase_count = len(df[df['repurchase'] == 1])\n",
    "    \n",
    "    no_repurchase_pct = no_repurchase_count/(no_repurchase_count + repurchase_count)\n",
    "    print(\"percentage of no repurchase is\", no_repurchase_pct*100)\n",
    "   \n",
    "    repurchase_pct = repurchase_count/(no_repurchase_count + repurchase_count)\n",
    "    print(\"percentage of repurchase\", repurchase_pct*100)"
   ]
  },
  {
   "cell_type": "markdown",
   "metadata": {},
   "source": [
    "### Imbalanced Classes - SMOTE\n",
    "In both cases above the percentages of repurchase and non-repurchase are significantly different, therefore they are unbalanced. \n",
    "Because of that we are going yo use the SMOTE algorithm to up-sample the non-repurchase. The way it works is that it creates synthetic samples from the non-repurchase class (the minority) and is choosing randomly one of the nearest neighbours (using the K-nearest-neighbors algorithm) to create a slightly changed observation. Therefore it doesn't create copies but similar observations to the already existing ones."
   ]
  },
  {
   "cell_type": "code",
   "execution_count": 2630,
   "metadata": {},
   "outputs": [],
   "source": [
    "from imblearn.over_sampling import SMOTE\n",
    "\n",
    "def smote_oversampling(X_train, y_train):\n",
    "   \n",
    "    sa = SMOTE(random_state=0)\n",
    "    \n",
    "    columns = X_train.columns\n",
    "    data_X,data_y = sa.fit_sample(X_train, y_train)\n",
    "    data_X = pd.DataFrame(data = data_X, columns = columns)\n",
    "    data_y= pd.DataFrame(data = data_y,columns = ['repurchase'])\n",
    "    \n",
    "    # we can Check the numbers of our data\n",
    "    print(\"length of oversampled data is \", len(data_X))\n",
    "    print(\"Count of non-repurchase in oversampled data\",len(data_y[data_y['repurchase'] == 0]))\n",
    "    print(\"Count of repurchases\",len(data_y[data_y['repurchase'] == 1]))\n",
    "    print(\"Proportion of non- repurchase data in oversampled data is \",len(data_y[data_y['repurchase'] == 0]) / len(data_X))\n",
    "    print(\"Proportion of repurchase data in oversampled data is \",len(data_y[data_y['repurchase'] == 1]) / len(data_X))\n",
    "  \n",
    "    return data_y, data_X"
   ]
  },
  {
   "cell_type": "markdown",
   "metadata": {},
   "source": [
    "In **both** below cases we are going to be using SMOTE because the sample distribution is very skewed."
   ]
  },
  {
   "cell_type": "markdown",
   "metadata": {},
   "source": [
    "### Implementing the Algorithm "
   ]
  },
  {
   "cell_type": "markdown",
   "metadata": {},
   "source": [
    "Other than implementing the Algorithm of Logistic Regression (with or without the use of SMOTE) we are also going to be calculating metrics such as **Accuracy** and **AUC**. The definition of these metrics is explained below."
   ]
  },
  {
   "cell_type": "markdown",
   "metadata": {},
   "source": [
    "### Accuracy \n",
    "Accuracy is the metric that helps us to evaluate any classification model, such as Logistic Regression. It is a fraction that informs us how many predictions our model got right. \n",
    "The official calculation for binary classification is:\n",
    "(True Positives + True Negatives) / (TP + TN + False Positives + False Negatives)"
   ]
  },
  {
   "cell_type": "markdown",
   "metadata": {},
   "source": [
    "**But**, accuracy **may not** be the perfect metric for class-imbalanced datasets such as the one that we are working on. That's why we are also going to be using the AUC metric."
   ]
  },
  {
   "cell_type": "markdown",
   "metadata": {},
   "source": [
    "### AUC\n",
    "Compared with accuracy, AUC represents **the area underneath the ROC Curve** that we will display below. AUC is very usefull for cases where the sample distribution is very skewed (such as in this case) and therefore it will tend to overfit one class. \n"
   ]
  },
  {
   "cell_type": "markdown",
   "metadata": {},
   "source": [
    "**AUC** can be interpreted as the probability that the model ranks a random positive example higher than a random negative example. It measures the **quality of a model's predictions** whatever the classification threshold."
   ]
  },
  {
   "cell_type": "code",
   "execution_count": 2631,
   "metadata": {},
   "outputs": [],
   "source": [
    "import statsmodels.api as sm\n",
    "from sklearn.linear_model import LogisticRegression\n",
    "from sklearn import metrics\n",
    "from sklearn.metrics import precision_recall_curve, f1_score, roc_curve, roc_auc_score\n",
    "\n",
    "def logreg_fitting(df, a):\n",
    "    \n",
    "    X = df.loc[:, (df.columns != 'repurchase') & (df.columns != 'instance_id') & (df.columns != 'date')]\n",
    "    y = df.loc[:, df.columns == 'repurchase']\n",
    "\n",
    "    # Find the results of the regression\n",
    "    logit_model = sm.Logit(y,X)\n",
    "    result = logit_model.fit()\n",
    "    print(\"Summary Of Results\")\n",
    "    print(result.summary2())\n",
    "    \n",
    "    X_train, X_test, y_train, y_test = train_test_split(X, y, test_size = 0.2, random_state = 0)\n",
    "    logreg = LogisticRegression()\n",
    "    \n",
    "    if (a == True):\n",
    "        # Implement SMOTE\n",
    "        y_train, X_train = smote_oversampling(X_train, y_train)       \n",
    "\n",
    "    \n",
    "    # Fit the model\n",
    "    model = logreg.fit(X_train, y_train)\n",
    "    y_pred = logreg.predict(X_test)\n",
    "    \n",
    "    # Predict Accuracy\n",
    "    print('Accuracy of logistic regression classifier on test set: {:.2f}'.format(logreg.score(X_test, y_test)))\n",
    "    \n",
    "    # Predict AUC \n",
    "    y_prob = logreg.predict_proba(X_test)\n",
    "    y_pred = model.predict(X_test)\n",
    "    auc = roc_auc_score(y_test, y_prob[:,1])\n",
    "    print('Logistic Regression AUC: %.3f' % auc)\n",
    " "
   ]
  },
  {
   "cell_type": "markdown",
   "metadata": {},
   "source": [
    "### ROC Curve"
   ]
  },
  {
   "cell_type": "code",
   "execution_count": null,
   "metadata": {},
   "outputs": [],
   "source": []
  },
  {
   "cell_type": "markdown",
   "metadata": {},
   "source": [
    "### First Super Market"
   ]
  },
  {
   "cell_type": "markdown",
   "metadata": {},
   "source": [
    "#### Quarantine"
   ]
  },
  {
   "cell_type": "code",
   "execution_count": 2632,
   "metadata": {},
   "outputs": [
    {
     "name": "stderr",
     "output_type": "stream",
     "text": [
      "C:\\Users\\Pigi\\Anaconda3\\lib\\site-packages\\ipykernel_launcher.py:2: SettingWithCopyWarning: \n",
      "A value is trying to be set on a copy of a slice from a DataFrame\n",
      "\n",
      "See the caveats in the documentation: http://pandas.pydata.org/pandas-docs/stable/indexing.html#indexing-view-versus-copy\n",
      "  \n"
     ]
    }
   ],
   "source": [
    "df_s1_quar = one_date_more(df_s1_oct, 2020, 11, 6)\n",
    "df_s1_quar.sort_values(by = 'date', inplace = True)"
   ]
  },
  {
   "cell_type": "code",
   "execution_count": 2633,
   "metadata": {},
   "outputs": [
    {
     "name": "stdout",
     "output_type": "stream",
     "text": [
      "percentage of no repurchase is 5.951516911017564\n",
      "percentage of repurchase 94.04848308898244\n"
     ]
    }
   ],
   "source": [
    "repurchase_perc(df_s1_quar)"
   ]
  },
  {
   "cell_type": "code",
   "execution_count": 2634,
   "metadata": {},
   "outputs": [
    {
     "name": "stdout",
     "output_type": "stream",
     "text": [
      "Optimization terminated successfully.\n",
      "         Current function value: 0.122929\n",
      "         Iterations 8\n",
      "Summary Of Results\n",
      "                          Results: Logit\n",
      "==================================================================\n",
      "Model:              Logit            Pseudo R-squared: 0.455      \n",
      "Dependent Variable: repurchase       AIC:              1705.7104  \n",
      "Date:               2021-02-04 17:26 BIC:              1746.7364  \n",
      "No. Observations:   6889             Log-Likelihood:   -846.86    \n",
      "Df Model:           5                LL-Null:          -1554.4    \n",
      "Df Residuals:       6883             LLR p-value:      7.5866e-304\n",
      "Converged:          1.0000           Scale:            1.0000     \n",
      "No. Iterations:     8.0000                                        \n",
      "-------------------------------------------------------------------\n",
      "                Coef.   Std.Err.     z     P>|z|    [0.025   0.975]\n",
      "-------------------------------------------------------------------\n",
      "eshop_sat       0.1294    0.0463   2.7966  0.0052   0.0387   0.2201\n",
      "eshop_exp       0.4867    0.0489   9.9461  0.0000   0.3908   0.5826\n",
      "service         0.3262    0.0443   7.3610  0.0000   0.2393   0.4131\n",
      "ship_time      -0.0994    0.0333  -2.9860  0.0028  -0.1647  -0.0342\n",
      "condition       0.0009    0.0410   0.0222  0.9823  -0.0795   0.0813\n",
      "packaging      -0.3356    0.0431  -7.7791  0.0000  -0.4201  -0.2510\n",
      "==================================================================\n",
      "\n",
      "length of oversampled data is  10346\n",
      "Count of non-repurchase in oversampled data 5173\n",
      "Count of repurchases 5173\n",
      "Proportion of non- repurchase data in oversampled data is  0.5\n",
      "Proportion of repurchase data in oversampled data is  0.5\n",
      "Accuracy of logistic regression classifier on test set: 0.91\n",
      "Logistic Regression AUC: 0.955\n"
     ]
    },
    {
     "name": "stderr",
     "output_type": "stream",
     "text": [
      "C:\\Users\\Pigi\\Anaconda3\\lib\\site-packages\\sklearn\\utils\\validation.py:72: DataConversionWarning: A column-vector y was passed when a 1d array was expected. Please change the shape of y to (n_samples, ), for example using ravel().\n",
      "  return f(**kwargs)\n"
     ]
    }
   ],
   "source": [
    "logreg_fitting(df_s1_quar, True)"
   ]
  },
  {
   "cell_type": "code",
   "execution_count": 2635,
   "metadata": {},
   "outputs": [
    {
     "data": {
      "text/html": [
       "<div>\n",
       "<style scoped>\n",
       "    .dataframe tbody tr th:only-of-type {\n",
       "        vertical-align: middle;\n",
       "    }\n",
       "\n",
       "    .dataframe tbody tr th {\n",
       "        vertical-align: top;\n",
       "    }\n",
       "\n",
       "    .dataframe thead th {\n",
       "        text-align: right;\n",
       "    }\n",
       "</style>\n",
       "<table border=\"1\" class=\"dataframe\">\n",
       "  <thead>\n",
       "    <tr style=\"text-align: right;\">\n",
       "      <th></th>\n",
       "      <th>eshop_sat</th>\n",
       "      <th>eshop_exp</th>\n",
       "      <th>service</th>\n",
       "      <th>ship_time</th>\n",
       "      <th>condition</th>\n",
       "      <th>packaging</th>\n",
       "    </tr>\n",
       "    <tr>\n",
       "      <th>repurchase</th>\n",
       "      <th></th>\n",
       "      <th></th>\n",
       "      <th></th>\n",
       "      <th></th>\n",
       "      <th></th>\n",
       "      <th></th>\n",
       "    </tr>\n",
       "  </thead>\n",
       "  <tbody>\n",
       "    <tr>\n",
       "      <th>0</th>\n",
       "      <td>4.090244</td>\n",
       "      <td>3.580488</td>\n",
       "      <td>4.380488</td>\n",
       "      <td>5.887805</td>\n",
       "      <td>6.158537</td>\n",
       "      <td>6.819512</td>\n",
       "    </tr>\n",
       "    <tr>\n",
       "      <th>1</th>\n",
       "      <td>8.450069</td>\n",
       "      <td>8.426763</td>\n",
       "      <td>8.939497</td>\n",
       "      <td>8.740238</td>\n",
       "      <td>9.002161</td>\n",
       "      <td>9.106807</td>\n",
       "    </tr>\n",
       "  </tbody>\n",
       "</table>\n",
       "</div>"
      ],
      "text/plain": [
       "            eshop_sat  eshop_exp   service  ship_time  condition  packaging\n",
       "repurchase                                                                 \n",
       "0            4.090244   3.580488  4.380488   5.887805   6.158537   6.819512\n",
       "1            8.450069   8.426763  8.939497   8.740238   9.002161   9.106807"
      ]
     },
     "execution_count": 2635,
     "metadata": {},
     "output_type": "execute_result"
    }
   ],
   "source": [
    "df_s1_quar.groupby('repurchase').mean()"
   ]
  },
  {
   "cell_type": "markdown",
   "metadata": {},
   "source": [
    "#### Before quarantine "
   ]
  },
  {
   "cell_type": "code",
   "execution_count": 2636,
   "metadata": {},
   "outputs": [
    {
     "name": "stderr",
     "output_type": "stream",
     "text": [
      "C:\\Users\\Pigi\\Anaconda3\\lib\\site-packages\\ipykernel_launcher.py:2: SettingWithCopyWarning: \n",
      "A value is trying to be set on a copy of a slice from a DataFrame\n",
      "\n",
      "See the caveats in the documentation: http://pandas.pydata.org/pandas-docs/stable/indexing.html#indexing-view-versus-copy\n",
      "  \n"
     ]
    }
   ],
   "source": [
    "df_s1_bq = one_date_less(df_s1_oct, 2020, 11, 7)\n",
    "df_s1_bq.sort_values(by = 'date', inplace = True)"
   ]
  },
  {
   "cell_type": "markdown",
   "metadata": {},
   "source": [
    "#### Connect before and during quarantine dataframes\n",
    "We are using concat to connect the two dataframes in order to include the month of October in the \"Before quarantine\" period."
   ]
  },
  {
   "cell_type": "code",
   "execution_count": 2637,
   "metadata": {},
   "outputs": [],
   "source": [
    "frames = [df_s1_bq, df_s1_jul]\n",
    "df_s1_befq = pd.concat(frames)"
   ]
  },
  {
   "cell_type": "code",
   "execution_count": 2638,
   "metadata": {},
   "outputs": [],
   "source": [
    "df_s1_befq.sort_values(by = 'date', inplace = True)"
   ]
  },
  {
   "cell_type": "code",
   "execution_count": 2639,
   "metadata": {},
   "outputs": [
    {
     "name": "stdout",
     "output_type": "stream",
     "text": [
      "Optimization terminated successfully.\n",
      "         Current function value: 0.105832\n",
      "         Iterations 8\n",
      "Summary Of Results\n",
      "                         Results: Logit\n",
      "================================================================\n",
      "Model:              Logit            Pseudo R-squared: 0.475    \n",
      "Dependent Variable: repurchase       AIC:              1775.7954\n",
      "Date:               2021-02-04 17:26 BIC:              1817.9633\n",
      "No. Observations:   8333             Log-Likelihood:   -881.90  \n",
      "Df Model:           5                LL-Null:          -1678.7  \n",
      "Df Residuals:       8327             LLR p-value:      0.0000   \n",
      "Converged:          1.0000           Scale:            1.0000   \n",
      "No. Iterations:     8.0000                                      \n",
      "-----------------------------------------------------------------\n",
      "              Coef.   Std.Err.     z     P>|z|    [0.025   0.975]\n",
      "-----------------------------------------------------------------\n",
      "eshop_sat     0.0281    0.0398   0.7054  0.4805  -0.0500   0.1061\n",
      "eshop_exp     0.6063    0.0453  13.3807  0.0000   0.5175   0.6951\n",
      "service       0.2679    0.0412   6.5058  0.0000   0.1872   0.3486\n",
      "ship_time    -0.1250    0.0285  -4.3884  0.0000  -0.1808  -0.0692\n",
      "condition     0.0731    0.0368   1.9834  0.0473   0.0009   0.1453\n",
      "packaging    -0.3078    0.0395  -7.7986  0.0000  -0.3852  -0.2305\n",
      "================================================================\n",
      "\n",
      "length of oversampled data is  12636\n",
      "Count of non-repurchase in oversampled data 6318\n",
      "Count of repurchases 6318\n",
      "Proportion of non- repurchase data in oversampled data is  0.5\n",
      "Proportion of repurchase data in oversampled data is  0.5\n",
      "Accuracy of logistic regression classifier on test set: 0.92\n",
      "Logistic Regression AUC: 0.966\n"
     ]
    },
    {
     "name": "stderr",
     "output_type": "stream",
     "text": [
      "C:\\Users\\Pigi\\Anaconda3\\lib\\site-packages\\sklearn\\utils\\validation.py:72: DataConversionWarning: A column-vector y was passed when a 1d array was expected. Please change the shape of y to (n_samples, ), for example using ravel().\n",
      "  return f(**kwargs)\n"
     ]
    }
   ],
   "source": [
    "logreg_fitting(df_s1_befq, True)"
   ]
  },
  {
   "cell_type": "code",
   "execution_count": 2640,
   "metadata": {},
   "outputs": [
    {
     "data": {
      "text/html": [
       "<div>\n",
       "<style scoped>\n",
       "    .dataframe tbody tr th:only-of-type {\n",
       "        vertical-align: middle;\n",
       "    }\n",
       "\n",
       "    .dataframe tbody tr th {\n",
       "        vertical-align: top;\n",
       "    }\n",
       "\n",
       "    .dataframe thead th {\n",
       "        text-align: right;\n",
       "    }\n",
       "</style>\n",
       "<table border=\"1\" class=\"dataframe\">\n",
       "  <thead>\n",
       "    <tr style=\"text-align: right;\">\n",
       "      <th></th>\n",
       "      <th>eshop_sat</th>\n",
       "      <th>eshop_exp</th>\n",
       "      <th>service</th>\n",
       "      <th>ship_time</th>\n",
       "      <th>condition</th>\n",
       "      <th>packaging</th>\n",
       "    </tr>\n",
       "    <tr>\n",
       "      <th>repurchase</th>\n",
       "      <th></th>\n",
       "      <th></th>\n",
       "      <th></th>\n",
       "      <th></th>\n",
       "      <th></th>\n",
       "      <th></th>\n",
       "    </tr>\n",
       "  </thead>\n",
       "  <tbody>\n",
       "    <tr>\n",
       "      <th>0</th>\n",
       "      <td>4.040000</td>\n",
       "      <td>3.277647</td>\n",
       "      <td>4.296471</td>\n",
       "      <td>6.087059</td>\n",
       "      <td>5.644706</td>\n",
       "      <td>6.543529</td>\n",
       "    </tr>\n",
       "    <tr>\n",
       "      <th>1</th>\n",
       "      <td>8.427668</td>\n",
       "      <td>8.406171</td>\n",
       "      <td>8.955867</td>\n",
       "      <td>8.971927</td>\n",
       "      <td>8.939808</td>\n",
       "      <td>9.041477</td>\n",
       "    </tr>\n",
       "  </tbody>\n",
       "</table>\n",
       "</div>"
      ],
      "text/plain": [
       "            eshop_sat  eshop_exp   service  ship_time  condition  packaging\n",
       "repurchase                                                                 \n",
       "0            4.040000   3.277647  4.296471   6.087059   5.644706   6.543529\n",
       "1            8.427668   8.406171  8.955867   8.971927   8.939808   9.041477"
      ]
     },
     "execution_count": 2640,
     "metadata": {},
     "output_type": "execute_result"
    }
   ],
   "source": [
    "df_s1_befq.groupby('repurchase').mean()"
   ]
  },
  {
   "cell_type": "markdown",
   "metadata": {},
   "source": [
    "## Note!!\n",
    "Mention the average questionnaires answered per month to emphasize that there was no significant difference for the supermarkets!"
   ]
  },
  {
   "cell_type": "markdown",
   "metadata": {},
   "source": [
    "### Second Super Market"
   ]
  },
  {
   "cell_type": "markdown",
   "metadata": {},
   "source": [
    "#### Quarantine"
   ]
  },
  {
   "cell_type": "code",
   "execution_count": 2641,
   "metadata": {},
   "outputs": [
    {
     "name": "stderr",
     "output_type": "stream",
     "text": [
      "C:\\Users\\Pigi\\Anaconda3\\lib\\site-packages\\ipykernel_launcher.py:2: SettingWithCopyWarning: \n",
      "A value is trying to be set on a copy of a slice from a DataFrame\n",
      "\n",
      "See the caveats in the documentation: http://pandas.pydata.org/pandas-docs/stable/indexing.html#indexing-view-versus-copy\n",
      "  \n"
     ]
    }
   ],
   "source": [
    "df_s2_quar = one_date_more(df_s2_oct, 2020, 11, 6)\n",
    "df_s2_quar.sort_values(by = 'date', inplace = True)"
   ]
  },
  {
   "cell_type": "code",
   "execution_count": 2642,
   "metadata": {},
   "outputs": [
    {
     "name": "stdout",
     "output_type": "stream",
     "text": [
      "percentage of no repurchase is 7.649986900707361\n",
      "percentage of repurchase 92.35001309929264\n"
     ]
    }
   ],
   "source": [
    "repurchase_perc(df_s2_quar)"
   ]
  },
  {
   "cell_type": "code",
   "execution_count": 2643,
   "metadata": {},
   "outputs": [
    {
     "name": "stderr",
     "output_type": "stream",
     "text": [
      "C:\\Users\\Pigi\\Anaconda3\\lib\\site-packages\\sklearn\\utils\\validation.py:72: DataConversionWarning: A column-vector y was passed when a 1d array was expected. Please change the shape of y to (n_samples, ), for example using ravel().\n",
      "  return f(**kwargs)\n"
     ]
    },
    {
     "name": "stdout",
     "output_type": "stream",
     "text": [
      "Optimization terminated successfully.\n",
      "         Current function value: 0.129148\n",
      "         Iterations 8\n",
      "Summary Of Results\n",
      "                          Results: Logit\n",
      "==================================================================\n",
      "Model:              Logit            Pseudo R-squared: 0.522      \n",
      "Dependent Variable: repurchase       AIC:              997.9190   \n",
      "Date:               2021-02-04 17:26 BIC:              1035.4023  \n",
      "No. Observations:   3817             Log-Likelihood:   -492.96    \n",
      "Df Model:           5                LL-Null:          -1031.1    \n",
      "Df Residuals:       3811             LLR p-value:      1.8102e-230\n",
      "Converged:          1.0000           Scale:            1.0000     \n",
      "No. Iterations:     8.0000                                        \n",
      "-------------------------------------------------------------------\n",
      "                Coef.   Std.Err.     z     P>|z|    [0.025   0.975]\n",
      "-------------------------------------------------------------------\n",
      "eshop_sat       0.0227    0.0561   0.4045  0.6859  -0.0872   0.1325\n",
      "packaging      -0.4651    0.0640  -7.2660  0.0000  -0.5906  -0.3396\n",
      "service         0.2677    0.0656   4.0778  0.0000   0.1390   0.3963\n",
      "ship_time      -0.0038    0.0385  -0.0997  0.9206  -0.0793   0.0716\n",
      "condition       0.0485    0.0597   0.8130  0.4162  -0.0685   0.1656\n",
      "eshop_exp       0.6114    0.0615   9.9445  0.0000   0.4909   0.7319\n",
      "==================================================================\n",
      "\n",
      "length of oversampled data is  5632\n",
      "Count of non-repurchase in oversampled data 2816\n",
      "Count of repurchases 2816\n",
      "Proportion of non- repurchase data in oversampled data is  0.5\n",
      "Proportion of repurchase data in oversampled data is  0.5\n",
      "Accuracy of logistic regression classifier on test set: 0.94\n",
      "Logistic Regression AUC: 0.981\n"
     ]
    }
   ],
   "source": [
    "logreg_fitting(df_s2_quar, True)"
   ]
  },
  {
   "cell_type": "code",
   "execution_count": 2644,
   "metadata": {},
   "outputs": [
    {
     "data": {
      "text/html": [
       "<div>\n",
       "<style scoped>\n",
       "    .dataframe tbody tr th:only-of-type {\n",
       "        vertical-align: middle;\n",
       "    }\n",
       "\n",
       "    .dataframe tbody tr th {\n",
       "        vertical-align: top;\n",
       "    }\n",
       "\n",
       "    .dataframe thead th {\n",
       "        text-align: right;\n",
       "    }\n",
       "</style>\n",
       "<table border=\"1\" class=\"dataframe\">\n",
       "  <thead>\n",
       "    <tr style=\"text-align: right;\">\n",
       "      <th></th>\n",
       "      <th>eshop_sat</th>\n",
       "      <th>packaging</th>\n",
       "      <th>service</th>\n",
       "      <th>ship_time</th>\n",
       "      <th>condition</th>\n",
       "      <th>eshop_exp</th>\n",
       "    </tr>\n",
       "    <tr>\n",
       "      <th>repurchase</th>\n",
       "      <th></th>\n",
       "      <th></th>\n",
       "      <th></th>\n",
       "      <th></th>\n",
       "      <th></th>\n",
       "      <th></th>\n",
       "    </tr>\n",
       "  </thead>\n",
       "  <tbody>\n",
       "    <tr>\n",
       "      <th>0</th>\n",
       "      <td>3.828767</td>\n",
       "      <td>5.958904</td>\n",
       "      <td>3.767123</td>\n",
       "      <td>3.976027</td>\n",
       "      <td>5.452055</td>\n",
       "      <td>3.078767</td>\n",
       "    </tr>\n",
       "    <tr>\n",
       "      <th>1</th>\n",
       "      <td>8.900142</td>\n",
       "      <td>9.216454</td>\n",
       "      <td>9.148369</td>\n",
       "      <td>8.840567</td>\n",
       "      <td>9.157730</td>\n",
       "      <td>8.818723</td>\n",
       "    </tr>\n",
       "  </tbody>\n",
       "</table>\n",
       "</div>"
      ],
      "text/plain": [
       "            eshop_sat  packaging   service  ship_time  condition  eshop_exp\n",
       "repurchase                                                                 \n",
       "0            3.828767   5.958904  3.767123   3.976027   5.452055   3.078767\n",
       "1            8.900142   9.216454  9.148369   8.840567   9.157730   8.818723"
      ]
     },
     "execution_count": 2644,
     "metadata": {},
     "output_type": "execute_result"
    }
   ],
   "source": [
    "df_s2_quar.groupby('repurchase').mean()"
   ]
  },
  {
   "cell_type": "markdown",
   "metadata": {},
   "source": [
    "#### Before quarantine"
   ]
  },
  {
   "cell_type": "code",
   "execution_count": 2645,
   "metadata": {},
   "outputs": [
    {
     "name": "stderr",
     "output_type": "stream",
     "text": [
      "C:\\Users\\Pigi\\Anaconda3\\lib\\site-packages\\ipykernel_launcher.py:2: SettingWithCopyWarning: \n",
      "A value is trying to be set on a copy of a slice from a DataFrame\n",
      "\n",
      "See the caveats in the documentation: http://pandas.pydata.org/pandas-docs/stable/indexing.html#indexing-view-versus-copy\n",
      "  \n"
     ]
    }
   ],
   "source": [
    "df_s2_bq = one_date_less(df_s2_oct, 2020, 11, 7)\n",
    "df_s2_bq.sort_values(by = 'date', inplace = True)"
   ]
  },
  {
   "cell_type": "markdown",
   "metadata": {},
   "source": [
    "#### Connect before and during quarantine dataframes"
   ]
  },
  {
   "cell_type": "code",
   "execution_count": 2646,
   "metadata": {},
   "outputs": [],
   "source": [
    "frames = [df_s2_bq, df_s2_jul]\n",
    "df_s2_befq = pd.concat(frames)"
   ]
  },
  {
   "cell_type": "code",
   "execution_count": 2647,
   "metadata": {},
   "outputs": [],
   "source": [
    "df_s2_befq.sort_values(by = 'date', inplace = True)"
   ]
  },
  {
   "cell_type": "code",
   "execution_count": 2648,
   "metadata": {},
   "outputs": [
    {
     "name": "stderr",
     "output_type": "stream",
     "text": [
      "C:\\Users\\Pigi\\Anaconda3\\lib\\site-packages\\sklearn\\utils\\validation.py:72: DataConversionWarning: A column-vector y was passed when a 1d array was expected. Please change the shape of y to (n_samples, ), for example using ravel().\n",
      "  return f(**kwargs)\n"
     ]
    },
    {
     "name": "stdout",
     "output_type": "stream",
     "text": [
      "Optimization terminated successfully.\n",
      "         Current function value: 0.091791\n",
      "         Iterations 8\n",
      "Summary Of Results\n",
      "                          Results: Logit\n",
      "==================================================================\n",
      "Model:              Logit            Pseudo R-squared: 0.482      \n",
      "Dependent Variable: repurchase       AIC:              926.9694   \n",
      "Date:               2021-02-04 17:26 BIC:              966.0533   \n",
      "No. Observations:   4984             Log-Likelihood:   -457.48    \n",
      "Df Model:           5                LL-Null:          -883.01    \n",
      "Df Residuals:       4978             LLR p-value:      1.0391e-181\n",
      "Converged:          1.0000           Scale:            1.0000     \n",
      "No. Iterations:     8.0000                                        \n",
      "-------------------------------------------------------------------\n",
      "                Coef.   Std.Err.     z     P>|z|    [0.025   0.975]\n",
      "-------------------------------------------------------------------\n",
      "eshop_sat       0.0137    0.0609   0.2250  0.8220  -0.1057   0.1332\n",
      "packaging      -0.4604    0.0614  -7.4950  0.0000  -0.5808  -0.3400\n",
      "service         0.1725    0.0674   2.5597  0.0105   0.0404   0.3046\n",
      "ship_time      -0.0384    0.0430  -0.8944  0.3711  -0.1226   0.0458\n",
      "condition       0.1832    0.0564   3.2470  0.0012   0.0726   0.2938\n",
      "eshop_exp       0.6482    0.0647  10.0118  0.0000   0.5213   0.7751\n",
      "==================================================================\n",
      "\n",
      "length of oversampled data is  7646\n",
      "Count of non-repurchase in oversampled data 3823\n",
      "Count of repurchases 3823\n",
      "Proportion of non- repurchase data in oversampled data is  0.5\n",
      "Proportion of repurchase data in oversampled data is  0.5\n",
      "Accuracy of logistic regression classifier on test set: 0.94\n",
      "Logistic Regression AUC: 0.943\n"
     ]
    }
   ],
   "source": [
    "logreg_fitting(df_s2_befq, True)"
   ]
  },
  {
   "cell_type": "code",
   "execution_count": 2649,
   "metadata": {},
   "outputs": [
    {
     "data": {
      "text/html": [
       "<div>\n",
       "<style scoped>\n",
       "    .dataframe tbody tr th:only-of-type {\n",
       "        vertical-align: middle;\n",
       "    }\n",
       "\n",
       "    .dataframe tbody tr th {\n",
       "        vertical-align: top;\n",
       "    }\n",
       "\n",
       "    .dataframe thead th {\n",
       "        text-align: right;\n",
       "    }\n",
       "</style>\n",
       "<table border=\"1\" class=\"dataframe\">\n",
       "  <thead>\n",
       "    <tr style=\"text-align: right;\">\n",
       "      <th></th>\n",
       "      <th>eshop_sat</th>\n",
       "      <th>packaging</th>\n",
       "      <th>service</th>\n",
       "      <th>ship_time</th>\n",
       "      <th>condition</th>\n",
       "      <th>eshop_exp</th>\n",
       "    </tr>\n",
       "    <tr>\n",
       "      <th>repurchase</th>\n",
       "      <th></th>\n",
       "      <th></th>\n",
       "      <th></th>\n",
       "      <th></th>\n",
       "      <th></th>\n",
       "      <th></th>\n",
       "    </tr>\n",
       "  </thead>\n",
       "  <tbody>\n",
       "    <tr>\n",
       "      <th>0</th>\n",
       "      <td>4.350467</td>\n",
       "      <td>6.420561</td>\n",
       "      <td>4.457944</td>\n",
       "      <td>5.079439</td>\n",
       "      <td>5.415888</td>\n",
       "      <td>3.509346</td>\n",
       "    </tr>\n",
       "    <tr>\n",
       "      <th>1</th>\n",
       "      <td>8.925577</td>\n",
       "      <td>9.221593</td>\n",
       "      <td>9.197065</td>\n",
       "      <td>8.983438</td>\n",
       "      <td>9.128092</td>\n",
       "      <td>8.882600</td>\n",
       "    </tr>\n",
       "  </tbody>\n",
       "</table>\n",
       "</div>"
      ],
      "text/plain": [
       "            eshop_sat  packaging   service  ship_time  condition  eshop_exp\n",
       "repurchase                                                                 \n",
       "0            4.350467   6.420561  4.457944   5.079439   5.415888   3.509346\n",
       "1            8.925577   9.221593  9.197065   8.983438   9.128092   8.882600"
      ]
     },
     "execution_count": 2649,
     "metadata": {},
     "output_type": "execute_result"
    }
   ],
   "source": [
    "df_s2_befq.groupby('repurchase').mean()"
   ]
  },
  {
   "cell_type": "markdown",
   "metadata": {},
   "source": [
    "### First Tech Store"
   ]
  },
  {
   "cell_type": "markdown",
   "metadata": {},
   "source": [
    "### All customers together"
   ]
  },
  {
   "cell_type": "markdown",
   "metadata": {},
   "source": [
    "#### Before Quarantine "
   ]
  },
  {
   "cell_type": "code",
   "execution_count": 2650,
   "metadata": {},
   "outputs": [],
   "source": [
    "df_te1_bq = one_date_less(df_t1_octob, 2020, 11, 7)"
   ]
  },
  {
   "cell_type": "code",
   "execution_count": 2651,
   "metadata": {},
   "outputs": [],
   "source": [
    "frames = [df_te1_bq, df_t1_july]\n",
    "df_te1_befq = pd.concat(frames)"
   ]
  },
  {
   "cell_type": "code",
   "execution_count": 2652,
   "metadata": {},
   "outputs": [
    {
     "name": "stdout",
     "output_type": "stream",
     "text": [
      "percentage of no repurchase is 10.739102969046115\n",
      "percentage of repurchase 89.26089703095388\n"
     ]
    }
   ],
   "source": [
    "repurchase_perc(df_te1_befq)"
   ]
  },
  {
   "cell_type": "code",
   "execution_count": 2653,
   "metadata": {},
   "outputs": [
    {
     "name": "stdout",
     "output_type": "stream",
     "text": [
      "Optimization terminated successfully.\n",
      "         Current function value: 0.162807\n",
      "         Iterations 8\n",
      "Summary Of Results\n",
      "                          Results: Logit\n",
      "==================================================================\n",
      "Model:              Logit            Pseudo R-squared: 0.523      \n",
      "Dependent Variable: repurchase       AIC:              529.4472   \n",
      "Date:               2021-02-04 17:26 BIC:              567.0167   \n",
      "No. Observations:   1583             Log-Likelihood:   -257.72    \n",
      "Df Model:           6                LL-Null:          -539.84    \n",
      "Df Residuals:       1576             LLR p-value:      1.2016e-118\n",
      "Converged:          1.0000           Scale:            1.0000     \n",
      "No. Iterations:     8.0000                                        \n",
      "-------------------------------------------------------------------\n",
      "                Coef.   Std.Err.     z     P>|z|    [0.025   0.975]\n",
      "-------------------------------------------------------------------\n",
      "price          -0.2418    0.1416  -1.7075  0.0877  -0.5194   0.0358\n",
      "reliability     0.8297    0.1484   5.5917  0.0000   0.5389   1.1205\n",
      "service         0.9978    0.1476   6.7608  0.0000   0.7086   1.2871\n",
      "variety        -0.4656    0.1566  -2.9727  0.0030  -0.7726  -0.1586\n",
      "pay_meth       -0.6278    0.1247  -5.0361  0.0000  -0.8721  -0.3835\n",
      "web_func        0.2027    0.1419   1.4284  0.1532  -0.0754   0.4807\n",
      "prod_avail      0.2045    0.1224   1.6706  0.0948  -0.0354   0.4444\n",
      "==================================================================\n",
      "\n",
      "length of oversampled data is  2242\n",
      "Count of non-repurchase in oversampled data 1121\n",
      "Count of repurchases 1121\n",
      "Proportion of non- repurchase data in oversampled data is  0.5\n",
      "Proportion of repurchase data in oversampled data is  0.5\n",
      "Accuracy of logistic regression classifier on test set: 0.91\n",
      "Logistic Regression AUC: 0.982\n"
     ]
    },
    {
     "name": "stderr",
     "output_type": "stream",
     "text": [
      "C:\\Users\\Pigi\\Anaconda3\\lib\\site-packages\\sklearn\\utils\\validation.py:72: DataConversionWarning: A column-vector y was passed when a 1d array was expected. Please change the shape of y to (n_samples, ), for example using ravel().\n",
      "  return f(**kwargs)\n"
     ]
    }
   ],
   "source": [
    "logreg_fitting(df_te1_befq, True)"
   ]
  },
  {
   "cell_type": "code",
   "execution_count": 2654,
   "metadata": {},
   "outputs": [
    {
     "data": {
      "text/html": [
       "<div>\n",
       "<style scoped>\n",
       "    .dataframe tbody tr th:only-of-type {\n",
       "        vertical-align: middle;\n",
       "    }\n",
       "\n",
       "    .dataframe tbody tr th {\n",
       "        vertical-align: top;\n",
       "    }\n",
       "\n",
       "    .dataframe thead th {\n",
       "        text-align: right;\n",
       "    }\n",
       "</style>\n",
       "<table border=\"1\" class=\"dataframe\">\n",
       "  <thead>\n",
       "    <tr style=\"text-align: right;\">\n",
       "      <th></th>\n",
       "      <th>price</th>\n",
       "      <th>reliability</th>\n",
       "      <th>service</th>\n",
       "      <th>variety</th>\n",
       "      <th>pay_meth</th>\n",
       "      <th>web_func</th>\n",
       "      <th>prod_avail</th>\n",
       "    </tr>\n",
       "    <tr>\n",
       "      <th>repurchase</th>\n",
       "      <th></th>\n",
       "      <th></th>\n",
       "      <th></th>\n",
       "      <th></th>\n",
       "      <th></th>\n",
       "      <th></th>\n",
       "      <th></th>\n",
       "    </tr>\n",
       "  </thead>\n",
       "  <tbody>\n",
       "    <tr>\n",
       "      <th>0</th>\n",
       "      <td>2.829412</td>\n",
       "      <td>1.870588</td>\n",
       "      <td>1.829412</td>\n",
       "      <td>3.041176</td>\n",
       "      <td>3.529412</td>\n",
       "      <td>2.729412</td>\n",
       "      <td>2.288235</td>\n",
       "    </tr>\n",
       "    <tr>\n",
       "      <th>1</th>\n",
       "      <td>4.093418</td>\n",
       "      <td>4.528662</td>\n",
       "      <td>4.438783</td>\n",
       "      <td>4.426752</td>\n",
       "      <td>4.720453</td>\n",
       "      <td>4.462845</td>\n",
       "      <td>4.277424</td>\n",
       "    </tr>\n",
       "  </tbody>\n",
       "</table>\n",
       "</div>"
      ],
      "text/plain": [
       "               price  reliability   service   variety  pay_meth  web_func  \\\n",
       "repurchase                                                                  \n",
       "0           2.829412     1.870588  1.829412  3.041176  3.529412  2.729412   \n",
       "1           4.093418     4.528662  4.438783  4.426752  4.720453  4.462845   \n",
       "\n",
       "            prod_avail  \n",
       "repurchase              \n",
       "0             2.288235  \n",
       "1             4.277424  "
      ]
     },
     "execution_count": 2654,
     "metadata": {},
     "output_type": "execute_result"
    }
   ],
   "source": [
    "df_te1_befq.groupby('repurchase').mean()"
   ]
  },
  {
   "cell_type": "markdown",
   "metadata": {},
   "source": [
    "#### During Quarantine"
   ]
  },
  {
   "cell_type": "code",
   "execution_count": 2655,
   "metadata": {},
   "outputs": [],
   "source": [
    "df_te1_quar = one_date_more(df_t1_octob, 2020, 11, 6)"
   ]
  },
  {
   "cell_type": "code",
   "execution_count": 2656,
   "metadata": {},
   "outputs": [
    {
     "name": "stdout",
     "output_type": "stream",
     "text": [
      "percentage of no repurchase is 23.274304300686662\n",
      "percentage of repurchase 76.72569569931333\n"
     ]
    }
   ],
   "source": [
    "repurchase_perc(df_te1_quar)"
   ]
  },
  {
   "cell_type": "code",
   "execution_count": 2727,
   "metadata": {},
   "outputs": [
    {
     "data": {
      "text/html": [
       "<div>\n",
       "<style scoped>\n",
       "    .dataframe tbody tr th:only-of-type {\n",
       "        vertical-align: middle;\n",
       "    }\n",
       "\n",
       "    .dataframe tbody tr th {\n",
       "        vertical-align: top;\n",
       "    }\n",
       "\n",
       "    .dataframe thead th {\n",
       "        text-align: right;\n",
       "    }\n",
       "</style>\n",
       "<table border=\"1\" class=\"dataframe\">\n",
       "  <thead>\n",
       "    <tr style=\"text-align: right;\">\n",
       "      <th></th>\n",
       "      <th>price</th>\n",
       "      <th>reliability</th>\n",
       "      <th>service</th>\n",
       "      <th>variety</th>\n",
       "      <th>pay_meth</th>\n",
       "      <th>web_func</th>\n",
       "      <th>prod_avail</th>\n",
       "    </tr>\n",
       "    <tr>\n",
       "      <th>repurchase</th>\n",
       "      <th></th>\n",
       "      <th></th>\n",
       "      <th></th>\n",
       "      <th></th>\n",
       "      <th></th>\n",
       "      <th></th>\n",
       "      <th></th>\n",
       "    </tr>\n",
       "  </thead>\n",
       "  <tbody>\n",
       "    <tr>\n",
       "      <th>0</th>\n",
       "      <td>2.501812</td>\n",
       "      <td>1.760611</td>\n",
       "      <td>1.733696</td>\n",
       "      <td>2.32324</td>\n",
       "      <td>3.068841</td>\n",
       "      <td>2.773810</td>\n",
       "      <td>2.380694</td>\n",
       "    </tr>\n",
       "    <tr>\n",
       "      <th>1</th>\n",
       "      <td>3.941985</td>\n",
       "      <td>4.360104</td>\n",
       "      <td>4.220050</td>\n",
       "      <td>4.28364</td>\n",
       "      <td>4.472602</td>\n",
       "      <td>4.329958</td>\n",
       "      <td>4.159601</td>\n",
       "    </tr>\n",
       "  </tbody>\n",
       "</table>\n",
       "</div>"
      ],
      "text/plain": [
       "               price  reliability   service  variety  pay_meth  web_func  \\\n",
       "repurchase                                                                 \n",
       "0           2.501812     1.760611  1.733696  2.32324  3.068841  2.773810   \n",
       "1           3.941985     4.360104  4.220050  4.28364  4.472602  4.329958   \n",
       "\n",
       "            prod_avail  \n",
       "repurchase              \n",
       "0             2.380694  \n",
       "1             4.159601  "
      ]
     },
     "execution_count": 2727,
     "metadata": {},
     "output_type": "execute_result"
    }
   ],
   "source": [
    "df_te1_quar.groupby('repurchase').mean()"
   ]
  },
  {
   "cell_type": "code",
   "execution_count": 2657,
   "metadata": {},
   "outputs": [
    {
     "name": "stdout",
     "output_type": "stream",
     "text": [
      "Optimization terminated successfully.\n",
      "         Current function value: 0.305471\n",
      "         Iterations 7\n",
      "Summary Of Results\n",
      "                         Results: Logit\n",
      "=================================================================\n",
      "Model:              Logit            Pseudo R-squared: 0.437     \n",
      "Dependent Variable: repurchase       AIC:              10156.8509\n",
      "Date:               2021-02-04 17:26 BIC:              10210.8719\n",
      "No. Observations:   16602            Log-Likelihood:   -5071.4   \n",
      "Df Model:           6                LL-Null:          -9007.7   \n",
      "Df Residuals:       16595            LLR p-value:      0.0000    \n",
      "Converged:          1.0000           Scale:            1.0000    \n",
      "No. Iterations:     7.0000                                       \n",
      "------------------------------------------------------------------\n",
      "              Coef.   Std.Err.     z      P>|z|    [0.025   0.975]\n",
      "------------------------------------------------------------------\n",
      "price        -0.4120    0.0318  -12.9479  0.0000  -0.4744  -0.3496\n",
      "reliability   0.9549    0.0350   27.3089  0.0000   0.8863   1.0234\n",
      "service       0.7830    0.0350   22.3869  0.0000   0.7145   0.8516\n",
      "variety       0.1279    0.0282    4.5421  0.0000   0.0727   0.1831\n",
      "pay_meth     -0.4279    0.0247  -17.3006  0.0000  -0.4763  -0.3794\n",
      "web_func     -0.3226    0.0274  -11.7688  0.0000  -0.3763  -0.2689\n",
      "prod_avail   -0.0668    0.0267   -2.4985  0.0125  -0.1191  -0.0144\n",
      "=================================================================\n",
      "\n",
      "Accuracy of logistic regression classifier on test set: 0.92\n",
      "Logistic Regression AUC: 0.963\n"
     ]
    },
    {
     "name": "stderr",
     "output_type": "stream",
     "text": [
      "C:\\Users\\Pigi\\Anaconda3\\lib\\site-packages\\sklearn\\utils\\validation.py:72: DataConversionWarning: A column-vector y was passed when a 1d array was expected. Please change the shape of y to (n_samples, ), for example using ravel().\n",
      "  return f(**kwargs)\n"
     ]
    }
   ],
   "source": [
    "logreg_fitting(df_te1_quar, False)"
   ]
  },
  {
   "cell_type": "markdown",
   "metadata": {},
   "source": [
    "### Separated customers"
   ]
  },
  {
   "cell_type": "markdown",
   "metadata": {},
   "source": [
    "#### Quarantine "
   ]
  },
  {
   "cell_type": "code",
   "execution_count": 2658,
   "metadata": {},
   "outputs": [],
   "source": [
    "df_te1_quar1 = one_date_more(df_t1_oct1, 2020, 11, 6)\n",
    "df_te1_quar2 = one_date_more(df_t1_oct2, 2020, 11, 6)"
   ]
  },
  {
   "cell_type": "markdown",
   "metadata": {},
   "source": [
    "#### Customers with delivered orders"
   ]
  },
  {
   "cell_type": "code",
   "execution_count": 2659,
   "metadata": {},
   "outputs": [
    {
     "name": "stdout",
     "output_type": "stream",
     "text": [
      "percentage of no repurchase is 6.781124112794935\n",
      "percentage of repurchase 93.21887588720507\n"
     ]
    }
   ],
   "source": [
    "repurchase_perc(df_te1_quar1)"
   ]
  },
  {
   "cell_type": "code",
   "execution_count": 2660,
   "metadata": {},
   "outputs": [
    {
     "name": "stdout",
     "output_type": "stream",
     "text": [
      "Optimization terminated successfully.\n",
      "         Current function value: 0.132144\n",
      "         Iterations 8\n",
      "Summary Of Results\n",
      "                         Results: Logit\n",
      "================================================================\n",
      "Model:              Logit            Pseudo R-squared: 0.467    \n",
      "Dependent Variable: repurchase       AIC:              2775.4769\n",
      "Date:               2021-02-04 17:26 BIC:              2847.9974\n",
      "No. Observations:   10426            Log-Likelihood:   -1377.7  \n",
      "Df Model:           9                LL-Null:          -2585.0  \n",
      "Df Residuals:       10416            LLR p-value:      0.0000   \n",
      "Converged:          1.0000           Scale:            1.0000   \n",
      "No. Iterations:     8.0000                                      \n",
      "----------------------------------------------------------------\n",
      "                 Coef.  Std.Err.    z     P>|z|   [0.025  0.975]\n",
      "----------------------------------------------------------------\n",
      "price           -0.3699   0.0597  -6.1974 0.0000 -0.4869 -0.2529\n",
      "reliability      0.7861   0.0607  12.9509 0.0000  0.6671  0.9051\n",
      "service          0.8590   0.0645  13.3154 0.0000  0.7326  0.9855\n",
      "var              0.2114   0.0536   3.9454 0.0001  0.1064  0.3165\n",
      "pay_meth        -0.5770   0.0511 -11.2821 0.0000 -0.6773 -0.4768\n",
      "web_func        -0.0020   0.0529  -0.0371 0.9704 -0.1056  0.1017\n",
      "prod_avail      -0.1852   0.0535  -3.4600 0.0005 -0.2901 -0.0803\n",
      "packaging       -0.1161   0.0513  -2.2617 0.0237 -0.2167 -0.0155\n",
      "condition        0.1877   0.0483   3.8887 0.0001  0.0931  0.2824\n",
      "ship_time        0.0871   0.0440   1.9811 0.0476  0.0009  0.1733\n",
      "================================================================\n",
      "\n",
      "length of oversampled data is  15578\n",
      "Count of non-repurchase in oversampled data 7789\n",
      "Count of repurchases 7789\n",
      "Proportion of non- repurchase data in oversampled data is  0.5\n",
      "Proportion of repurchase data in oversampled data is  0.5\n",
      "Accuracy of logistic regression classifier on test set: 0.92\n",
      "Logistic Regression AUC: 0.978\n"
     ]
    },
    {
     "name": "stderr",
     "output_type": "stream",
     "text": [
      "C:\\Users\\Pigi\\Anaconda3\\lib\\site-packages\\sklearn\\utils\\validation.py:72: DataConversionWarning: A column-vector y was passed when a 1d array was expected. Please change the shape of y to (n_samples, ), for example using ravel().\n",
      "  return f(**kwargs)\n"
     ]
    }
   ],
   "source": [
    "logreg_fitting(df_te1_quar1, True)"
   ]
  },
  {
   "cell_type": "code",
   "execution_count": 2661,
   "metadata": {},
   "outputs": [
    {
     "data": {
      "text/html": [
       "<div>\n",
       "<style scoped>\n",
       "    .dataframe tbody tr th:only-of-type {\n",
       "        vertical-align: middle;\n",
       "    }\n",
       "\n",
       "    .dataframe tbody tr th {\n",
       "        vertical-align: top;\n",
       "    }\n",
       "\n",
       "    .dataframe thead th {\n",
       "        text-align: right;\n",
       "    }\n",
       "</style>\n",
       "<table border=\"1\" class=\"dataframe\">\n",
       "  <thead>\n",
       "    <tr style=\"text-align: right;\">\n",
       "      <th></th>\n",
       "      <th>price</th>\n",
       "      <th>reliability</th>\n",
       "      <th>service</th>\n",
       "      <th>var</th>\n",
       "      <th>pay_meth</th>\n",
       "      <th>web_func</th>\n",
       "      <th>prod_avail</th>\n",
       "      <th>packaging</th>\n",
       "      <th>condition</th>\n",
       "      <th>ship_time</th>\n",
       "    </tr>\n",
       "    <tr>\n",
       "      <th>repurchase</th>\n",
       "      <th></th>\n",
       "      <th></th>\n",
       "      <th></th>\n",
       "      <th></th>\n",
       "      <th></th>\n",
       "      <th></th>\n",
       "      <th></th>\n",
       "      <th></th>\n",
       "      <th></th>\n",
       "      <th></th>\n",
       "    </tr>\n",
       "  </thead>\n",
       "  <tbody>\n",
       "    <tr>\n",
       "      <th>0</th>\n",
       "      <td>2.949081</td>\n",
       "      <td>2.087694</td>\n",
       "      <td>2.022631</td>\n",
       "      <td>2.626591</td>\n",
       "      <td>3.584158</td>\n",
       "      <td>2.885431</td>\n",
       "      <td>2.900990</td>\n",
       "      <td>2.765205</td>\n",
       "      <td>3.046676</td>\n",
       "      <td>2.411598</td>\n",
       "    </tr>\n",
       "    <tr>\n",
       "      <th>1</th>\n",
       "      <td>4.045169</td>\n",
       "      <td>4.547176</td>\n",
       "      <td>4.412388</td>\n",
       "      <td>4.441403</td>\n",
       "      <td>4.560449</td>\n",
       "      <td>4.411874</td>\n",
       "      <td>4.301883</td>\n",
       "      <td>4.321638</td>\n",
       "      <td>4.704496</td>\n",
       "      <td>4.235724</td>\n",
       "    </tr>\n",
       "  </tbody>\n",
       "</table>\n",
       "</div>"
      ],
      "text/plain": [
       "               price  reliability   service       var  pay_meth  web_func  \\\n",
       "repurchase                                                                  \n",
       "0           2.949081     2.087694  2.022631  2.626591  3.584158  2.885431   \n",
       "1           4.045169     4.547176  4.412388  4.441403  4.560449  4.411874   \n",
       "\n",
       "            prod_avail  packaging  condition  ship_time  \n",
       "repurchase                                               \n",
       "0             2.900990   2.765205   3.046676   2.411598  \n",
       "1             4.301883   4.321638   4.704496   4.235724  "
      ]
     },
     "execution_count": 2661,
     "metadata": {},
     "output_type": "execute_result"
    }
   ],
   "source": [
    "df_te1_quar1.groupby('repurchase').mean()"
   ]
  },
  {
   "cell_type": "markdown",
   "metadata": {},
   "source": [
    "#### Customers with undelivered orders"
   ]
  },
  {
   "cell_type": "code",
   "execution_count": 2662,
   "metadata": {},
   "outputs": [
    {
     "name": "stdout",
     "output_type": "stream",
     "text": [
      "percentage of no repurchase is 51.13440776091378\n",
      "percentage of repurchase 48.86559223908621\n"
     ]
    }
   ],
   "source": [
    "repurchase_perc(df_te1_quar2)"
   ]
  },
  {
   "cell_type": "code",
   "execution_count": 2663,
   "metadata": {},
   "outputs": [
    {
     "name": "stdout",
     "output_type": "stream",
     "text": [
      "Optimization terminated successfully.\n",
      "         Current function value: 0.542002\n",
      "         Iterations 6\n",
      "Summary Of Results\n",
      "                         Results: Logit\n",
      "================================================================\n",
      "Model:              Logit            Pseudo R-squared: 0.218    \n",
      "Dependent Variable: repurchase       AIC:              6941.8747\n",
      "Date:               2021-02-04 17:26 BIC:              6989.2132\n",
      "No. Observations:   6391             Log-Likelihood:   -3463.9  \n",
      "Df Model:           6                LL-Null:          -4428.3  \n",
      "Df Residuals:       6384             LLR p-value:      0.0000   \n",
      "Converged:          1.0000           Scale:            1.0000   \n",
      "No. Iterations:     6.0000                                      \n",
      "----------------------------------------------------------------\n",
      "                 Coef.  Std.Err.    z     P>|z|   [0.025  0.975]\n",
      "----------------------------------------------------------------\n",
      "price           -0.3147   0.0367  -8.5719 0.0000 -0.3866 -0.2427\n",
      "reliability      0.8334   0.0392  21.2704 0.0000  0.7566  0.9102\n",
      "service          0.4735   0.0387  12.2311 0.0000  0.3976  0.5494\n",
      "var              0.0518   0.0318   1.6328 0.1025 -0.0104  0.1141\n",
      "pay_meth        -0.3446   0.0273 -12.6116 0.0000 -0.3981 -0.2910\n",
      "web_func        -0.2717   0.0304  -8.9361 0.0000 -0.3313 -0.2121\n",
      "prod_avail      -0.0686   0.0292  -2.3481 0.0189 -0.1259 -0.0113\n",
      "================================================================\n",
      "\n",
      "Accuracy of logistic regression classifier on test set: 0.82\n",
      "Logistic Regression AUC: 0.903\n"
     ]
    },
    {
     "name": "stderr",
     "output_type": "stream",
     "text": [
      "C:\\Users\\Pigi\\Anaconda3\\lib\\site-packages\\sklearn\\utils\\validation.py:72: DataConversionWarning: A column-vector y was passed when a 1d array was expected. Please change the shape of y to (n_samples, ), for example using ravel().\n",
      "  return f(**kwargs)\n"
     ]
    }
   ],
   "source": [
    "logreg_fitting(df_te1_quar2, False)"
   ]
  },
  {
   "cell_type": "code",
   "execution_count": 2664,
   "metadata": {},
   "outputs": [
    {
     "data": {
      "text/html": [
       "<div>\n",
       "<style scoped>\n",
       "    .dataframe tbody tr th:only-of-type {\n",
       "        vertical-align: middle;\n",
       "    }\n",
       "\n",
       "    .dataframe tbody tr th {\n",
       "        vertical-align: top;\n",
       "    }\n",
       "\n",
       "    .dataframe thead th {\n",
       "        text-align: right;\n",
       "    }\n",
       "</style>\n",
       "<table border=\"1\" class=\"dataframe\">\n",
       "  <thead>\n",
       "    <tr style=\"text-align: right;\">\n",
       "      <th></th>\n",
       "      <th>price</th>\n",
       "      <th>reliability</th>\n",
       "      <th>service</th>\n",
       "      <th>variety</th>\n",
       "      <th>pay_meth</th>\n",
       "      <th>web_func</th>\n",
       "      <th>prod_avail</th>\n",
       "    </tr>\n",
       "    <tr>\n",
       "      <th>repurchase</th>\n",
       "      <th></th>\n",
       "      <th></th>\n",
       "      <th></th>\n",
       "      <th></th>\n",
       "      <th></th>\n",
       "      <th></th>\n",
       "      <th></th>\n",
       "    </tr>\n",
       "  </thead>\n",
       "  <tbody>\n",
       "    <tr>\n",
       "      <th>0</th>\n",
       "      <td>2.501812</td>\n",
       "      <td>1.760611</td>\n",
       "      <td>1.733696</td>\n",
       "      <td>2.32324</td>\n",
       "      <td>3.068841</td>\n",
       "      <td>2.773810</td>\n",
       "      <td>2.380694</td>\n",
       "    </tr>\n",
       "    <tr>\n",
       "      <th>1</th>\n",
       "      <td>3.941985</td>\n",
       "      <td>4.360104</td>\n",
       "      <td>4.220050</td>\n",
       "      <td>4.28364</td>\n",
       "      <td>4.472602</td>\n",
       "      <td>4.329958</td>\n",
       "      <td>4.159601</td>\n",
       "    </tr>\n",
       "  </tbody>\n",
       "</table>\n",
       "</div>"
      ],
      "text/plain": [
       "               price  reliability   service  variety  pay_meth  web_func  \\\n",
       "repurchase                                                                 \n",
       "0           2.501812     1.760611  1.733696  2.32324  3.068841  2.773810   \n",
       "1           3.941985     4.360104  4.220050  4.28364  4.472602  4.329958   \n",
       "\n",
       "            prod_avail  \n",
       "repurchase              \n",
       "0             2.380694  \n",
       "1             4.159601  "
      ]
     },
     "execution_count": 2664,
     "metadata": {},
     "output_type": "execute_result"
    }
   ],
   "source": [
    "df_te1_quar.groupby('repurchase').mean()"
   ]
  },
  {
   "cell_type": "markdown",
   "metadata": {},
   "source": [
    "#### Black friday"
   ]
  },
  {
   "cell_type": "markdown",
   "metadata": {},
   "source": [
    "#### All costumers together"
   ]
  },
  {
   "cell_type": "code",
   "execution_count": 2665,
   "metadata": {},
   "outputs": [],
   "source": [
    "df_te1_bf = one_date_more(df_t1_octob, 2020, 11, 26)\n",
    "df_te1_bf = one_date_less(df_te1_bf, 2020, 12, 15)"
   ]
  },
  {
   "cell_type": "code",
   "execution_count": 2666,
   "metadata": {},
   "outputs": [
    {
     "name": "stdout",
     "output_type": "stream",
     "text": [
      "percentage of no repurchase is 22.04685815116165\n",
      "percentage of repurchase 77.95314184883834\n"
     ]
    }
   ],
   "source": [
    "repurchase_perc(df_te1_bf)"
   ]
  },
  {
   "cell_type": "code",
   "execution_count": 2667,
   "metadata": {},
   "outputs": [
    {
     "name": "stdout",
     "output_type": "stream",
     "text": [
      "Optimization terminated successfully.\n",
      "         Current function value: 0.299847\n",
      "         Iterations 7\n",
      "Summary Of Results\n",
      "                         Results: Logit\n",
      "================================================================\n",
      "Model:              Logit            Pseudo R-squared: 0.432    \n",
      "Dependent Variable: repurchase       AIC:              6131.4789\n",
      "Date:               2021-02-04 17:26 BIC:              6182.0906\n",
      "No. Observations:   10201            Log-Likelihood:   -3058.7  \n",
      "Df Model:           6                LL-Null:          -5381.0  \n",
      "Df Residuals:       10194            LLR p-value:      0.0000   \n",
      "Converged:          1.0000           Scale:            1.0000   \n",
      "No. Iterations:     7.0000                                      \n",
      "----------------------------------------------------------------\n",
      "                 Coef.  Std.Err.    z     P>|z|   [0.025  0.975]\n",
      "----------------------------------------------------------------\n",
      "price           -0.3972   0.0406  -9.7723 0.0000 -0.4769 -0.3175\n",
      "reliability      0.9612   0.0447  21.5197 0.0000  0.8737  1.0487\n",
      "service          0.7536   0.0447  16.8641 0.0000  0.6660  0.8412\n",
      "variety          0.1196   0.0357   3.3551 0.0008  0.0497  0.1895\n",
      "pay_meth        -0.3946   0.0315 -12.5100 0.0000 -0.4564 -0.3328\n",
      "web_func        -0.3152   0.0353  -8.9272 0.0000 -0.3844 -0.2460\n",
      "prod_avail      -0.0869   0.0344  -2.5242 0.0116 -0.1543 -0.0194\n",
      "================================================================\n",
      "\n",
      "length of oversampled data is  12760\n",
      "Count of non-repurchase in oversampled data 6380\n",
      "Count of repurchases 6380\n",
      "Proportion of non- repurchase data in oversampled data is  0.5\n",
      "Proportion of repurchase data in oversampled data is  0.5\n",
      "Accuracy of logistic regression classifier on test set: 0.90\n",
      "Logistic Regression AUC: 0.951\n"
     ]
    },
    {
     "name": "stderr",
     "output_type": "stream",
     "text": [
      "C:\\Users\\Pigi\\Anaconda3\\lib\\site-packages\\sklearn\\utils\\validation.py:72: DataConversionWarning: A column-vector y was passed when a 1d array was expected. Please change the shape of y to (n_samples, ), for example using ravel().\n",
      "  return f(**kwargs)\n"
     ]
    }
   ],
   "source": [
    "logreg_fitting(df_te1_bf, True)"
   ]
  },
  {
   "cell_type": "code",
   "execution_count": 2668,
   "metadata": {},
   "outputs": [
    {
     "data": {
      "text/html": [
       "<div>\n",
       "<style scoped>\n",
       "    .dataframe tbody tr th:only-of-type {\n",
       "        vertical-align: middle;\n",
       "    }\n",
       "\n",
       "    .dataframe tbody tr th {\n",
       "        vertical-align: top;\n",
       "    }\n",
       "\n",
       "    .dataframe thead th {\n",
       "        text-align: right;\n",
       "    }\n",
       "</style>\n",
       "<table border=\"1\" class=\"dataframe\">\n",
       "  <thead>\n",
       "    <tr style=\"text-align: right;\">\n",
       "      <th></th>\n",
       "      <th>price</th>\n",
       "      <th>reliability</th>\n",
       "      <th>service</th>\n",
       "      <th>variety</th>\n",
       "      <th>pay_meth</th>\n",
       "      <th>web_func</th>\n",
       "      <th>prod_avail</th>\n",
       "    </tr>\n",
       "    <tr>\n",
       "      <th>repurchase</th>\n",
       "      <th></th>\n",
       "      <th></th>\n",
       "      <th></th>\n",
       "      <th></th>\n",
       "      <th></th>\n",
       "      <th></th>\n",
       "      <th></th>\n",
       "    </tr>\n",
       "  </thead>\n",
       "  <tbody>\n",
       "    <tr>\n",
       "      <th>0</th>\n",
       "      <td>2.526012</td>\n",
       "      <td>1.786572</td>\n",
       "      <td>1.766118</td>\n",
       "      <td>2.354824</td>\n",
       "      <td>3.080036</td>\n",
       "      <td>2.812806</td>\n",
       "      <td>2.445531</td>\n",
       "    </tr>\n",
       "    <tr>\n",
       "      <th>1</th>\n",
       "      <td>3.929577</td>\n",
       "      <td>4.352741</td>\n",
       "      <td>4.212777</td>\n",
       "      <td>4.283325</td>\n",
       "      <td>4.443033</td>\n",
       "      <td>4.322435</td>\n",
       "      <td>4.175553</td>\n",
       "    </tr>\n",
       "  </tbody>\n",
       "</table>\n",
       "</div>"
      ],
      "text/plain": [
       "               price  reliability   service   variety  pay_meth  web_func  \\\n",
       "repurchase                                                                  \n",
       "0           2.526012     1.786572  1.766118  2.354824  3.080036  2.812806   \n",
       "1           3.929577     4.352741  4.212777  4.283325  4.443033  4.322435   \n",
       "\n",
       "            prod_avail  \n",
       "repurchase              \n",
       "0             2.445531  \n",
       "1             4.175553  "
      ]
     },
     "execution_count": 2668,
     "metadata": {},
     "output_type": "execute_result"
    }
   ],
   "source": [
    "df_te1_bf.groupby('repurchase').mean()"
   ]
  },
  {
   "cell_type": "markdown",
   "metadata": {},
   "source": [
    "#### Customers with delivered orders"
   ]
  },
  {
   "cell_type": "code",
   "execution_count": 2669,
   "metadata": {},
   "outputs": [],
   "source": [
    "df_te1_bf1 = one_date_more(df_t1_oct1, 2020, 11, 26)\n",
    "df_te1_bf1 = one_date_less(df_te1_bf1, 2020, 12, 15)\n",
    "\n",
    "df_te1_bf2 = one_date_more(df_t1_oct2, 2020, 11, 26)\n",
    "df_te1_bf2 = one_date_less(df_te1_bf2, 2020, 12, 15)"
   ]
  },
  {
   "cell_type": "code",
   "execution_count": 2670,
   "metadata": {},
   "outputs": [
    {
     "name": "stdout",
     "output_type": "stream",
     "text": [
      "percentage of no repurchase is 6.471617109238352\n",
      "percentage of repurchase 93.52838289076165\n"
     ]
    }
   ],
   "source": [
    "repurchase_perc(df_te1_bf1)"
   ]
  },
  {
   "cell_type": "code",
   "execution_count": 2671,
   "metadata": {},
   "outputs": [
    {
     "name": "stdout",
     "output_type": "stream",
     "text": [
      "Optimization terminated successfully.\n",
      "         Current function value: 0.121223\n",
      "         Iterations 8\n",
      "Summary Of Results\n",
      "                         Results: Logit\n",
      "================================================================\n",
      "Model:              Logit            Pseudo R-squared: 0.494    \n",
      "Dependent Variable: repurchase       AIC:              1544.7484\n",
      "Date:               2021-02-04 17:26 BIC:              1612.2139\n",
      "No. Observations:   6289             Log-Likelihood:   -762.37  \n",
      "Df Model:           9                LL-Null:          -1507.8  \n",
      "Df Residuals:       6279             LLR p-value:      0.0000   \n",
      "Converged:          1.0000           Scale:            1.0000   \n",
      "No. Iterations:     8.0000                                      \n",
      "-----------------------------------------------------------------\n",
      "              Coef.   Std.Err.     z     P>|z|    [0.025   0.975]\n",
      "-----------------------------------------------------------------\n",
      "price        -0.2842    0.0834  -3.4064  0.0007  -0.4477  -0.1207\n",
      "reliability   0.9691    0.0898  10.7937  0.0000   0.7931   1.1451\n",
      "service       0.9345    0.0901  10.3686  0.0000   0.7578   1.1111\n",
      "var           0.2377    0.0772   3.0779  0.0021   0.0863   0.3891\n",
      "pay_meth     -0.4231    0.0715  -5.9200  0.0000  -0.5631  -0.2830\n",
      "web_func     -0.0305    0.0752  -0.4062  0.6846  -0.1778   0.1168\n",
      "prod_avail   -0.3734    0.0795  -4.6946  0.0000  -0.5293  -0.2175\n",
      "packaging    -0.0355    0.0706  -0.5023  0.6155  -0.1739   0.1030\n",
      "condition    -0.1796    0.0726  -2.4751  0.0133  -0.3219  -0.0374\n",
      "ship_time     0.1118    0.0565   1.9776  0.0480   0.0010   0.2226\n",
      "================================================================\n",
      "\n",
      "length of oversampled data is  9398\n",
      "Count of non-repurchase in oversampled data 4699\n",
      "Count of repurchases 4699\n",
      "Proportion of non- repurchase data in oversampled data is  0.5\n",
      "Proportion of repurchase data in oversampled data is  0.5\n",
      "Accuracy of logistic regression classifier on test set: 0.93\n",
      "Logistic Regression AUC: 0.968\n"
     ]
    },
    {
     "name": "stderr",
     "output_type": "stream",
     "text": [
      "C:\\Users\\Pigi\\Anaconda3\\lib\\site-packages\\sklearn\\utils\\validation.py:72: DataConversionWarning: A column-vector y was passed when a 1d array was expected. Please change the shape of y to (n_samples, ), for example using ravel().\n",
      "  return f(**kwargs)\n"
     ]
    }
   ],
   "source": [
    "logreg_fitting(df_te1_bf1, True)"
   ]
  },
  {
   "cell_type": "code",
   "execution_count": 2672,
   "metadata": {},
   "outputs": [
    {
     "data": {
      "text/html": [
       "<div>\n",
       "<style scoped>\n",
       "    .dataframe tbody tr th:only-of-type {\n",
       "        vertical-align: middle;\n",
       "    }\n",
       "\n",
       "    .dataframe tbody tr th {\n",
       "        vertical-align: top;\n",
       "    }\n",
       "\n",
       "    .dataframe thead th {\n",
       "        text-align: right;\n",
       "    }\n",
       "</style>\n",
       "<table border=\"1\" class=\"dataframe\">\n",
       "  <thead>\n",
       "    <tr style=\"text-align: right;\">\n",
       "      <th></th>\n",
       "      <th>price</th>\n",
       "      <th>reliability</th>\n",
       "      <th>service</th>\n",
       "      <th>var</th>\n",
       "      <th>pay_meth</th>\n",
       "      <th>web_func</th>\n",
       "      <th>prod_avail</th>\n",
       "      <th>packaging</th>\n",
       "      <th>condition</th>\n",
       "      <th>ship_time</th>\n",
       "    </tr>\n",
       "    <tr>\n",
       "      <th>repurchase</th>\n",
       "      <th></th>\n",
       "      <th></th>\n",
       "      <th></th>\n",
       "      <th></th>\n",
       "      <th></th>\n",
       "      <th></th>\n",
       "      <th></th>\n",
       "      <th></th>\n",
       "      <th></th>\n",
       "      <th></th>\n",
       "    </tr>\n",
       "  </thead>\n",
       "  <tbody>\n",
       "    <tr>\n",
       "      <th>0</th>\n",
       "      <td>2.882064</td>\n",
       "      <td>2.034398</td>\n",
       "      <td>1.963145</td>\n",
       "      <td>2.609337</td>\n",
       "      <td>3.447174</td>\n",
       "      <td>2.867322</td>\n",
       "      <td>2.918919</td>\n",
       "      <td>2.783784</td>\n",
       "      <td>3.127764</td>\n",
       "      <td>2.390663</td>\n",
       "    </tr>\n",
       "    <tr>\n",
       "      <th>1</th>\n",
       "      <td>4.055593</td>\n",
       "      <td>4.569704</td>\n",
       "      <td>4.451207</td>\n",
       "      <td>4.465318</td>\n",
       "      <td>4.559164</td>\n",
       "      <td>4.419415</td>\n",
       "      <td>4.335090</td>\n",
       "      <td>4.354811</td>\n",
       "      <td>4.699932</td>\n",
       "      <td>4.256715</td>\n",
       "    </tr>\n",
       "  </tbody>\n",
       "</table>\n",
       "</div>"
      ],
      "text/plain": [
       "               price  reliability   service       var  pay_meth  web_func  \\\n",
       "repurchase                                                                  \n",
       "0           2.882064     2.034398  1.963145  2.609337  3.447174  2.867322   \n",
       "1           4.055593     4.569704  4.451207  4.465318  4.559164  4.419415   \n",
       "\n",
       "            prod_avail  packaging  condition  ship_time  \n",
       "repurchase                                               \n",
       "0             2.918919   2.783784   3.127764   2.390663  \n",
       "1             4.335090   4.354811   4.699932   4.256715  "
      ]
     },
     "execution_count": 2672,
     "metadata": {},
     "output_type": "execute_result"
    }
   ],
   "source": [
    "df_te1_bf1.groupby('repurchase').mean()"
   ]
  },
  {
   "cell_type": "markdown",
   "metadata": {},
   "source": [
    "#### Costumers with undelivered orders"
   ]
  },
  {
   "cell_type": "code",
   "execution_count": 2673,
   "metadata": {},
   "outputs": [
    {
     "name": "stdout",
     "output_type": "stream",
     "text": [
      "percentage of no repurchase is 47.459349593495936\n",
      "percentage of repurchase 52.540650406504064\n"
     ]
    }
   ],
   "source": [
    "repurchase_perc(df_te1_bf2)"
   ]
  },
  {
   "cell_type": "code",
   "execution_count": 2674,
   "metadata": {},
   "outputs": [
    {
     "name": "stdout",
     "output_type": "stream",
     "text": [
      "Optimization terminated successfully.\n",
      "         Current function value: 0.533947\n",
      "         Iterations 6\n",
      "Summary Of Results\n",
      "                          Results: Logit\n",
      "==================================================================\n",
      "Model:              Logit            Pseudo R-squared: 0.228      \n",
      "Dependent Variable: repurchase       AIC:              4217.2288  \n",
      "Date:               2021-02-04 17:26 BIC:              4261.1742  \n",
      "No. Observations:   3936             Log-Likelihood:   -2101.6    \n",
      "Df Model:           6                LL-Null:          -2723.1    \n",
      "Df Residuals:       3929             LLR p-value:      2.2935e-265\n",
      "Converged:          1.0000           Scale:            1.0000     \n",
      "No. Iterations:     6.0000                                        \n",
      "-------------------------------------------------------------------\n",
      "                Coef.   Std.Err.     z     P>|z|    [0.025   0.975]\n",
      "-------------------------------------------------------------------\n",
      "price          -0.3531    0.0468  -7.5453  0.0000  -0.4448  -0.2614\n",
      "reliability     0.8271    0.0495  16.7064  0.0000   0.7300   0.9241\n",
      "service         0.4448    0.0485   9.1745  0.0000   0.3498   0.5398\n",
      "var             0.0863    0.0400   2.1560  0.0311   0.0078   0.1647\n",
      "pay_meth       -0.3040    0.0348  -8.7424  0.0000  -0.3721  -0.2358\n",
      "web_func       -0.2662    0.0389  -6.8358  0.0000  -0.3425  -0.1899\n",
      "prod_avail     -0.0558    0.0372  -1.5017  0.1332  -0.1287   0.0170\n",
      "==================================================================\n",
      "\n",
      "Accuracy of logistic regression classifier on test set: 0.83\n",
      "Logistic Regression AUC: 0.915\n"
     ]
    },
    {
     "name": "stderr",
     "output_type": "stream",
     "text": [
      "C:\\Users\\Pigi\\Anaconda3\\lib\\site-packages\\sklearn\\utils\\validation.py:72: DataConversionWarning: A column-vector y was passed when a 1d array was expected. Please change the shape of y to (n_samples, ), for example using ravel().\n",
      "  return f(**kwargs)\n"
     ]
    }
   ],
   "source": [
    "logreg_fitting(df_te1_bf2, False)"
   ]
  },
  {
   "cell_type": "code",
   "execution_count": 2675,
   "metadata": {},
   "outputs": [
    {
     "data": {
      "text/html": [
       "<div>\n",
       "<style scoped>\n",
       "    .dataframe tbody tr th:only-of-type {\n",
       "        vertical-align: middle;\n",
       "    }\n",
       "\n",
       "    .dataframe tbody tr th {\n",
       "        vertical-align: top;\n",
       "    }\n",
       "\n",
       "    .dataframe thead th {\n",
       "        text-align: right;\n",
       "    }\n",
       "</style>\n",
       "<table border=\"1\" class=\"dataframe\">\n",
       "  <thead>\n",
       "    <tr style=\"text-align: right;\">\n",
       "      <th></th>\n",
       "      <th>price</th>\n",
       "      <th>reliability</th>\n",
       "      <th>service</th>\n",
       "      <th>var</th>\n",
       "      <th>pay_meth</th>\n",
       "      <th>web_func</th>\n",
       "      <th>prod_avail</th>\n",
       "    </tr>\n",
       "    <tr>\n",
       "      <th>repurchase</th>\n",
       "      <th></th>\n",
       "      <th></th>\n",
       "      <th></th>\n",
       "      <th></th>\n",
       "      <th></th>\n",
       "      <th></th>\n",
       "      <th></th>\n",
       "    </tr>\n",
       "  </thead>\n",
       "  <tbody>\n",
       "    <tr>\n",
       "      <th>0</th>\n",
       "      <td>2.454497</td>\n",
       "      <td>1.725375</td>\n",
       "      <td>1.742505</td>\n",
       "      <td>2.292291</td>\n",
       "      <td>3.005889</td>\n",
       "      <td>2.797109</td>\n",
       "      <td>2.335118</td>\n",
       "    </tr>\n",
       "    <tr>\n",
       "      <th>1</th>\n",
       "      <td>3.532882</td>\n",
       "      <td>3.674565</td>\n",
       "      <td>3.495648</td>\n",
       "      <td>3.691973</td>\n",
       "      <td>4.073985</td>\n",
       "      <td>3.948259</td>\n",
       "      <td>3.678917</td>\n",
       "    </tr>\n",
       "  </tbody>\n",
       "</table>\n",
       "</div>"
      ],
      "text/plain": [
       "               price  reliability   service       var  pay_meth  web_func  \\\n",
       "repurchase                                                                  \n",
       "0           2.454497     1.725375  1.742505  2.292291  3.005889  2.797109   \n",
       "1           3.532882     3.674565  3.495648  3.691973  4.073985  3.948259   \n",
       "\n",
       "            prod_avail  \n",
       "repurchase              \n",
       "0             2.335118  \n",
       "1             3.678917  "
      ]
     },
     "execution_count": 2675,
     "metadata": {},
     "output_type": "execute_result"
    }
   ],
   "source": [
    "df_te1_bf2.groupby('repurchase').mean()"
   ]
  },
  {
   "cell_type": "markdown",
   "metadata": {},
   "source": [
    "#### Xmas/click-away"
   ]
  },
  {
   "cell_type": "markdown",
   "metadata": {},
   "source": [
    "#### All costumers together"
   ]
  },
  {
   "cell_type": "code",
   "execution_count": 2676,
   "metadata": {},
   "outputs": [],
   "source": [
    "df_te1_xmas = one_date_more(df_t1_octob, 2020, 12, 13)"
   ]
  },
  {
   "cell_type": "code",
   "execution_count": 2677,
   "metadata": {},
   "outputs": [
    {
     "name": "stdout",
     "output_type": "stream",
     "text": [
      "percentage of no repurchase is 33.83217530732229\n",
      "percentage of repurchase 66.16782469267771\n"
     ]
    }
   ],
   "source": [
    "repurchase_perc(df_te1_xmas)"
   ]
  },
  {
   "cell_type": "code",
   "execution_count": 2678,
   "metadata": {},
   "outputs": [
    {
     "name": "stdout",
     "output_type": "stream",
     "text": [
      "Optimization terminated successfully.\n",
      "         Current function value: 0.384661\n",
      "         Iterations 7\n",
      "Summary Of Results\n",
      "                         Results: Logit\n",
      "================================================================\n",
      "Model:              Logit            Pseudo R-squared: 0.399    \n",
      "Dependent Variable: repurchase       AIC:              2892.8059\n",
      "Date:               2021-02-04 17:26 BIC:              2936.3975\n",
      "No. Observations:   3742             Log-Likelihood:   -1439.4  \n",
      "Df Model:           6                LL-Null:          -2394.6  \n",
      "Df Residuals:       3735             LLR p-value:      0.0000   \n",
      "Converged:          1.0000           Scale:            1.0000   \n",
      "No. Iterations:     7.0000                                      \n",
      "-----------------------------------------------------------------\n",
      "              Coef.   Std.Err.     z     P>|z|    [0.025   0.975]\n",
      "-----------------------------------------------------------------\n",
      "price        -0.4938    0.0601  -8.2113  0.0000  -0.6117  -0.3760\n",
      "reliability   0.9148    0.0673  13.5901  0.0000   0.7829   1.0468\n",
      "service       0.7982    0.0685  11.6602  0.0000   0.6640   0.9323\n",
      "variety       0.1330    0.0533   2.4955  0.0126   0.0286   0.2375\n",
      "pay_meth     -0.4126    0.0451  -9.1404  0.0000  -0.5011  -0.3242\n",
      "web_func     -0.3100    0.0497  -6.2392  0.0000  -0.4073  -0.2126\n",
      "prod_avail   -0.0795    0.0488  -1.6302  0.1031  -0.1751   0.0161\n",
      "================================================================\n",
      "\n",
      "Accuracy of logistic regression classifier on test set: 0.90\n",
      "Logistic Regression AUC: 0.959\n"
     ]
    },
    {
     "name": "stderr",
     "output_type": "stream",
     "text": [
      "C:\\Users\\Pigi\\Anaconda3\\lib\\site-packages\\sklearn\\utils\\validation.py:72: DataConversionWarning: A column-vector y was passed when a 1d array was expected. Please change the shape of y to (n_samples, ), for example using ravel().\n",
      "  return f(**kwargs)\n"
     ]
    }
   ],
   "source": [
    "logreg_fitting(df_te1_xmas, False)"
   ]
  },
  {
   "cell_type": "code",
   "execution_count": 2679,
   "metadata": {},
   "outputs": [
    {
     "data": {
      "text/html": [
       "<div>\n",
       "<style scoped>\n",
       "    .dataframe tbody tr th:only-of-type {\n",
       "        vertical-align: middle;\n",
       "    }\n",
       "\n",
       "    .dataframe tbody tr th {\n",
       "        vertical-align: top;\n",
       "    }\n",
       "\n",
       "    .dataframe thead th {\n",
       "        text-align: right;\n",
       "    }\n",
       "</style>\n",
       "<table border=\"1\" class=\"dataframe\">\n",
       "  <thead>\n",
       "    <tr style=\"text-align: right;\">\n",
       "      <th></th>\n",
       "      <th>pay_meth</th>\n",
       "      <th>price</th>\n",
       "      <th>reliability</th>\n",
       "      <th>variety</th>\n",
       "      <th>prod_avail</th>\n",
       "      <th>service</th>\n",
       "      <th>eshop_func</th>\n",
       "    </tr>\n",
       "    <tr>\n",
       "      <th>repurchase</th>\n",
       "      <th></th>\n",
       "      <th></th>\n",
       "      <th></th>\n",
       "      <th></th>\n",
       "      <th></th>\n",
       "      <th></th>\n",
       "      <th></th>\n",
       "    </tr>\n",
       "  </thead>\n",
       "  <tbody>\n",
       "    <tr>\n",
       "      <th>0</th>\n",
       "      <td>3.266055</td>\n",
       "      <td>2.742100</td>\n",
       "      <td>1.686035</td>\n",
       "      <td>2.551478</td>\n",
       "      <td>2.512742</td>\n",
       "      <td>1.636086</td>\n",
       "      <td>2.241590</td>\n",
       "    </tr>\n",
       "    <tr>\n",
       "      <th>1</th>\n",
       "      <td>4.664972</td>\n",
       "      <td>4.155567</td>\n",
       "      <td>4.349263</td>\n",
       "      <td>4.327911</td>\n",
       "      <td>4.350788</td>\n",
       "      <td>4.210473</td>\n",
       "      <td>4.265887</td>\n",
       "    </tr>\n",
       "  </tbody>\n",
       "</table>\n",
       "</div>"
      ],
      "text/plain": [
       "            pay_meth     price  reliability   variety  prod_avail   service  \\\n",
       "repurchase                                                                    \n",
       "0           3.266055  2.742100     1.686035  2.551478    2.512742  1.636086   \n",
       "1           4.664972  4.155567     4.349263  4.327911    4.350788  4.210473   \n",
       "\n",
       "            eshop_func  \n",
       "repurchase              \n",
       "0             2.241590  \n",
       "1             4.265887  "
      ]
     },
     "execution_count": 2679,
     "metadata": {},
     "output_type": "execute_result"
    }
   ],
   "source": [
    "df_te2_xmas.groupby('repurchase').mean()"
   ]
  },
  {
   "cell_type": "markdown",
   "metadata": {},
   "source": [
    "#### Costumers with delivered orders"
   ]
  },
  {
   "cell_type": "code",
   "execution_count": 2680,
   "metadata": {},
   "outputs": [],
   "source": [
    "df_te1_xmas1 = one_date_more(df_t1_oct1, 2020, 12, 13) "
   ]
  },
  {
   "cell_type": "code",
   "execution_count": 2681,
   "metadata": {},
   "outputs": [
    {
     "name": "stdout",
     "output_type": "stream",
     "text": [
      "percentage of no repurchase is 9.366684406599255\n",
      "percentage of repurchase 90.63331559340074\n"
     ]
    }
   ],
   "source": [
    "repurchase_perc(df_te1_xmas1)"
   ]
  },
  {
   "cell_type": "code",
   "execution_count": 2682,
   "metadata": {},
   "outputs": [
    {
     "name": "stdout",
     "output_type": "stream",
     "text": [
      "Optimization terminated successfully.\n",
      "         Current function value: 0.148742\n",
      "         Iterations 8\n",
      "Summary Of Results\n",
      "                          Results: Logit\n",
      "==================================================================\n",
      "Model:              Logit            Pseudo R-squared: 0.522      \n",
      "Dependent Variable: repurchase       AIC:              578.9737   \n",
      "Date:               2021-02-04 17:26 BIC:              634.3587   \n",
      "No. Observations:   1879             Log-Likelihood:   -279.49    \n",
      "Df Model:           9                LL-Null:          -584.26    \n",
      "Df Residuals:       1869             LLR p-value:      1.8759e-125\n",
      "Converged:          1.0000           Scale:            1.0000     \n",
      "No. Iterations:     8.0000                                        \n",
      "-------------------------------------------------------------------\n",
      "                Coef.   Std.Err.     z     P>|z|    [0.025   0.975]\n",
      "-------------------------------------------------------------------\n",
      "price          -0.8596    0.1499  -5.7346  0.0000  -1.1533  -0.5658\n",
      "reliability     0.8233    0.1493   5.5144  0.0000   0.5307   1.1159\n",
      "service         0.7202    0.1571   4.5856  0.0000   0.4124   1.0281\n",
      "var             0.4985    0.1284   3.8827  0.0001   0.2469   0.7501\n",
      "pay_meth       -0.9039    0.1209  -7.4781  0.0000  -1.1409  -0.6670\n",
      "web_func        0.2023    0.1237   1.6357  0.1019  -0.0401   0.4447\n",
      "prod_avail     -0.2341    0.1295  -1.8076  0.0707  -0.4879   0.0197\n",
      "packaging       0.1561    0.1038   1.5039  0.1326  -0.0473   0.3596\n",
      "condition       0.4404    0.1023   4.3070  0.0000   0.2400   0.6408\n",
      "ship_time       0.0052    0.1016   0.0508  0.9595  -0.1940   0.2044\n",
      "==================================================================\n",
      "\n",
      "length of oversampled data is  2718\n",
      "Count of non-repurchase in oversampled data 1359\n",
      "Count of repurchases 1359\n",
      "Proportion of non- repurchase data in oversampled data is  0.5\n",
      "Proportion of repurchase data in oversampled data is  0.5\n",
      "Accuracy of logistic regression classifier on test set: 0.93\n",
      "Logistic Regression AUC: 0.942\n"
     ]
    },
    {
     "name": "stderr",
     "output_type": "stream",
     "text": [
      "C:\\Users\\Pigi\\Anaconda3\\lib\\site-packages\\sklearn\\utils\\validation.py:72: DataConversionWarning: A column-vector y was passed when a 1d array was expected. Please change the shape of y to (n_samples, ), for example using ravel().\n",
      "  return f(**kwargs)\n"
     ]
    }
   ],
   "source": [
    "logreg_fitting(df_te1_xmas1 , True)"
   ]
  },
  {
   "cell_type": "code",
   "execution_count": 2683,
   "metadata": {},
   "outputs": [
    {
     "data": {
      "text/html": [
       "<div>\n",
       "<style scoped>\n",
       "    .dataframe tbody tr th:only-of-type {\n",
       "        vertical-align: middle;\n",
       "    }\n",
       "\n",
       "    .dataframe tbody tr th {\n",
       "        vertical-align: top;\n",
       "    }\n",
       "\n",
       "    .dataframe thead th {\n",
       "        text-align: right;\n",
       "    }\n",
       "</style>\n",
       "<table border=\"1\" class=\"dataframe\">\n",
       "  <thead>\n",
       "    <tr style=\"text-align: right;\">\n",
       "      <th></th>\n",
       "      <th>price</th>\n",
       "      <th>reliability</th>\n",
       "      <th>service</th>\n",
       "      <th>var</th>\n",
       "      <th>pay_meth</th>\n",
       "      <th>web_func</th>\n",
       "      <th>prod_avail</th>\n",
       "      <th>packaging</th>\n",
       "      <th>condition</th>\n",
       "      <th>ship_time</th>\n",
       "    </tr>\n",
       "    <tr>\n",
       "      <th>repurchase</th>\n",
       "      <th></th>\n",
       "      <th></th>\n",
       "      <th></th>\n",
       "      <th></th>\n",
       "      <th></th>\n",
       "      <th></th>\n",
       "      <th></th>\n",
       "      <th></th>\n",
       "      <th></th>\n",
       "      <th></th>\n",
       "    </tr>\n",
       "  </thead>\n",
       "  <tbody>\n",
       "    <tr>\n",
       "      <th>0</th>\n",
       "      <td>3.107955</td>\n",
       "      <td>2.102273</td>\n",
       "      <td>2.079545</td>\n",
       "      <td>2.522727</td>\n",
       "      <td>3.664773</td>\n",
       "      <td>2.767045</td>\n",
       "      <td>2.806818</td>\n",
       "      <td>2.625000</td>\n",
       "      <td>2.806818</td>\n",
       "      <td>2.267045</td>\n",
       "    </tr>\n",
       "    <tr>\n",
       "      <th>1</th>\n",
       "      <td>4.059307</td>\n",
       "      <td>4.487962</td>\n",
       "      <td>4.342337</td>\n",
       "      <td>4.421022</td>\n",
       "      <td>4.502642</td>\n",
       "      <td>4.396359</td>\n",
       "      <td>4.209043</td>\n",
       "      <td>4.226659</td>\n",
       "      <td>4.678215</td>\n",
       "      <td>4.112155</td>\n",
       "    </tr>\n",
       "  </tbody>\n",
       "</table>\n",
       "</div>"
      ],
      "text/plain": [
       "               price  reliability   service       var  pay_meth  web_func  \\\n",
       "repurchase                                                                  \n",
       "0           3.107955     2.102273  2.079545  2.522727  3.664773  2.767045   \n",
       "1           4.059307     4.487962  4.342337  4.421022  4.502642  4.396359   \n",
       "\n",
       "            prod_avail  packaging  condition  ship_time  \n",
       "repurchase                                               \n",
       "0             2.806818   2.625000   2.806818   2.267045  \n",
       "1             4.209043   4.226659   4.678215   4.112155  "
      ]
     },
     "execution_count": 2683,
     "metadata": {},
     "output_type": "execute_result"
    }
   ],
   "source": [
    "df_te1_xmas1.groupby('repurchase').mean()"
   ]
  },
  {
   "cell_type": "markdown",
   "metadata": {},
   "source": [
    "#### Costumers with undelivered orders"
   ]
  },
  {
   "cell_type": "code",
   "execution_count": 2684,
   "metadata": {},
   "outputs": [],
   "source": [
    "df_te1_xmas2 = one_date_more(df_t1_oct2 , 2020 ,12 ,13)"
   ]
  },
  {
   "cell_type": "code",
   "execution_count": 2685,
   "metadata": {},
   "outputs": [
    {
     "name": "stdout",
     "output_type": "stream",
     "text": [
      "percentage of no repurchase is 58.7356893977103\n",
      "percentage of repurchase 41.2643106022897\n"
     ]
    }
   ],
   "source": [
    "repurchase_perc(df_te1_xmas2)"
   ]
  },
  {
   "cell_type": "code",
   "execution_count": 2686,
   "metadata": {},
   "outputs": [
    {
     "name": "stdout",
     "output_type": "stream",
     "text": [
      "Optimization terminated successfully.\n",
      "         Current function value: 0.552115\n",
      "         Iterations 6\n",
      "Summary Of Results\n",
      "                          Results: Logit\n",
      "==================================================================\n",
      "Model:              Logit            Pseudo R-squared: 0.185      \n",
      "Dependent Variable: repurchase       AIC:              2232.3976  \n",
      "Date:               2021-02-04 17:26 BIC:              2271.6353  \n",
      "No. Observations:   2009             Log-Likelihood:   -1109.2    \n",
      "Df Model:           6                LL-Null:          -1361.7    \n",
      "Df Residuals:       2002             LLR p-value:      6.9450e-106\n",
      "Converged:          1.0000           Scale:            1.0000     \n",
      "No. Iterations:     6.0000                                        \n",
      "-------------------------------------------------------------------\n",
      "                Coef.   Std.Err.     z     P>|z|    [0.025   0.975]\n",
      "-------------------------------------------------------------------\n",
      "price          -0.2772    0.0658  -4.2141  0.0000  -0.4061  -0.1483\n",
      "reliability     0.8225    0.0720  11.4187  0.0000   0.6813   0.9637\n",
      "service         0.5549    0.0734   7.5576  0.0000   0.4110   0.6988\n",
      "var            -0.0381    0.0581  -0.6555  0.5121  -0.1520   0.0758\n",
      "pay_meth       -0.3917    0.0487  -8.0505  0.0000  -0.4870  -0.2963\n",
      "web_func       -0.2580    0.0539  -4.7877  0.0000  -0.3636  -0.1524\n",
      "prod_avail     -0.1024    0.0521  -1.9634  0.0496  -0.2046  -0.0002\n",
      "==================================================================\n"
     ]
    },
    {
     "name": "stderr",
     "output_type": "stream",
     "text": [
      "C:\\Users\\Pigi\\Anaconda3\\lib\\site-packages\\sklearn\\utils\\validation.py:72: DataConversionWarning: A column-vector y was passed when a 1d array was expected. Please change the shape of y to (n_samples, ), for example using ravel().\n",
      "  return f(**kwargs)\n"
     ]
    },
    {
     "name": "stdout",
     "output_type": "stream",
     "text": [
      "\n",
      "Accuracy of logistic regression classifier on test set: 0.84\n",
      "Logistic Regression AUC: 0.896\n"
     ]
    }
   ],
   "source": [
    "logreg_fitting(df_te1_xmas2 , False)"
   ]
  },
  {
   "cell_type": "code",
   "execution_count": 2687,
   "metadata": {},
   "outputs": [
    {
     "data": {
      "text/html": [
       "<div>\n",
       "<style scoped>\n",
       "    .dataframe tbody tr th:only-of-type {\n",
       "        vertical-align: middle;\n",
       "    }\n",
       "\n",
       "    .dataframe tbody tr th {\n",
       "        vertical-align: top;\n",
       "    }\n",
       "\n",
       "    .dataframe thead th {\n",
       "        text-align: right;\n",
       "    }\n",
       "</style>\n",
       "<table border=\"1\" class=\"dataframe\">\n",
       "  <thead>\n",
       "    <tr style=\"text-align: right;\">\n",
       "      <th></th>\n",
       "      <th>price</th>\n",
       "      <th>reliability</th>\n",
       "      <th>service</th>\n",
       "      <th>var</th>\n",
       "      <th>pay_meth</th>\n",
       "      <th>web_func</th>\n",
       "      <th>prod_avail</th>\n",
       "    </tr>\n",
       "    <tr>\n",
       "      <th>repurchase</th>\n",
       "      <th></th>\n",
       "      <th></th>\n",
       "      <th></th>\n",
       "      <th></th>\n",
       "      <th></th>\n",
       "      <th></th>\n",
       "      <th></th>\n",
       "    </tr>\n",
       "  </thead>\n",
       "  <tbody>\n",
       "    <tr>\n",
       "      <th>0</th>\n",
       "      <td>2.312712</td>\n",
       "      <td>1.616949</td>\n",
       "      <td>1.599153</td>\n",
       "      <td>2.266949</td>\n",
       "      <td>2.936441</td>\n",
       "      <td>2.668644</td>\n",
       "      <td>2.181356</td>\n",
       "    </tr>\n",
       "    <tr>\n",
       "      <th>1</th>\n",
       "      <td>3.509047</td>\n",
       "      <td>3.594692</td>\n",
       "      <td>3.408926</td>\n",
       "      <td>3.624849</td>\n",
       "      <td>4.078408</td>\n",
       "      <td>3.952955</td>\n",
       "      <td>3.493366</td>\n",
       "    </tr>\n",
       "  </tbody>\n",
       "</table>\n",
       "</div>"
      ],
      "text/plain": [
       "               price  reliability   service       var  pay_meth  web_func  \\\n",
       "repurchase                                                                  \n",
       "0           2.312712     1.616949  1.599153  2.266949  2.936441  2.668644   \n",
       "1           3.509047     3.594692  3.408926  3.624849  4.078408  3.952955   \n",
       "\n",
       "            prod_avail  \n",
       "repurchase              \n",
       "0             2.181356  \n",
       "1             3.493366  "
      ]
     },
     "execution_count": 2687,
     "metadata": {},
     "output_type": "execute_result"
    }
   ],
   "source": [
    "df_te1_xmas2.groupby('repurchase').mean()"
   ]
  },
  {
   "cell_type": "markdown",
   "metadata": {},
   "source": [
    "### Second Tech Store"
   ]
  },
  {
   "cell_type": "markdown",
   "metadata": {},
   "source": [
    "### All costumers together"
   ]
  },
  {
   "cell_type": "markdown",
   "metadata": {},
   "source": [
    "#### Before Quarantine"
   ]
  },
  {
   "cell_type": "code",
   "execution_count": 2688,
   "metadata": {},
   "outputs": [],
   "source": [
    "df_te2_bq = one_date_less(df_t2_octob, 2020, 11, 7)"
   ]
  },
  {
   "cell_type": "code",
   "execution_count": 2689,
   "metadata": {},
   "outputs": [],
   "source": [
    "frames = [df_te2_bq, df_t2_july]\n",
    "df_te2_befq = pd.concat(frames)"
   ]
  },
  {
   "cell_type": "code",
   "execution_count": 2690,
   "metadata": {},
   "outputs": [
    {
     "name": "stdout",
     "output_type": "stream",
     "text": [
      "percentage of no repurchase is 23.651145602365116\n",
      "percentage of repurchase 76.34885439763488\n"
     ]
    }
   ],
   "source": [
    "repurchase_perc(df_te2_befq)"
   ]
  },
  {
   "cell_type": "code",
   "execution_count": 2691,
   "metadata": {},
   "outputs": [
    {
     "name": "stdout",
     "output_type": "stream",
     "text": [
      "Optimization terminated successfully.\n",
      "         Current function value: 0.268741\n",
      "         Iterations 7\n",
      "Summary Of Results\n"
     ]
    },
    {
     "name": "stderr",
     "output_type": "stream",
     "text": [
      "C:\\Users\\Pigi\\Anaconda3\\lib\\site-packages\\sklearn\\utils\\validation.py:72: DataConversionWarning: A column-vector y was passed when a 1d array was expected. Please change the shape of y to (n_samples, ), for example using ravel().\n",
      "  return f(**kwargs)\n"
     ]
    },
    {
     "name": "stdout",
     "output_type": "stream",
     "text": [
      "                          Results: Logit\n",
      "==================================================================\n",
      "Model:              Logit            Pseudo R-squared: 0.509      \n",
      "Dependent Variable: repurchase       AIC:              741.2125   \n",
      "Date:               2021-02-04 17:26 BIC:              777.6830   \n",
      "No. Observations:   1353             Log-Likelihood:   -363.61    \n",
      "Df Model:           6                LL-Null:          -740.13    \n",
      "Df Residuals:       1346             LLR p-value:      2.1515e-159\n",
      "Converged:          1.0000           Scale:            1.0000     \n",
      "No. Iterations:     7.0000                                        \n",
      "-------------------------------------------------------------------\n",
      "                Coef.   Std.Err.     z     P>|z|    [0.025   0.975]\n",
      "-------------------------------------------------------------------\n",
      "pay_meth       -0.6080    0.0977  -6.2208  0.0000  -0.7996  -0.4164\n",
      "price          -0.4930    0.1250  -3.9430  0.0001  -0.7380  -0.2479\n",
      "reliability     0.9701    0.1320   7.3488  0.0000   0.7113   1.2288\n",
      "variety        -0.1042    0.1238  -0.8411  0.4003  -0.3469   0.1386\n",
      "prod_avail      0.1677    0.0957   1.7530  0.0796  -0.0198   0.3553\n",
      "service         0.8347    0.1369   6.0965  0.0000   0.5663   1.1030\n",
      "eshop_func     -0.0746    0.1117  -0.6674  0.5045  -0.2935   0.1444\n",
      "==================================================================\n",
      "\n",
      "Accuracy of logistic regression classifier on test set: 0.94\n",
      "Logistic Regression AUC: 0.976\n"
     ]
    }
   ],
   "source": [
    "logreg_fitting(df_te2_befq, False)"
   ]
  },
  {
   "cell_type": "code",
   "execution_count": 2692,
   "metadata": {},
   "outputs": [
    {
     "data": {
      "text/html": [
       "<div>\n",
       "<style scoped>\n",
       "    .dataframe tbody tr th:only-of-type {\n",
       "        vertical-align: middle;\n",
       "    }\n",
       "\n",
       "    .dataframe tbody tr th {\n",
       "        vertical-align: top;\n",
       "    }\n",
       "\n",
       "    .dataframe thead th {\n",
       "        text-align: right;\n",
       "    }\n",
       "</style>\n",
       "<table border=\"1\" class=\"dataframe\">\n",
       "  <thead>\n",
       "    <tr style=\"text-align: right;\">\n",
       "      <th></th>\n",
       "      <th>pay_meth</th>\n",
       "      <th>price</th>\n",
       "      <th>reliability</th>\n",
       "      <th>variety</th>\n",
       "      <th>prod_avail</th>\n",
       "      <th>service</th>\n",
       "      <th>eshop_func</th>\n",
       "    </tr>\n",
       "    <tr>\n",
       "      <th>repurchase</th>\n",
       "      <th></th>\n",
       "      <th></th>\n",
       "      <th></th>\n",
       "      <th></th>\n",
       "      <th></th>\n",
       "      <th></th>\n",
       "      <th></th>\n",
       "    </tr>\n",
       "  </thead>\n",
       "  <tbody>\n",
       "    <tr>\n",
       "      <th>0</th>\n",
       "      <td>3.359375</td>\n",
       "      <td>2.715625</td>\n",
       "      <td>1.659375</td>\n",
       "      <td>2.665625</td>\n",
       "      <td>2.115625</td>\n",
       "      <td>1.681250</td>\n",
       "      <td>2.265625</td>\n",
       "    </tr>\n",
       "    <tr>\n",
       "      <th>1</th>\n",
       "      <td>4.728945</td>\n",
       "      <td>4.157793</td>\n",
       "      <td>4.492740</td>\n",
       "      <td>4.303001</td>\n",
       "      <td>4.342691</td>\n",
       "      <td>4.400774</td>\n",
       "      <td>4.273959</td>\n",
       "    </tr>\n",
       "  </tbody>\n",
       "</table>\n",
       "</div>"
      ],
      "text/plain": [
       "            pay_meth     price  reliability   variety  prod_avail   service  \\\n",
       "repurchase                                                                    \n",
       "0           3.359375  2.715625     1.659375  2.665625    2.115625  1.681250   \n",
       "1           4.728945  4.157793     4.492740  4.303001    4.342691  4.400774   \n",
       "\n",
       "            eshop_func  \n",
       "repurchase              \n",
       "0             2.265625  \n",
       "1             4.273959  "
      ]
     },
     "execution_count": 2692,
     "metadata": {},
     "output_type": "execute_result"
    }
   ],
   "source": [
    "df_te2_befq.groupby('repurchase').mean()"
   ]
  },
  {
   "cell_type": "markdown",
   "metadata": {},
   "source": [
    "#### During Quarantine"
   ]
  },
  {
   "cell_type": "code",
   "execution_count": 2693,
   "metadata": {},
   "outputs": [],
   "source": [
    "df_te2_quar = one_date_more(df_t2_octob, 2020, 11, 6)"
   ]
  },
  {
   "cell_type": "code",
   "execution_count": 2694,
   "metadata": {},
   "outputs": [
    {
     "name": "stdout",
     "output_type": "stream",
     "text": [
      "percentage of no repurchase is 26.650429432124085\n",
      "percentage of repurchase 73.34957056787592\n"
     ]
    }
   ],
   "source": [
    "repurchase_perc(df_te2_quar)"
   ]
  },
  {
   "cell_type": "code",
   "execution_count": 2695,
   "metadata": {},
   "outputs": [
    {
     "name": "stdout",
     "output_type": "stream",
     "text": [
      "Optimization terminated successfully.\n",
      "         Current function value: 0.297038\n",
      "         Iterations 7\n",
      "Summary Of Results\n",
      "                         Results: Logit\n",
      "================================================================\n",
      "Model:              Logit            Pseudo R-squared: 0.488    \n",
      "Dependent Variable: repurchase       AIC:              9282.7808\n",
      "Date:               2021-02-04 17:26 BIC:              9336.3669\n",
      "No. Observations:   15602            Log-Likelihood:   -4634.4  \n",
      "Df Model:           6                LL-Null:          -9045.3  \n",
      "Df Residuals:       15595            LLR p-value:      0.0000   \n",
      "Converged:          1.0000           Scale:            1.0000   \n",
      "No. Iterations:     7.0000                                      \n",
      "----------------------------------------------------------------\n",
      "                 Coef.  Std.Err.    z     P>|z|   [0.025  0.975]\n",
      "----------------------------------------------------------------\n",
      "pay_meth        -0.6294   0.0292 -21.5407 0.0000 -0.6867 -0.5722\n",
      "price           -0.5169   0.0339 -15.2534 0.0000 -0.5833 -0.4505\n",
      "reliability      1.0119   0.0359  28.2032 0.0000  0.9416  1.0822\n",
      "variety          0.0042   0.0316   0.1322 0.8948 -0.0577  0.0661\n",
      "prod_avail      -0.0861   0.0306  -2.8135 0.0049 -0.1460 -0.0261\n",
      "service          0.8244   0.0355  23.2007 0.0000  0.7547  0.8940\n",
      "eshop_func       0.0857   0.0281   3.0477 0.0023  0.0306  0.1408\n",
      "================================================================\n",
      "\n",
      "Accuracy of logistic regression classifier on test set: 0.92\n",
      "Logistic Regression AUC: 0.966\n"
     ]
    },
    {
     "name": "stderr",
     "output_type": "stream",
     "text": [
      "C:\\Users\\Pigi\\Anaconda3\\lib\\site-packages\\sklearn\\utils\\validation.py:72: DataConversionWarning: A column-vector y was passed when a 1d array was expected. Please change the shape of y to (n_samples, ), for example using ravel().\n",
      "  return f(**kwargs)\n"
     ]
    }
   ],
   "source": [
    "logreg_fitting(df_te2_quar, False)"
   ]
  },
  {
   "cell_type": "code",
   "execution_count": 2696,
   "metadata": {},
   "outputs": [
    {
     "data": {
      "text/html": [
       "<div>\n",
       "<style scoped>\n",
       "    .dataframe tbody tr th:only-of-type {\n",
       "        vertical-align: middle;\n",
       "    }\n",
       "\n",
       "    .dataframe tbody tr th {\n",
       "        vertical-align: top;\n",
       "    }\n",
       "\n",
       "    .dataframe thead th {\n",
       "        text-align: right;\n",
       "    }\n",
       "</style>\n",
       "<table border=\"1\" class=\"dataframe\">\n",
       "  <thead>\n",
       "    <tr style=\"text-align: right;\">\n",
       "      <th></th>\n",
       "      <th>pay_meth</th>\n",
       "      <th>price</th>\n",
       "      <th>reliability</th>\n",
       "      <th>variety</th>\n",
       "      <th>prod_avail</th>\n",
       "      <th>service</th>\n",
       "      <th>eshop_func</th>\n",
       "    </tr>\n",
       "    <tr>\n",
       "      <th>repurchase</th>\n",
       "      <th></th>\n",
       "      <th></th>\n",
       "      <th></th>\n",
       "      <th></th>\n",
       "      <th></th>\n",
       "      <th></th>\n",
       "      <th></th>\n",
       "    </tr>\n",
       "  </thead>\n",
       "  <tbody>\n",
       "    <tr>\n",
       "      <th>0</th>\n",
       "      <td>3.376623</td>\n",
       "      <td>2.783550</td>\n",
       "      <td>1.696248</td>\n",
       "      <td>2.587542</td>\n",
       "      <td>2.608947</td>\n",
       "      <td>1.655604</td>\n",
       "      <td>2.257576</td>\n",
       "    </tr>\n",
       "    <tr>\n",
       "      <th>1</th>\n",
       "      <td>4.689969</td>\n",
       "      <td>4.151084</td>\n",
       "      <td>4.400559</td>\n",
       "      <td>4.362810</td>\n",
       "      <td>4.373908</td>\n",
       "      <td>4.279972</td>\n",
       "      <td>4.202988</td>\n",
       "    </tr>\n",
       "  </tbody>\n",
       "</table>\n",
       "</div>"
      ],
      "text/plain": [
       "            pay_meth     price  reliability   variety  prod_avail   service  \\\n",
       "repurchase                                                                    \n",
       "0           3.376623  2.783550     1.696248  2.587542    2.608947  1.655604   \n",
       "1           4.689969  4.151084     4.400559  4.362810    4.373908  4.279972   \n",
       "\n",
       "            eshop_func  \n",
       "repurchase              \n",
       "0             2.257576  \n",
       "1             4.202988  "
      ]
     },
     "execution_count": 2696,
     "metadata": {},
     "output_type": "execute_result"
    }
   ],
   "source": [
    "df_te2_quar.groupby('repurchase').mean()"
   ]
  },
  {
   "cell_type": "markdown",
   "metadata": {},
   "source": [
    "### Separated Customers"
   ]
  },
  {
   "cell_type": "markdown",
   "metadata": {},
   "source": [
    "#### Quarantine"
   ]
  },
  {
   "cell_type": "code",
   "execution_count": 2697,
   "metadata": {},
   "outputs": [],
   "source": [
    "df_te2_quar1 = one_date_more(df_t2_oct1, 2020, 11, 6)\n",
    "df_te2_quar2 = one_date_more(df_t2_oct2, 2020, 11, 6)"
   ]
  },
  {
   "cell_type": "markdown",
   "metadata": {},
   "source": [
    "#### Costumers with delivered orders"
   ]
  },
  {
   "cell_type": "code",
   "execution_count": 2698,
   "metadata": {},
   "outputs": [
    {
     "name": "stdout",
     "output_type": "stream",
     "text": [
      "percentage of no repurchase is 11.621954687648119\n",
      "percentage of repurchase 88.37804531235189\n"
     ]
    }
   ],
   "source": [
    "repurchase_perc(df_te2_quar1)"
   ]
  },
  {
   "cell_type": "code",
   "execution_count": 2699,
   "metadata": {},
   "outputs": [
    {
     "name": "stdout",
     "output_type": "stream",
     "text": [
      "Optimization terminated successfully.\n",
      "         Current function value: 0.169471\n",
      "         Iterations 8\n",
      "Summary Of Results\n",
      "                         Results: Logit\n",
      "================================================================\n",
      "Model:              Logit            Pseudo R-squared: 0.528    \n",
      "Dependent Variable: repurchase       AIC:              3593.5083\n",
      "Date:               2021-02-04 17:26 BIC:              3658.8824\n",
      "No. Observations:   10549            Log-Likelihood:   -1787.8  \n",
      "Df Model:           8                LL-Null:          -3790.5  \n",
      "Df Residuals:       10540            LLR p-value:      0.0000   \n",
      "Converged:          1.0000           Scale:            1.0000   \n",
      "No. Iterations:     8.0000                                      \n",
      "----------------------------------------------------------------\n",
      "                 Coef.  Std.Err.    z     P>|z|   [0.025  0.975]\n",
      "----------------------------------------------------------------\n",
      "pay_meth        -0.7085   0.0471 -15.0383 0.0000 -0.8008 -0.6161\n",
      "reliability      0.7930   0.0522  15.2045 0.0000  0.6908  0.8952\n",
      "variety          0.1534   0.0466   3.2903 0.0010  0.0620  0.2447\n",
      "prod_avail      -0.3334   0.0502  -6.6452 0.0000 -0.4318 -0.2351\n",
      "service          0.7827   0.0500  15.6466 0.0000  0.6847  0.8807\n",
      "price           -0.5789   0.0522 -11.0800 0.0000 -0.6813 -0.4765\n",
      "eshop_func       0.0864   0.0417   2.0732 0.0381  0.0047  0.1682\n",
      "condition        0.3194   0.0401   7.9676 0.0000  0.2409  0.3980\n",
      "ship_time        0.3348   0.0355   9.4345 0.0000  0.2652  0.4044\n",
      "================================================================\n",
      "\n",
      "length of oversampled data is  14926\n",
      "Count of non-repurchase in oversampled data 7463\n",
      "Count of repurchases 7463\n",
      "Proportion of non- repurchase data in oversampled data is  0.5\n",
      "Proportion of repurchase data in oversampled data is  0.5\n",
      "Accuracy of logistic regression classifier on test set: 0.95\n",
      "Logistic Regression AUC: 0.982\n"
     ]
    },
    {
     "name": "stderr",
     "output_type": "stream",
     "text": [
      "C:\\Users\\Pigi\\Anaconda3\\lib\\site-packages\\sklearn\\utils\\validation.py:72: DataConversionWarning: A column-vector y was passed when a 1d array was expected. Please change the shape of y to (n_samples, ), for example using ravel().\n",
      "  return f(**kwargs)\n"
     ]
    }
   ],
   "source": [
    "logreg_fitting(df_te2_quar1, True)"
   ]
  },
  {
   "cell_type": "code",
   "execution_count": 2700,
   "metadata": {},
   "outputs": [
    {
     "data": {
      "text/html": [
       "<div>\n",
       "<style scoped>\n",
       "    .dataframe tbody tr th:only-of-type {\n",
       "        vertical-align: middle;\n",
       "    }\n",
       "\n",
       "    .dataframe tbody tr th {\n",
       "        vertical-align: top;\n",
       "    }\n",
       "\n",
       "    .dataframe thead th {\n",
       "        text-align: right;\n",
       "    }\n",
       "</style>\n",
       "<table border=\"1\" class=\"dataframe\">\n",
       "  <thead>\n",
       "    <tr style=\"text-align: right;\">\n",
       "      <th></th>\n",
       "      <th>pay_meth</th>\n",
       "      <th>reliability</th>\n",
       "      <th>variety</th>\n",
       "      <th>prod_avail</th>\n",
       "      <th>service</th>\n",
       "      <th>price</th>\n",
       "      <th>eshop_func</th>\n",
       "      <th>condition</th>\n",
       "      <th>ship_time</th>\n",
       "    </tr>\n",
       "    <tr>\n",
       "      <th>repurchase</th>\n",
       "      <th></th>\n",
       "      <th></th>\n",
       "      <th></th>\n",
       "      <th></th>\n",
       "      <th></th>\n",
       "      <th></th>\n",
       "      <th></th>\n",
       "      <th></th>\n",
       "      <th></th>\n",
       "    </tr>\n",
       "  </thead>\n",
       "  <tbody>\n",
       "    <tr>\n",
       "      <th>0</th>\n",
       "      <td>3.646003</td>\n",
       "      <td>2.000000</td>\n",
       "      <td>2.549755</td>\n",
       "      <td>3.082382</td>\n",
       "      <td>1.876835</td>\n",
       "      <td>3.056281</td>\n",
       "      <td>2.565253</td>\n",
       "      <td>2.805873</td>\n",
       "      <td>2.182708</td>\n",
       "    </tr>\n",
       "    <tr>\n",
       "      <th>1</th>\n",
       "      <td>4.722621</td>\n",
       "      <td>4.547678</td>\n",
       "      <td>4.443634</td>\n",
       "      <td>4.469377</td>\n",
       "      <td>4.459938</td>\n",
       "      <td>4.202617</td>\n",
       "      <td>4.307305</td>\n",
       "      <td>4.752333</td>\n",
       "      <td>4.317280</td>\n",
       "    </tr>\n",
       "  </tbody>\n",
       "</table>\n",
       "</div>"
      ],
      "text/plain": [
       "            pay_meth  reliability   variety  prod_avail   service     price  \\\n",
       "repurchase                                                                    \n",
       "0           3.646003     2.000000  2.549755    3.082382  1.876835  3.056281   \n",
       "1           4.722621     4.547678  4.443634    4.469377  4.459938  4.202617   \n",
       "\n",
       "            eshop_func  condition  ship_time  \n",
       "repurchase                                    \n",
       "0             2.565253   2.805873   2.182708  \n",
       "1             4.307305   4.752333   4.317280  "
      ]
     },
     "execution_count": 2700,
     "metadata": {},
     "output_type": "execute_result"
    }
   ],
   "source": [
    "df_te2_quar1.groupby('repurchase').mean()"
   ]
  },
  {
   "cell_type": "markdown",
   "metadata": {},
   "source": [
    "#### Costumers with undelivered orders"
   ]
  },
  {
   "cell_type": "code",
   "execution_count": 2701,
   "metadata": {},
   "outputs": [
    {
     "name": "stdout",
     "output_type": "stream",
     "text": [
      "percentage of no repurchase is 56.50342285413375\n",
      "percentage of repurchase 43.49657714586625\n"
     ]
    }
   ],
   "source": [
    "repurchase_perc(df_te2_quar2)"
   ]
  },
  {
   "cell_type": "code",
   "execution_count": 2702,
   "metadata": {},
   "outputs": [
    {
     "name": "stdout",
     "output_type": "stream",
     "text": [
      "Optimization terminated successfully.\n",
      "         Current function value: 0.536144\n",
      "         Iterations 6\n",
      "Summary Of Results\n",
      "                         Results: Logit\n",
      "================================================================\n",
      "Model:              Logit            Pseudo R-squared: 0.217    \n",
      "Dependent Variable: repurchase       AIC:              6122.8280\n",
      "Date:               2021-02-04 17:26 BIC:              6169.3619\n",
      "No. Observations:   5697             Log-Likelihood:   -3054.4  \n",
      "Df Model:           6                LL-Null:          -3900.5  \n",
      "Df Residuals:       5690             LLR p-value:      0.0000   \n",
      "Converged:          1.0000           Scale:            1.0000   \n",
      "No. Iterations:     6.0000                                      \n",
      "----------------------------------------------------------------\n",
      "                 Coef.  Std.Err.    z     P>|z|   [0.025  0.975]\n",
      "----------------------------------------------------------------\n",
      "pay_meth        -0.4533   0.0336 -13.4873 0.0000 -0.5192 -0.3874\n",
      "reliability      0.7859   0.0418  18.8114 0.0000  0.7040  0.8677\n",
      "variety         -0.0834   0.0382  -2.1794 0.0293 -0.1583 -0.0084\n",
      "prod_avail      -0.0079   0.0344  -0.2295 0.8185 -0.0753  0.0595\n",
      "service          0.4696   0.0434  10.8221 0.0000  0.3846  0.5547\n",
      "price           -0.4084   0.0390 -10.4624 0.0000 -0.4849 -0.3319\n",
      "eshop_func       0.0827   0.0341   2.4219 0.0154  0.0158  0.1496\n",
      "================================================================\n",
      "\n",
      "Accuracy of logistic regression classifier on test set: 0.84\n",
      "Logistic Regression AUC: 0.918\n"
     ]
    },
    {
     "name": "stderr",
     "output_type": "stream",
     "text": [
      "C:\\Users\\Pigi\\Anaconda3\\lib\\site-packages\\sklearn\\utils\\validation.py:72: DataConversionWarning: A column-vector y was passed when a 1d array was expected. Please change the shape of y to (n_samples, ), for example using ravel().\n",
      "  return f(**kwargs)\n"
     ]
    }
   ],
   "source": [
    "logreg_fitting(df_te2_quar2, False)"
   ]
  },
  {
   "cell_type": "code",
   "execution_count": 2703,
   "metadata": {},
   "outputs": [
    {
     "data": {
      "text/html": [
       "<div>\n",
       "<style scoped>\n",
       "    .dataframe tbody tr th:only-of-type {\n",
       "        vertical-align: middle;\n",
       "    }\n",
       "\n",
       "    .dataframe tbody tr th {\n",
       "        vertical-align: top;\n",
       "    }\n",
       "\n",
       "    .dataframe thead th {\n",
       "        text-align: right;\n",
       "    }\n",
       "</style>\n",
       "<table border=\"1\" class=\"dataframe\">\n",
       "  <thead>\n",
       "    <tr style=\"text-align: right;\">\n",
       "      <th></th>\n",
       "      <th>pay_meth</th>\n",
       "      <th>reliability</th>\n",
       "      <th>variety</th>\n",
       "      <th>prod_avail</th>\n",
       "      <th>service</th>\n",
       "      <th>price</th>\n",
       "      <th>eshop_func</th>\n",
       "    </tr>\n",
       "    <tr>\n",
       "      <th>repurchase</th>\n",
       "      <th></th>\n",
       "      <th></th>\n",
       "      <th></th>\n",
       "      <th></th>\n",
       "      <th></th>\n",
       "      <th></th>\n",
       "      <th></th>\n",
       "    </tr>\n",
       "  </thead>\n",
       "  <tbody>\n",
       "    <tr>\n",
       "      <th>0</th>\n",
       "      <td>3.265610</td>\n",
       "      <td>1.650823</td>\n",
       "      <td>2.613545</td>\n",
       "      <td>2.461945</td>\n",
       "      <td>1.621622</td>\n",
       "      <td>2.705499</td>\n",
       "      <td>2.189500</td>\n",
       "    </tr>\n",
       "    <tr>\n",
       "      <th>1</th>\n",
       "      <td>4.416465</td>\n",
       "      <td>3.709443</td>\n",
       "      <td>3.916061</td>\n",
       "      <td>3.902341</td>\n",
       "      <td>3.467716</td>\n",
       "      <td>3.852704</td>\n",
       "      <td>3.700565</td>\n",
       "    </tr>\n",
       "  </tbody>\n",
       "</table>\n",
       "</div>"
      ],
      "text/plain": [
       "            pay_meth  reliability   variety  prod_avail   service     price  \\\n",
       "repurchase                                                                    \n",
       "0           3.265610     1.650823  2.613545    2.461945  1.621622  2.705499   \n",
       "1           4.416465     3.709443  3.916061    3.902341  3.467716  3.852704   \n",
       "\n",
       "            eshop_func  \n",
       "repurchase              \n",
       "0             2.189500  \n",
       "1             3.700565  "
      ]
     },
     "execution_count": 2703,
     "metadata": {},
     "output_type": "execute_result"
    }
   ],
   "source": [
    "df_te2_quar2.groupby('repurchase').mean()"
   ]
  },
  {
   "cell_type": "markdown",
   "metadata": {},
   "source": [
    "#### Black Friday"
   ]
  },
  {
   "cell_type": "markdown",
   "metadata": {},
   "source": [
    "#### All costumers together"
   ]
  },
  {
   "cell_type": "code",
   "execution_count": 2704,
   "metadata": {},
   "outputs": [],
   "source": [
    "df_te2_bf = one_date_more(df_t2_octob, 2020, 11, 26)\n",
    "df_te2_bf = one_date_less(df_te2_bf, 2020, 12, 15)"
   ]
  },
  {
   "cell_type": "code",
   "execution_count": 2705,
   "metadata": {},
   "outputs": [
    {
     "name": "stdout",
     "output_type": "stream",
     "text": [
      "percentage of no repurchase is 26.301272355191742\n",
      "percentage of repurchase 73.69872764480826\n"
     ]
    }
   ],
   "source": [
    "repurchase_perc(df_te2_bf)"
   ]
  },
  {
   "cell_type": "code",
   "execution_count": 2706,
   "metadata": {},
   "outputs": [
    {
     "name": "stdout",
     "output_type": "stream",
     "text": [
      "Optimization terminated successfully.\n",
      "         Current function value: 0.296753\n",
      "         Iterations 7\n",
      "Summary Of Results\n",
      "                         Results: Logit\n",
      "================================================================\n",
      "Model:              Logit            Pseudo R-squared: 0.485    \n",
      "Dependent Variable: repurchase       AIC:              6684.4148\n",
      "Date:               2021-02-04 17:26 BIC:              6735.7048\n",
      "No. Observations:   11239            Log-Likelihood:   -3335.2  \n",
      "Df Model:           6                LL-Null:          -6475.7  \n",
      "Df Residuals:       11232            LLR p-value:      0.0000   \n",
      "Converged:          1.0000           Scale:            1.0000   \n",
      "No. Iterations:     7.0000                                      \n",
      "----------------------------------------------------------------\n",
      "                 Coef.  Std.Err.    z     P>|z|   [0.025  0.975]\n",
      "----------------------------------------------------------------\n",
      "pay_meth        -0.6335   0.0343 -18.4677 0.0000 -0.7008 -0.5663\n",
      "price           -0.4836   0.0395 -12.2300 0.0000 -0.5611 -0.4061\n",
      "reliability      0.9836   0.0425  23.1572 0.0000  0.9004  1.0669\n",
      "variety          0.0146   0.0369   0.3964 0.6918 -0.0577  0.0869\n",
      "prod_avail      -0.1126   0.0359  -3.1347 0.0017 -0.1831 -0.0422\n",
      "service          0.8430   0.0427  19.7554 0.0000  0.7594  0.9266\n",
      "eshop_func       0.0967   0.0328   2.9524 0.0032  0.0325  0.1609\n",
      "================================================================\n",
      "\n",
      "Accuracy of logistic regression classifier on test set: 0.92\n",
      "Logistic Regression AUC: 0.973\n"
     ]
    },
    {
     "name": "stderr",
     "output_type": "stream",
     "text": [
      "C:\\Users\\Pigi\\Anaconda3\\lib\\site-packages\\sklearn\\utils\\validation.py:72: DataConversionWarning: A column-vector y was passed when a 1d array was expected. Please change the shape of y to (n_samples, ), for example using ravel().\n",
      "  return f(**kwargs)\n"
     ]
    }
   ],
   "source": [
    "logreg_fitting(df_te2_bf , False)"
   ]
  },
  {
   "cell_type": "code",
   "execution_count": 2707,
   "metadata": {},
   "outputs": [
    {
     "data": {
      "text/html": [
       "<div>\n",
       "<style scoped>\n",
       "    .dataframe tbody tr th:only-of-type {\n",
       "        vertical-align: middle;\n",
       "    }\n",
       "\n",
       "    .dataframe tbody tr th {\n",
       "        vertical-align: top;\n",
       "    }\n",
       "\n",
       "    .dataframe thead th {\n",
       "        text-align: right;\n",
       "    }\n",
       "</style>\n",
       "<table border=\"1\" class=\"dataframe\">\n",
       "  <thead>\n",
       "    <tr style=\"text-align: right;\">\n",
       "      <th></th>\n",
       "      <th>pay_meth</th>\n",
       "      <th>price</th>\n",
       "      <th>reliability</th>\n",
       "      <th>variety</th>\n",
       "      <th>prod_avail</th>\n",
       "      <th>service</th>\n",
       "      <th>eshop_func</th>\n",
       "    </tr>\n",
       "    <tr>\n",
       "      <th>repurchase</th>\n",
       "      <th></th>\n",
       "      <th></th>\n",
       "      <th></th>\n",
       "      <th></th>\n",
       "      <th></th>\n",
       "      <th></th>\n",
       "      <th></th>\n",
       "    </tr>\n",
       "  </thead>\n",
       "  <tbody>\n",
       "    <tr>\n",
       "      <th>0</th>\n",
       "      <td>3.393775</td>\n",
       "      <td>2.788904</td>\n",
       "      <td>1.701286</td>\n",
       "      <td>2.580176</td>\n",
       "      <td>2.647158</td>\n",
       "      <td>1.656969</td>\n",
       "      <td>2.250338</td>\n",
       "    </tr>\n",
       "    <tr>\n",
       "      <th>1</th>\n",
       "      <td>4.692141</td>\n",
       "      <td>4.148255</td>\n",
       "      <td>4.379693</td>\n",
       "      <td>4.351201</td>\n",
       "      <td>4.362429</td>\n",
       "      <td>4.258119</td>\n",
       "      <td>4.169625</td>\n",
       "    </tr>\n",
       "  </tbody>\n",
       "</table>\n",
       "</div>"
      ],
      "text/plain": [
       "            pay_meth     price  reliability   variety  prod_avail   service  \\\n",
       "repurchase                                                                    \n",
       "0           3.393775  2.788904     1.701286  2.580176    2.647158  1.656969   \n",
       "1           4.692141  4.148255     4.379693  4.351201    4.362429  4.258119   \n",
       "\n",
       "            eshop_func  \n",
       "repurchase              \n",
       "0             2.250338  \n",
       "1             4.169625  "
      ]
     },
     "execution_count": 2707,
     "metadata": {},
     "output_type": "execute_result"
    }
   ],
   "source": [
    "df_te2_bf.groupby('repurchase').mean()"
   ]
  },
  {
   "cell_type": "markdown",
   "metadata": {},
   "source": [
    "#### Costumers with delivered orders"
   ]
  },
  {
   "cell_type": "code",
   "execution_count": 2708,
   "metadata": {},
   "outputs": [],
   "source": [
    "df_te2_bf1 = one_date_more(df_t2_oct1, 2020, 11, 26)\n",
    "df_te2_bf1 = one_date_less(df_te2_bf1, 2020, 12, 15)\n",
    "\n",
    "df_te2_bf2 = one_date_more(df_t2_oct2, 2020, 11, 26)\n",
    "df_te2_bf2 = one_date_less(df_te2_bf2, 2020, 12, 15)"
   ]
  },
  {
   "cell_type": "code",
   "execution_count": 2709,
   "metadata": {},
   "outputs": [
    {
     "name": "stdout",
     "output_type": "stream",
     "text": [
      "percentage of no repurchase is 10.847412174845804\n",
      "percentage of repurchase 89.1525878251542\n"
     ]
    }
   ],
   "source": [
    "repurchase_perc(df_te2_bf1)"
   ]
  },
  {
   "cell_type": "code",
   "execution_count": 2710,
   "metadata": {},
   "outputs": [
    {
     "name": "stdout",
     "output_type": "stream",
     "text": [
      "Optimization terminated successfully.\n",
      "         Current function value: 0.141397\n",
      "         Iterations 8\n",
      "Summary Of Results\n",
      "                         Results: Logit\n",
      "================================================================\n",
      "Model:              Logit            Pseudo R-squared: 0.588    \n",
      "Dependent Variable: repurchase       AIC:              2127.0841\n",
      "Date:               2021-02-04 17:26 BIC:              2189.3375\n",
      "No. Observations:   7458             Log-Likelihood:   -1054.5  \n",
      "Df Model:           8                LL-Null:          -2560.4  \n",
      "Df Residuals:       7449             LLR p-value:      0.0000   \n",
      "Converged:          1.0000           Scale:            1.0000   \n",
      "No. Iterations:     8.0000                                      \n",
      "----------------------------------------------------------------\n",
      "                 Coef.  Std.Err.    z     P>|z|   [0.025  0.975]\n",
      "----------------------------------------------------------------\n",
      "pay_meth        -0.7309   0.0639 -11.4352 0.0000 -0.8562 -0.6057\n",
      "reliability      1.0876   0.0750  14.5015 0.0000  0.9406  1.2346\n",
      "variety          0.2563   0.0624   4.1077 0.0000  0.1340  0.3785\n",
      "prod_avail      -0.2840   0.0679  -4.1815 0.0000 -0.4171 -0.1509\n",
      "service          0.9611   0.0700  13.7297 0.0000  0.8239  1.0983\n",
      "price           -0.5705   0.0720  -7.9207 0.0000 -0.7116 -0.4293\n",
      "eshop_func       0.1267   0.0543   2.3325 0.0197  0.0202  0.2333\n",
      "condition       -0.0606   0.0541  -1.1202 0.2626 -0.1668  0.0455\n",
      "ship_time        0.1863   0.0469   3.9760 0.0001  0.0945  0.2781\n",
      "================================================================\n",
      "\n",
      "length of oversampled data is  10650\n",
      "Count of non-repurchase in oversampled data 5325\n",
      "Count of repurchases 5325\n",
      "Proportion of non- repurchase data in oversampled data is  0.5\n",
      "Proportion of repurchase data in oversampled data is  0.5\n",
      "Accuracy of logistic regression classifier on test set: 0.94"
     ]
    },
    {
     "name": "stderr",
     "output_type": "stream",
     "text": [
      "C:\\Users\\Pigi\\Anaconda3\\lib\\site-packages\\sklearn\\utils\\validation.py:72: DataConversionWarning: A column-vector y was passed when a 1d array was expected. Please change the shape of y to (n_samples, ), for example using ravel().\n",
      "  return f(**kwargs)\n"
     ]
    },
    {
     "name": "stdout",
     "output_type": "stream",
     "text": [
      "\n",
      "Logistic Regression AUC: 0.985\n"
     ]
    }
   ],
   "source": [
    "logreg_fitting(df_te2_bf1, True)"
   ]
  },
  {
   "cell_type": "code",
   "execution_count": 2711,
   "metadata": {},
   "outputs": [
    {
     "data": {
      "text/html": [
       "<div>\n",
       "<style scoped>\n",
       "    .dataframe tbody tr th:only-of-type {\n",
       "        vertical-align: middle;\n",
       "    }\n",
       "\n",
       "    .dataframe tbody tr th {\n",
       "        vertical-align: top;\n",
       "    }\n",
       "\n",
       "    .dataframe thead th {\n",
       "        text-align: right;\n",
       "    }\n",
       "</style>\n",
       "<table border=\"1\" class=\"dataframe\">\n",
       "  <thead>\n",
       "    <tr style=\"text-align: right;\">\n",
       "      <th></th>\n",
       "      <th>pay_meth</th>\n",
       "      <th>reliability</th>\n",
       "      <th>variety</th>\n",
       "      <th>prod_avail</th>\n",
       "      <th>service</th>\n",
       "      <th>price</th>\n",
       "      <th>eshop_func</th>\n",
       "      <th>condition</th>\n",
       "      <th>ship_time</th>\n",
       "    </tr>\n",
       "    <tr>\n",
       "      <th>repurchase</th>\n",
       "      <th></th>\n",
       "      <th></th>\n",
       "      <th></th>\n",
       "      <th></th>\n",
       "      <th></th>\n",
       "      <th></th>\n",
       "      <th></th>\n",
       "      <th></th>\n",
       "      <th></th>\n",
       "    </tr>\n",
       "  </thead>\n",
       "  <tbody>\n",
       "    <tr>\n",
       "      <th>0</th>\n",
       "      <td>3.715698</td>\n",
       "      <td>1.868974</td>\n",
       "      <td>2.500618</td>\n",
       "      <td>3.110012</td>\n",
       "      <td>1.741656</td>\n",
       "      <td>3.082818</td>\n",
       "      <td>2.479604</td>\n",
       "      <td>3.002472</td>\n",
       "      <td>2.253399</td>\n",
       "    </tr>\n",
       "    <tr>\n",
       "      <th>1</th>\n",
       "      <td>4.741465</td>\n",
       "      <td>4.550459</td>\n",
       "      <td>4.435705</td>\n",
       "      <td>4.466687</td>\n",
       "      <td>4.446985</td>\n",
       "      <td>4.216724</td>\n",
       "      <td>4.285005</td>\n",
       "      <td>4.733795</td>\n",
       "      <td>4.285306</td>\n",
       "    </tr>\n",
       "  </tbody>\n",
       "</table>\n",
       "</div>"
      ],
      "text/plain": [
       "            pay_meth  reliability   variety  prod_avail   service     price  \\\n",
       "repurchase                                                                    \n",
       "0           3.715698     1.868974  2.500618    3.110012  1.741656  3.082818   \n",
       "1           4.741465     4.550459  4.435705    4.466687  4.446985  4.216724   \n",
       "\n",
       "            eshop_func  condition  ship_time  \n",
       "repurchase                                    \n",
       "0             2.479604   3.002472   2.253399  \n",
       "1             4.285005   4.733795   4.285306  "
      ]
     },
     "execution_count": 2711,
     "metadata": {},
     "output_type": "execute_result"
    }
   ],
   "source": [
    "df_te2_bf1.groupby('repurchase').mean()"
   ]
  },
  {
   "cell_type": "markdown",
   "metadata": {},
   "source": [
    "#### Costumers with undelivered orders"
   ]
  },
  {
   "cell_type": "code",
   "execution_count": 2712,
   "metadata": {},
   "outputs": [
    {
     "name": "stdout",
     "output_type": "stream",
     "text": [
      "percentage of no repurchase is 55.800970873786405\n",
      "percentage of repurchase 44.19902912621359\n"
     ]
    }
   ],
   "source": [
    "repurchase_perc(df_te2_bf2)"
   ]
  },
  {
   "cell_type": "code",
   "execution_count": 2713,
   "metadata": {},
   "outputs": [
    {
     "name": "stdout",
     "output_type": "stream",
     "text": [
      "Optimization terminated successfully.\n",
      "         Current function value: 0.529184\n",
      "         Iterations 6\n",
      "Summary Of Results\n",
      "                          Results: Logit\n",
      "==================================================================\n",
      "Model:              Logit            Pseudo R-squared: 0.229      \n",
      "Dependent Variable: repurchase       AIC:              4374.4762  \n",
      "Date:               2021-02-04 17:26 BIC:              4418.7415  \n",
      "No. Observations:   4120             Log-Likelihood:   -2180.2    \n",
      "Df Model:           6                LL-Null:          -2828.0    \n",
      "Df Residuals:       4113             LLR p-value:      1.0339e-276\n",
      "Converged:          1.0000           Scale:            1.0000     \n",
      "No. Iterations:     6.0000                                        \n",
      "-------------------------------------------------------------------\n",
      "               Coef.   Std.Err.     z      P>|z|    [0.025   0.975]\n",
      "-------------------------------------------------------------------\n",
      "pay_meth      -0.5103    0.0401  -12.7364  0.0000  -0.5889  -0.4318\n",
      "reliability    0.7312    0.0491   14.9015  0.0000   0.6350   0.8273\n",
      "variety       -0.0127    0.0459   -0.2774  0.7815  -0.1026   0.0772\n",
      "prod_avail    -0.0643    0.0406   -1.5829  0.1134  -0.1439   0.0153\n",
      "service        0.5606    0.0520   10.7783  0.0000   0.4587   0.6625\n",
      "price         -0.3946    0.0459   -8.6014  0.0000  -0.4845  -0.3047\n",
      "eshop_func     0.0989    0.0405    2.4410  0.0146   0.0195   0.1782\n",
      "==================================================================\n",
      "\n",
      "Accuracy of logistic regression classifier on test set: 0.85\n",
      "Logistic Regression AUC: 0.930\n"
     ]
    },
    {
     "name": "stderr",
     "output_type": "stream",
     "text": [
      "C:\\Users\\Pigi\\Anaconda3\\lib\\site-packages\\sklearn\\utils\\validation.py:72: DataConversionWarning: A column-vector y was passed when a 1d array was expected. Please change the shape of y to (n_samples, ), for example using ravel().\n",
      "  return f(**kwargs)\n"
     ]
    }
   ],
   "source": [
    "logreg_fitting(df_te2_bf2 ,False)"
   ]
  },
  {
   "cell_type": "code",
   "execution_count": 2714,
   "metadata": {},
   "outputs": [
    {
     "data": {
      "text/html": [
       "<div>\n",
       "<style scoped>\n",
       "    .dataframe tbody tr th:only-of-type {\n",
       "        vertical-align: middle;\n",
       "    }\n",
       "\n",
       "    .dataframe tbody tr th {\n",
       "        vertical-align: top;\n",
       "    }\n",
       "\n",
       "    .dataframe thead th {\n",
       "        text-align: right;\n",
       "    }\n",
       "</style>\n",
       "<table border=\"1\" class=\"dataframe\">\n",
       "  <thead>\n",
       "    <tr style=\"text-align: right;\">\n",
       "      <th></th>\n",
       "      <th>pay_meth</th>\n",
       "      <th>reliability</th>\n",
       "      <th>variety</th>\n",
       "      <th>prod_avail</th>\n",
       "      <th>service</th>\n",
       "      <th>price</th>\n",
       "      <th>eshop_func</th>\n",
       "    </tr>\n",
       "    <tr>\n",
       "      <th>repurchase</th>\n",
       "      <th></th>\n",
       "      <th></th>\n",
       "      <th></th>\n",
       "      <th></th>\n",
       "      <th></th>\n",
       "      <th></th>\n",
       "      <th></th>\n",
       "    </tr>\n",
       "  </thead>\n",
       "  <tbody>\n",
       "    <tr>\n",
       "      <th>0</th>\n",
       "      <td>3.297086</td>\n",
       "      <td>1.671596</td>\n",
       "      <td>2.606351</td>\n",
       "      <td>2.513267</td>\n",
       "      <td>1.624619</td>\n",
       "      <td>2.711179</td>\n",
       "      <td>2.194432</td>\n",
       "    </tr>\n",
       "    <tr>\n",
       "      <th>1</th>\n",
       "      <td>4.410214</td>\n",
       "      <td>3.713893</td>\n",
       "      <td>3.951675</td>\n",
       "      <td>3.907743</td>\n",
       "      <td>3.496980</td>\n",
       "      <td>3.835805</td>\n",
       "      <td>3.702910</td>\n",
       "    </tr>\n",
       "  </tbody>\n",
       "</table>\n",
       "</div>"
      ],
      "text/plain": [
       "            pay_meth  reliability   variety  prod_avail   service     price  \\\n",
       "repurchase                                                                    \n",
       "0           3.297086     1.671596  2.606351    2.513267  1.624619  2.711179   \n",
       "1           4.410214     3.713893  3.951675    3.907743  3.496980  3.835805   \n",
       "\n",
       "            eshop_func  \n",
       "repurchase              \n",
       "0             2.194432  \n",
       "1             3.702910  "
      ]
     },
     "execution_count": 2714,
     "metadata": {},
     "output_type": "execute_result"
    }
   ],
   "source": [
    "df_te2_bf2.groupby('repurchase').mean()"
   ]
  },
  {
   "cell_type": "markdown",
   "metadata": {},
   "source": [
    "#### Xmas - Click away"
   ]
  },
  {
   "cell_type": "markdown",
   "metadata": {},
   "source": [
    "#### All costumers together"
   ]
  },
  {
   "cell_type": "code",
   "execution_count": 2715,
   "metadata": {},
   "outputs": [],
   "source": [
    "df_te2_xmas = one_date_more(df_t2_octob, 2020, 12, 13)"
   ]
  },
  {
   "cell_type": "code",
   "execution_count": 2716,
   "metadata": {},
   "outputs": [
    {
     "name": "stdout",
     "output_type": "stream",
     "text": [
      "percentage of no repurchase is 33.27679782903664\n",
      "percentage of repurchase 66.72320217096338\n"
     ]
    }
   ],
   "source": [
    "repurchase_perc(df_te2_xmas)"
   ]
  },
  {
   "cell_type": "code",
   "execution_count": 2717,
   "metadata": {},
   "outputs": [
    {
     "name": "stdout",
     "output_type": "stream",
     "text": [
      "Optimization terminated successfully.\n",
      "         Current function value: 0.358933\n",
      "         Iterations 7\n",
      "Summary Of Results\n",
      "                         Results: Logit\n",
      "================================================================\n",
      "Model:              Logit            Pseudo R-squared: 0.436    \n",
      "Dependent Variable: repurchase       AIC:              2130.2665\n",
      "Date:               2021-02-04 17:26 BIC:              2172.1886\n",
      "No. Observations:   2948             Log-Likelihood:   -1058.1  \n",
      "Df Model:           6                LL-Null:          -1875.3  \n",
      "Df Residuals:       2941             LLR p-value:      0.0000   \n",
      "Converged:          1.0000           Scale:            1.0000   \n",
      "No. Iterations:     7.0000                                      \n",
      "-----------------------------------------------------------------\n",
      "              Coef.   Std.Err.     z     P>|z|    [0.025   0.975]\n",
      "-----------------------------------------------------------------\n",
      "pay_meth     -0.5820    0.0611  -9.5286  0.0000  -0.7018  -0.4623\n",
      "price        -0.5246    0.0714  -7.3465  0.0000  -0.6646  -0.3847\n",
      "reliability   0.9755    0.0734  13.2953  0.0000   0.8317   1.1193\n",
      "variety      -0.0017    0.0670  -0.0253  0.9798  -0.1331   0.1297\n",
      "prod_avail   -0.0072    0.0650  -0.1101  0.9124  -0.1345   0.1202\n",
      "service       0.7007    0.0714   9.8193  0.0000   0.5608   0.8406\n",
      "eshop_func    0.0407    0.0613   0.6634  0.5070  -0.0795   0.1608\n",
      "================================================================\n",
      "\n",
      "Accuracy of logistic regression classifier on test set: 0.92\n",
      "Logistic Regression AUC: 0.976\n"
     ]
    },
    {
     "name": "stderr",
     "output_type": "stream",
     "text": [
      "C:\\Users\\Pigi\\Anaconda3\\lib\\site-packages\\sklearn\\utils\\validation.py:72: DataConversionWarning: A column-vector y was passed when a 1d array was expected. Please change the shape of y to (n_samples, ), for example using ravel().\n",
      "  return f(**kwargs)\n"
     ]
    }
   ],
   "source": [
    "logreg_fitting(df_te2_xmas, False)"
   ]
  },
  {
   "cell_type": "code",
   "execution_count": 2718,
   "metadata": {},
   "outputs": [
    {
     "data": {
      "text/html": [
       "<div>\n",
       "<style scoped>\n",
       "    .dataframe tbody tr th:only-of-type {\n",
       "        vertical-align: middle;\n",
       "    }\n",
       "\n",
       "    .dataframe tbody tr th {\n",
       "        vertical-align: top;\n",
       "    }\n",
       "\n",
       "    .dataframe thead th {\n",
       "        text-align: right;\n",
       "    }\n",
       "</style>\n",
       "<table border=\"1\" class=\"dataframe\">\n",
       "  <thead>\n",
       "    <tr style=\"text-align: right;\">\n",
       "      <th></th>\n",
       "      <th>pay_meth</th>\n",
       "      <th>price</th>\n",
       "      <th>reliability</th>\n",
       "      <th>variety</th>\n",
       "      <th>prod_avail</th>\n",
       "      <th>service</th>\n",
       "      <th>eshop_func</th>\n",
       "    </tr>\n",
       "    <tr>\n",
       "      <th>repurchase</th>\n",
       "      <th></th>\n",
       "      <th></th>\n",
       "      <th></th>\n",
       "      <th></th>\n",
       "      <th></th>\n",
       "      <th></th>\n",
       "      <th></th>\n",
       "    </tr>\n",
       "  </thead>\n",
       "  <tbody>\n",
       "    <tr>\n",
       "      <th>0</th>\n",
       "      <td>3.266055</td>\n",
       "      <td>2.742100</td>\n",
       "      <td>1.686035</td>\n",
       "      <td>2.551478</td>\n",
       "      <td>2.512742</td>\n",
       "      <td>1.636086</td>\n",
       "      <td>2.241590</td>\n",
       "    </tr>\n",
       "    <tr>\n",
       "      <th>1</th>\n",
       "      <td>4.664972</td>\n",
       "      <td>4.155567</td>\n",
       "      <td>4.349263</td>\n",
       "      <td>4.327911</td>\n",
       "      <td>4.350788</td>\n",
       "      <td>4.210473</td>\n",
       "      <td>4.265887</td>\n",
       "    </tr>\n",
       "  </tbody>\n",
       "</table>\n",
       "</div>"
      ],
      "text/plain": [
       "            pay_meth     price  reliability   variety  prod_avail   service  \\\n",
       "repurchase                                                                    \n",
       "0           3.266055  2.742100     1.686035  2.551478    2.512742  1.636086   \n",
       "1           4.664972  4.155567     4.349263  4.327911    4.350788  4.210473   \n",
       "\n",
       "            eshop_func  \n",
       "repurchase              \n",
       "0             2.241590  \n",
       "1             4.265887  "
      ]
     },
     "execution_count": 2718,
     "metadata": {},
     "output_type": "execute_result"
    }
   ],
   "source": [
    "df_te2_xmas.groupby('repurchase').mean()"
   ]
  },
  {
   "cell_type": "markdown",
   "metadata": {},
   "source": [
    "#### Costumers with delivered orders"
   ]
  },
  {
   "cell_type": "code",
   "execution_count": 2719,
   "metadata": {},
   "outputs": [],
   "source": [
    "df_te2_xmas1 = one_date_more(df_t2_oct1, 2020, 12, 13) "
   ]
  },
  {
   "cell_type": "code",
   "execution_count": 2720,
   "metadata": {},
   "outputs": [
    {
     "name": "stdout",
     "output_type": "stream",
     "text": [
      "percentage of no repurchase is 18.42256764536557\n",
      "percentage of repurchase 81.57743235463442\n"
     ]
    }
   ],
   "source": [
    "repurchase_perc(df_te2_xmas1)"
   ]
  },
  {
   "cell_type": "code",
   "execution_count": 2721,
   "metadata": {},
   "outputs": [
    {
     "name": "stdout",
     "output_type": "stream",
     "text": [
      "Optimization terminated successfully.\n",
      "         Current function value: 0.246347\n",
      "         Iterations 7\n",
      "Summary Of Results\n",
      "                          Results: Logit\n",
      "==================================================================\n",
      "Model:              Logit            Pseudo R-squared: 0.484      \n",
      "Dependent Variable: repurchase       AIC:              873.8100   \n",
      "Date:               2021-02-04 17:26 BIC:              922.9493   \n",
      "No. Observations:   1737             Log-Likelihood:   -427.91    \n",
      "Df Model:           8                LL-Null:          -829.84    \n",
      "Df Residuals:       1728             LLR p-value:      3.0278e-168\n",
      "Converged:          1.0000           Scale:            1.0000     \n",
      "No. Iterations:     7.0000                                        \n",
      "-------------------------------------------------------------------\n",
      "                Coef.   Std.Err.     z     P>|z|    [0.025   0.975]\n",
      "-------------------------------------------------------------------\n",
      "pay_meth       -0.7159    0.0836  -8.5664  0.0000  -0.8797  -0.5521\n",
      "reliability     0.3181    0.0817   3.8923  0.0001   0.1579   0.4782\n",
      "variety         0.0960    0.0776   1.2376  0.2159  -0.0560   0.2480\n",
      "prod_avail     -0.2632    0.0837  -3.1456  0.0017  -0.4272  -0.0992\n",
      "service         0.3379    0.0806   4.1924  0.0000   0.1799   0.4958\n",
      "price          -0.5699    0.0855  -6.6681  0.0000  -0.7374  -0.4024\n",
      "eshop_func     -0.0458    0.0760  -0.6026  0.5468  -0.1947   0.1031\n",
      "condition       0.9785    0.0894  10.9473  0.0000   0.8033   1.1537\n",
      "ship_time       0.5419    0.0728   7.4442  0.0000   0.3992   0.6846\n",
      "==================================================================\n"
     ]
    },
    {
     "name": "stderr",
     "output_type": "stream",
     "text": [
      "C:\\Users\\Pigi\\Anaconda3\\lib\\site-packages\\sklearn\\utils\\validation.py:72: DataConversionWarning: A column-vector y was passed when a 1d array was expected. Please change the shape of y to (n_samples, ), for example using ravel().\n",
      "  return f(**kwargs)\n"
     ]
    },
    {
     "name": "stdout",
     "output_type": "stream",
     "text": [
      "\n",
      "length of oversampled data is  2262\n",
      "Count of non-repurchase in oversampled data 1131\n",
      "Count of repurchases 1131\n",
      "Proportion of non- repurchase data in oversampled data is  0.5\n",
      "Proportion of repurchase data in oversampled data is  0.5\n",
      "Accuracy of logistic regression classifier on test set: 0.95\n",
      "Logistic Regression AUC: 0.981\n"
     ]
    }
   ],
   "source": [
    "logreg_fitting(df_te2_xmas1, True)"
   ]
  },
  {
   "cell_type": "code",
   "execution_count": 2722,
   "metadata": {},
   "outputs": [
    {
     "data": {
      "text/html": [
       "<div>\n",
       "<style scoped>\n",
       "    .dataframe tbody tr th:only-of-type {\n",
       "        vertical-align: middle;\n",
       "    }\n",
       "\n",
       "    .dataframe tbody tr th {\n",
       "        vertical-align: top;\n",
       "    }\n",
       "\n",
       "    .dataframe thead th {\n",
       "        text-align: right;\n",
       "    }\n",
       "</style>\n",
       "<table border=\"1\" class=\"dataframe\">\n",
       "  <thead>\n",
       "    <tr style=\"text-align: right;\">\n",
       "      <th></th>\n",
       "      <th>pay_meth</th>\n",
       "      <th>reliability</th>\n",
       "      <th>variety</th>\n",
       "      <th>prod_avail</th>\n",
       "      <th>service</th>\n",
       "      <th>price</th>\n",
       "      <th>eshop_func</th>\n",
       "      <th>condition</th>\n",
       "      <th>ship_time</th>\n",
       "    </tr>\n",
       "    <tr>\n",
       "      <th>repurchase</th>\n",
       "      <th></th>\n",
       "      <th></th>\n",
       "      <th></th>\n",
       "      <th></th>\n",
       "      <th></th>\n",
       "      <th></th>\n",
       "      <th></th>\n",
       "      <th></th>\n",
       "      <th></th>\n",
       "    </tr>\n",
       "  </thead>\n",
       "  <tbody>\n",
       "    <tr>\n",
       "      <th>0</th>\n",
       "      <td>3.400000</td>\n",
       "      <td>2.353125</td>\n",
       "      <td>2.515625</td>\n",
       "      <td>2.909375</td>\n",
       "      <td>2.278125</td>\n",
       "      <td>3.025000</td>\n",
       "      <td>2.753125</td>\n",
       "      <td>2.162500</td>\n",
       "      <td>1.693750</td>\n",
       "    </tr>\n",
       "    <tr>\n",
       "      <th>1</th>\n",
       "      <td>4.754411</td>\n",
       "      <td>4.582922</td>\n",
       "      <td>4.472830</td>\n",
       "      <td>4.507410</td>\n",
       "      <td>4.481299</td>\n",
       "      <td>4.265349</td>\n",
       "      <td>4.448130</td>\n",
       "      <td>4.779817</td>\n",
       "      <td>4.216655</td>\n",
       "    </tr>\n",
       "  </tbody>\n",
       "</table>\n",
       "</div>"
      ],
      "text/plain": [
       "            pay_meth  reliability   variety  prod_avail   service     price  \\\n",
       "repurchase                                                                    \n",
       "0           3.400000     2.353125  2.515625    2.909375  2.278125  3.025000   \n",
       "1           4.754411     4.582922  4.472830    4.507410  4.481299  4.265349   \n",
       "\n",
       "            eshop_func  condition  ship_time  \n",
       "repurchase                                    \n",
       "0             2.753125   2.162500   1.693750  \n",
       "1             4.448130   4.779817   4.216655  "
      ]
     },
     "execution_count": 2722,
     "metadata": {},
     "output_type": "execute_result"
    }
   ],
   "source": [
    "df_te2_xmas1.groupby('repurchase').mean()"
   ]
  },
  {
   "cell_type": "markdown",
   "metadata": {},
   "source": [
    "#### Costumers with undelivered orders"
   ]
  },
  {
   "cell_type": "code",
   "execution_count": 2723,
   "metadata": {},
   "outputs": [],
   "source": [
    "df_te2_xmas2 = one_date_more(df_t2_oct2 , 2020, 12, 13)"
   ]
  },
  {
   "cell_type": "code",
   "execution_count": 2724,
   "metadata": {},
   "outputs": [
    {
     "name": "stdout",
     "output_type": "stream",
     "text": [
      "percentage of no repurchase is 56.49122807017544\n",
      "percentage of repurchase 43.50877192982456\n"
     ]
    }
   ],
   "source": [
    "repurchase_perc(df_te2_xmas2)"
   ]
  },
  {
   "cell_type": "code",
   "execution_count": 2725,
   "metadata": {},
   "outputs": [
    {
     "name": "stdout",
     "output_type": "stream",
     "text": [
      "Optimization terminated successfully.\n",
      "         Current function value: 0.532314\n",
      "         Iterations 6\n",
      "Summary Of Results\n",
      "                         Results: Logit\n",
      "=================================================================\n",
      "Model:              Logit            Pseudo R-squared: 0.223     \n",
      "Dependent Variable: repurchase       AIC:              1531.0950 \n",
      "Date:               2021-02-04 17:26 BIC:              1567.9285 \n",
      "No. Observations:   1425             Log-Likelihood:   -758.55   \n",
      "Df Model:           6                LL-Null:          -975.69   \n",
      "Df Residuals:       1418             LLR p-value:      1.1798e-90\n",
      "Converged:          1.0000           Scale:            1.0000    \n",
      "No. Iterations:     6.0000                                       \n",
      "------------------------------------------------------------------\n",
      "               Coef.   Std.Err.     z     P>|z|    [0.025   0.975]\n",
      "------------------------------------------------------------------\n",
      "pay_meth      -0.3891    0.0695  -5.5959  0.0000  -0.5254  -0.2528\n",
      "reliability    0.9770    0.0866  11.2781  0.0000   0.8072   1.1468\n",
      "variety       -0.2888    0.0770  -3.7521  0.0002  -0.4396  -0.1379\n",
      "prod_avail     0.0067    0.0735   0.0912  0.9273  -0.1374   0.1508\n",
      "service        0.2978    0.0839   3.5489  0.0004   0.1333   0.4622\n",
      "price         -0.3996    0.0814  -4.9100  0.0000  -0.5591  -0.2401\n",
      "eshop_func     0.1694    0.0714   2.3746  0.0176   0.0296   0.3093\n",
      "=================================================================\n",
      "\n",
      "Accuracy of logistic regression classifier on test set: 0.87\n",
      "Logistic Regression AUC: 0.923\n"
     ]
    },
    {
     "name": "stderr",
     "output_type": "stream",
     "text": [
      "C:\\Users\\Pigi\\Anaconda3\\lib\\site-packages\\sklearn\\utils\\validation.py:72: DataConversionWarning: A column-vector y was passed when a 1d array was expected. Please change the shape of y to (n_samples, ), for example using ravel().\n",
      "  return f(**kwargs)\n"
     ]
    }
   ],
   "source": [
    "logreg_fitting(df_te2_xmas2 , False)"
   ]
  },
  {
   "cell_type": "code",
   "execution_count": 2726,
   "metadata": {},
   "outputs": [
    {
     "data": {
      "text/html": [
       "<div>\n",
       "<style scoped>\n",
       "    .dataframe tbody tr th:only-of-type {\n",
       "        vertical-align: middle;\n",
       "    }\n",
       "\n",
       "    .dataframe tbody tr th {\n",
       "        vertical-align: top;\n",
       "    }\n",
       "\n",
       "    .dataframe thead th {\n",
       "        text-align: right;\n",
       "    }\n",
       "</style>\n",
       "<table border=\"1\" class=\"dataframe\">\n",
       "  <thead>\n",
       "    <tr style=\"text-align: right;\">\n",
       "      <th></th>\n",
       "      <th>pay_meth</th>\n",
       "      <th>reliability</th>\n",
       "      <th>variety</th>\n",
       "      <th>prod_avail</th>\n",
       "      <th>service</th>\n",
       "      <th>price</th>\n",
       "      <th>eshop_func</th>\n",
       "    </tr>\n",
       "    <tr>\n",
       "      <th>repurchase</th>\n",
       "      <th></th>\n",
       "      <th></th>\n",
       "      <th></th>\n",
       "      <th></th>\n",
       "      <th></th>\n",
       "      <th></th>\n",
       "      <th></th>\n",
       "    </tr>\n",
       "  </thead>\n",
       "  <tbody>\n",
       "    <tr>\n",
       "      <th>0</th>\n",
       "      <td>3.195031</td>\n",
       "      <td>1.638509</td>\n",
       "      <td>2.603727</td>\n",
       "      <td>2.443478</td>\n",
       "      <td>1.624845</td>\n",
       "      <td>2.691925</td>\n",
       "      <td>2.170186</td>\n",
       "    </tr>\n",
       "    <tr>\n",
       "      <th>1</th>\n",
       "      <td>4.440323</td>\n",
       "      <td>3.751613</td>\n",
       "      <td>3.812903</td>\n",
       "      <td>3.916129</td>\n",
       "      <td>3.430645</td>\n",
       "      <td>3.909677</td>\n",
       "      <td>3.750000</td>\n",
       "    </tr>\n",
       "  </tbody>\n",
       "</table>\n",
       "</div>"
      ],
      "text/plain": [
       "            pay_meth  reliability   variety  prod_avail   service     price  \\\n",
       "repurchase                                                                    \n",
       "0           3.195031     1.638509  2.603727    2.443478  1.624845  2.691925   \n",
       "1           4.440323     3.751613  3.812903    3.916129  3.430645  3.909677   \n",
       "\n",
       "            eshop_func  \n",
       "repurchase              \n",
       "0             2.170186  \n",
       "1             3.750000  "
      ]
     },
     "execution_count": 2726,
     "metadata": {},
     "output_type": "execute_result"
    }
   ],
   "source": [
    "df_te2_xmas2.groupby('repurchase').mean()"
   ]
  },
  {
   "cell_type": "code",
   "execution_count": null,
   "metadata": {},
   "outputs": [],
   "source": []
  }
 ],
 "metadata": {
  "kernelspec": {
   "display_name": "Python 3",
   "language": "python",
   "name": "python3"
  },
  "language_info": {
   "codemirror_mode": {
    "name": "ipython",
    "version": 3
   },
   "file_extension": ".py",
   "mimetype": "text/x-python",
   "name": "python",
   "nbconvert_exporter": "python",
   "pygments_lexer": "ipython3",
   "version": "3.7.1"
  }
 },
 "nbformat": 4,
 "nbformat_minor": 2
}
